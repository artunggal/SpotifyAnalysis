{
 "cells": [
  {
   "cell_type": "code",
   "execution_count": 1,
   "metadata": {},
   "outputs": [
    {
     "data": {
      "text/html": [
       "        <script type=\"text/javascript\">\n",
       "        window.PlotlyConfig = {MathJaxConfig: 'local'};\n",
       "        if (window.MathJax) {MathJax.Hub.Config({SVG: {font: \"STIX-Web\"}});}\n",
       "        if (typeof require !== 'undefined') {\n",
       "        require.undef(\"plotly\");\n",
       "        requirejs.config({\n",
       "            paths: {\n",
       "                'plotly': ['https://cdn.plot.ly/plotly-latest.min']\n",
       "            }\n",
       "        });\n",
       "        require(['plotly'], function(Plotly) {\n",
       "            window._Plotly = Plotly;\n",
       "        });\n",
       "        }\n",
       "        </script>\n",
       "        "
      ]
     },
     "metadata": {},
     "output_type": "display_data"
    }
   ],
   "source": [
    "import numpy as np\n",
    "import pandas as pd\n",
    "import seaborn as sns\n",
    "import spotipy\n",
    "import spotipy.util as util\n",
    "from spotipy.oauth2 import SpotifyClientCredentials\n",
    "import sys\n",
    "\n",
    "from vaderSentiment.vaderSentiment import SentimentIntensityAnalyzer\n",
    "\n",
    "from ipywidgets import widgets, interactive\n",
    "import plotly.figure_factory as ff\n",
    "import plotly.graph_objs as go\n",
    "from IPython.display import HTML\n",
    "from plotly.offline import init_notebook_mode, iplot\n",
    "init_notebook_mode(connected=True)"
   ]
  },
  {
   "cell_type": "markdown",
   "metadata": {},
   "source": [
    "# Spotify Audio Feature Analysis"
   ]
  },
  {
   "cell_type": "markdown",
   "metadata": {},
   "source": [
    "I was curious about what Spotify's API wass like, and what features it had for musical analysis. There are a lot of thoughts I have regarding musical analysis,a and I wanted to see if I could find data-driven insights regarding how we listen to our music. We will have the opportunity to apply what we have here to different Spotify-related projects.\n",
    "\n",
    "To begin, you will need to go to [Spotify's Developers page](https://developer.spotify.com/discover/). Follow the instructions to sign up to be a developer, which will connect with your Spotify account. From there you can get credentials that you will need for the following script. The page also has further information on the features that we will be analyzing.\n",
    "\n",
    "The first script below is what I used to utilize the spotify app. However, because you need client credentials, I left the client_id and client_secret blank for the user to fill out. I use the script below that to get my access to the API. It won't work for you to run it."
   ]
  },
  {
   "cell_type": "code",
   "execution_count": 3,
   "metadata": {},
   "outputs": [],
   "source": [
    "import spotipy\n",
    "from spotipy.oauth2 import SpotifyClientCredentials\n",
    "\n",
    "client_credentials_manager = SpotifyClientCredentials(client_id='FILL IN THE BLANK',\n",
    "                            client_secret='FILL IN THE BLANK')\n",
    "sp = spotipy.Spotify(client_credentials_manager=client_credentials_manager)\n",
    "\n",
    "playlists = sp.user_playlists('spotify')\n",
    "#while playlists:\n",
    "#    for i, playlist in enumerate(playlists['items']):\n",
    "#        print(\"%4d %s %s\" % (i + 1 + playlists['offset'], playlist['uri'],  playlist['name']))\n",
    "#    if playlists['next']:\n",
    "#        playlists = sp.next(playlists)\n",
    "#    else:\n",
    "#        playlists = None"
   ]
  },
  {
   "cell_type": "code",
   "execution_count": 3,
   "metadata": {},
   "outputs": [],
   "source": [
    "%run -i 'client_id_script.py'"
   ]
  },
  {
   "cell_type": "markdown",
   "metadata": {},
   "source": [
    "## Artist Analysis\n",
    "\n",
    "At this point there are a lot of avenues one can take to explore Spotify's vast collection of data. You can explore your own personal usage data, or you can explore artists and data related to their music. For the time being, we will do the latter.\n",
    "\n",
    "I noticed that in R, the wrapper \"spotifyr\" has a neat package that includes a function to get the audio features of an artist. I recreate that here, which will make it easier to navigate exploring an artist's songs and albums."
   ]
  },
  {
   "cell_type": "code",
   "execution_count": 4,
   "metadata": {},
   "outputs": [],
   "source": [
    "# obtains the artist_id of a desired artist\n",
    "def get_artist(name):\n",
    "    results = sp.search(q='artist:' + name, type='artist')\n",
    "    items = results['artists']['items']\n",
    "    if len(items) > 0:\n",
    "        return items[0]\n",
    "    else:\n",
    "        return None"
   ]
  },
  {
   "cell_type": "code",
   "execution_count": 5,
   "metadata": {},
   "outputs": [],
   "source": [
    "# obtains all the albums assoiated with a particular artist\n",
    "def artist_albums(name):\n",
    "    albums = pd.DataFrame(columns = [\"Album Name\", \"Album URI\"])\n",
    "    i = 0\n",
    "    for album in sp.artist_albums(get_artist(name)[\"uri\"])[\"items\"]:\n",
    "        if album[\"album_type\"] == 'single':\n",
    "            continue\n",
    "        to_append = [album[\"name\"], album[\"uri\"]]\n",
    "        albums.loc[i] = to_append\n",
    "        i += 1\n",
    "    return albums"
   ]
  },
  {
   "cell_type": "code",
   "execution_count": 6,
   "metadata": {},
   "outputs": [],
   "source": [
    "# retrieves audio features for an album given the album uri\n",
    "def album_audio_features(album_uri):\n",
    "    audio = pd.DataFrame()\n",
    "    for song in sp.album_tracks(album_uri)['items']:\n",
    "        df = pd.DataFrame([sp.audio_features(song[\"uri\"])[0]])\n",
    "        df[\"Name\"] = song[\"name\"]\n",
    "        cols = df.columns.tolist()\n",
    "        cols = cols[-1:] + cols[:-1]\n",
    "        df = df[cols]\n",
    "        if audio.empty:\n",
    "            audio = df\n",
    "        else:\n",
    "            audio = pd.concat([audio, df])\n",
    "    audio = audio.reset_index(drop=True)\n",
    "    return audio"
   ]
  },
  {
   "cell_type": "code",
   "execution_count": 7,
   "metadata": {},
   "outputs": [],
   "source": [
    "# obtains the audio features of every song by the artist on Spotify\n",
    "# note: takes a while to run per artist\n",
    "def get_artist_audio_features(name):\n",
    "    uri = get_artist(name)[\"uri\"]\n",
    "    artist = pd.DataFrame()\n",
    "    for album in sp.artist_albums(uri)[\"items\"]:\n",
    "        for song in sp.album_tracks(album[\"uri\"])[\"items\"]:\n",
    "            df = pd.DataFrame([sp.audio_features(song[\"uri\"])[0]])\n",
    "            df[\"Name\"] = song[\"name\"]\n",
    "            cols = df.columns.tolist()\n",
    "            cols = cols[-1:] + cols[:-1]\n",
    "            df = df[cols]\n",
    "            if artist.empty:\n",
    "                artist = df\n",
    "            else:\n",
    "                artist = pd.concat([artist, df])\n",
    "    return artist"
   ]
  },
  {
   "cell_type": "markdown",
   "metadata": {},
   "source": [
    "Below we will show examples of what it looks like to use these functions:"
   ]
  },
  {
   "cell_type": "code",
   "execution_count": 8,
   "metadata": {},
   "outputs": [
    {
     "data": {
      "text/html": [
       "<div>\n",
       "<style scoped>\n",
       "    .dataframe tbody tr th:only-of-type {\n",
       "        vertical-align: middle;\n",
       "    }\n",
       "\n",
       "    .dataframe tbody tr th {\n",
       "        vertical-align: top;\n",
       "    }\n",
       "\n",
       "    .dataframe thead th {\n",
       "        text-align: right;\n",
       "    }\n",
       "</style>\n",
       "<table border=\"1\" class=\"dataframe\">\n",
       "  <thead>\n",
       "    <tr style=\"text-align: right;\">\n",
       "      <th></th>\n",
       "      <th>Album Name</th>\n",
       "      <th>Album URI</th>\n",
       "    </tr>\n",
       "  </thead>\n",
       "  <tbody>\n",
       "    <tr>\n",
       "      <th>0</th>\n",
       "      <td>The Search for Everything</td>\n",
       "      <td>spotify:album:0jZFu2tihRJ65iYAo0oOtP</td>\n",
       "    </tr>\n",
       "    <tr>\n",
       "      <th>1</th>\n",
       "      <td>Paradise Valley</td>\n",
       "      <td>spotify:album:712VoD72K500yLhhgqCyVe</td>\n",
       "    </tr>\n",
       "    <tr>\n",
       "      <th>2</th>\n",
       "      <td>Born and Raised</td>\n",
       "      <td>spotify:album:6S0BIiWtnqU0PtumXMpin0</td>\n",
       "    </tr>\n",
       "    <tr>\n",
       "      <th>3</th>\n",
       "      <td>Battle Studies</td>\n",
       "      <td>spotify:album:1V5vQRMWTNGmqwxY8jMVou</td>\n",
       "    </tr>\n",
       "    <tr>\n",
       "      <th>4</th>\n",
       "      <td>Where the Light Is: John Mayer Live In Los Ang...</td>\n",
       "      <td>spotify:album:4Dgxy95K9BWkDUvQPTaYBb</td>\n",
       "    </tr>\n",
       "    <tr>\n",
       "      <th>5</th>\n",
       "      <td>Continuum</td>\n",
       "      <td>spotify:album:1Xsprdt1q9rOzTic7b9zYM</td>\n",
       "    </tr>\n",
       "    <tr>\n",
       "      <th>6</th>\n",
       "      <td>As/Is</td>\n",
       "      <td>spotify:album:1QRIX6BuSGegYwiAZOv4R5</td>\n",
       "    </tr>\n",
       "    <tr>\n",
       "      <th>7</th>\n",
       "      <td>As/Is: Cleveland/Cincinnati, OH - 8/03-8/04/04</td>\n",
       "      <td>spotify:album:0u3x6X6FRE23fJEhPJoo6Q</td>\n",
       "    </tr>\n",
       "    <tr>\n",
       "      <th>8</th>\n",
       "      <td>As/Is: Houston, TX - 7/24/04</td>\n",
       "      <td>spotify:album:4rBHg7R3tDXJirsOrp4vG4</td>\n",
       "    </tr>\n",
       "    <tr>\n",
       "      <th>9</th>\n",
       "      <td>As/Is: Philadelphia, PA/Hartford, CT - 8/14-8/...</td>\n",
       "      <td>spotify:album:1hC2L9ZBeCSUsh6w3xzqN7</td>\n",
       "    </tr>\n",
       "    <tr>\n",
       "      <th>10</th>\n",
       "      <td>As/Is: Houston, TX - 7/24/04</td>\n",
       "      <td>spotify:album:5gsTckUr9I4z7uFHMheffb</td>\n",
       "    </tr>\n",
       "    <tr>\n",
       "      <th>11</th>\n",
       "      <td>As/Is: Mountain View, CA - 7/16/04</td>\n",
       "      <td>spotify:album:4ZxNekqkeVlCYcNdD0mnD7</td>\n",
       "    </tr>\n",
       "    <tr>\n",
       "      <th>12</th>\n",
       "      <td>Heavier Things</td>\n",
       "      <td>spotify:album:6WivmTXugLZLmAWnZhlz7g</td>\n",
       "    </tr>\n",
       "    <tr>\n",
       "      <th>13</th>\n",
       "      <td>Any Given Thursday</td>\n",
       "      <td>spotify:album:63dnCQnCOfPpLQU1aZvKE7</td>\n",
       "    </tr>\n",
       "    <tr>\n",
       "      <th>14</th>\n",
       "      <td>Any Given Thursday</td>\n",
       "      <td>spotify:album:31Q7DQ751hbCO98r1ODhGt</td>\n",
       "    </tr>\n",
       "    <tr>\n",
       "      <th>15</th>\n",
       "      <td>Room For Squares</td>\n",
       "      <td>spotify:album:3yHOaiXecTJVUdn7mApZ48</td>\n",
       "    </tr>\n",
       "    <tr>\n",
       "      <th>16</th>\n",
       "      <td>Inside Wants Out</td>\n",
       "      <td>spotify:album:5KMP6XLSrhsswEuN2A9VO2</td>\n",
       "    </tr>\n",
       "  </tbody>\n",
       "</table>\n",
       "</div>"
      ],
      "text/plain": [
       "                                           Album Name  \\\n",
       "0                           The Search for Everything   \n",
       "1                                     Paradise Valley   \n",
       "2                                     Born and Raised   \n",
       "3                                      Battle Studies   \n",
       "4   Where the Light Is: John Mayer Live In Los Ang...   \n",
       "5                                           Continuum   \n",
       "6                                               As/Is   \n",
       "7      As/Is: Cleveland/Cincinnati, OH - 8/03-8/04/04   \n",
       "8                        As/Is: Houston, TX - 7/24/04   \n",
       "9   As/Is: Philadelphia, PA/Hartford, CT - 8/14-8/...   \n",
       "10                       As/Is: Houston, TX - 7/24/04   \n",
       "11                 As/Is: Mountain View, CA - 7/16/04   \n",
       "12                                     Heavier Things   \n",
       "13                                 Any Given Thursday   \n",
       "14                                 Any Given Thursday   \n",
       "15                                   Room For Squares   \n",
       "16                                   Inside Wants Out   \n",
       "\n",
       "                               Album URI  \n",
       "0   spotify:album:0jZFu2tihRJ65iYAo0oOtP  \n",
       "1   spotify:album:712VoD72K500yLhhgqCyVe  \n",
       "2   spotify:album:6S0BIiWtnqU0PtumXMpin0  \n",
       "3   spotify:album:1V5vQRMWTNGmqwxY8jMVou  \n",
       "4   spotify:album:4Dgxy95K9BWkDUvQPTaYBb  \n",
       "5   spotify:album:1Xsprdt1q9rOzTic7b9zYM  \n",
       "6   spotify:album:1QRIX6BuSGegYwiAZOv4R5  \n",
       "7   spotify:album:0u3x6X6FRE23fJEhPJoo6Q  \n",
       "8   spotify:album:4rBHg7R3tDXJirsOrp4vG4  \n",
       "9   spotify:album:1hC2L9ZBeCSUsh6w3xzqN7  \n",
       "10  spotify:album:5gsTckUr9I4z7uFHMheffb  \n",
       "11  spotify:album:4ZxNekqkeVlCYcNdD0mnD7  \n",
       "12  spotify:album:6WivmTXugLZLmAWnZhlz7g  \n",
       "13  spotify:album:63dnCQnCOfPpLQU1aZvKE7  \n",
       "14  spotify:album:31Q7DQ751hbCO98r1ODhGt  \n",
       "15  spotify:album:3yHOaiXecTJVUdn7mApZ48  \n",
       "16  spotify:album:5KMP6XLSrhsswEuN2A9VO2  "
      ]
     },
     "execution_count": 8,
     "metadata": {},
     "output_type": "execute_result"
    }
   ],
   "source": [
    "artist_albums(\"John Mayer\")"
   ]
  },
  {
   "cell_type": "code",
   "execution_count": 9,
   "metadata": {},
   "outputs": [
    {
     "data": {
      "text/html": [
       "<div>\n",
       "<style scoped>\n",
       "    .dataframe tbody tr th:only-of-type {\n",
       "        vertical-align: middle;\n",
       "    }\n",
       "\n",
       "    .dataframe tbody tr th {\n",
       "        vertical-align: top;\n",
       "    }\n",
       "\n",
       "    .dataframe thead th {\n",
       "        text-align: right;\n",
       "    }\n",
       "</style>\n",
       "<table border=\"1\" class=\"dataframe\">\n",
       "  <thead>\n",
       "    <tr style=\"text-align: right;\">\n",
       "      <th></th>\n",
       "      <th>Name</th>\n",
       "      <th>acousticness</th>\n",
       "      <th>analysis_url</th>\n",
       "      <th>danceability</th>\n",
       "      <th>duration_ms</th>\n",
       "      <th>energy</th>\n",
       "      <th>id</th>\n",
       "      <th>instrumentalness</th>\n",
       "      <th>key</th>\n",
       "      <th>liveness</th>\n",
       "      <th>loudness</th>\n",
       "      <th>mode</th>\n",
       "      <th>speechiness</th>\n",
       "      <th>tempo</th>\n",
       "      <th>time_signature</th>\n",
       "      <th>track_href</th>\n",
       "      <th>type</th>\n",
       "      <th>uri</th>\n",
       "      <th>valence</th>\n",
       "    </tr>\n",
       "  </thead>\n",
       "  <tbody>\n",
       "    <tr>\n",
       "      <th>0</th>\n",
       "      <td>No Such Thing</td>\n",
       "      <td>0.0383</td>\n",
       "      <td>https://api.spotify.com/v1/audio-analysis/6Vec...</td>\n",
       "      <td>0.668</td>\n",
       "      <td>231467</td>\n",
       "      <td>0.739</td>\n",
       "      <td>6Vecwo7AHst9V2CE3kmwr0</td>\n",
       "      <td>0.000000</td>\n",
       "      <td>4</td>\n",
       "      <td>0.1300</td>\n",
       "      <td>-4.919</td>\n",
       "      <td>1</td>\n",
       "      <td>0.0308</td>\n",
       "      <td>131.918</td>\n",
       "      <td>4</td>\n",
       "      <td>https://api.spotify.com/v1/tracks/6Vecwo7AHst9...</td>\n",
       "      <td>audio_features</td>\n",
       "      <td>spotify:track:6Vecwo7AHst9V2CE3kmwr0</td>\n",
       "      <td>0.571</td>\n",
       "    </tr>\n",
       "    <tr>\n",
       "      <th>1</th>\n",
       "      <td>Why Georgia</td>\n",
       "      <td>0.0208</td>\n",
       "      <td>https://api.spotify.com/v1/audio-analysis/1c7U...</td>\n",
       "      <td>0.608</td>\n",
       "      <td>268973</td>\n",
       "      <td>0.639</td>\n",
       "      <td>1c7UYTut2SBOPq64o2t0uN</td>\n",
       "      <td>0.000059</td>\n",
       "      <td>7</td>\n",
       "      <td>0.0893</td>\n",
       "      <td>-7.205</td>\n",
       "      <td>1</td>\n",
       "      <td>0.0246</td>\n",
       "      <td>96.915</td>\n",
       "      <td>4</td>\n",
       "      <td>https://api.spotify.com/v1/tracks/1c7UYTut2SBO...</td>\n",
       "      <td>audio_features</td>\n",
       "      <td>spotify:track:1c7UYTut2SBOPq64o2t0uN</td>\n",
       "      <td>0.369</td>\n",
       "    </tr>\n",
       "    <tr>\n",
       "      <th>2</th>\n",
       "      <td>My Stupid Mouth</td>\n",
       "      <td>0.0143</td>\n",
       "      <td>https://api.spotify.com/v1/audio-analysis/3jFP...</td>\n",
       "      <td>0.608</td>\n",
       "      <td>223960</td>\n",
       "      <td>0.603</td>\n",
       "      <td>3jFP1e8IUpD9QbltEI1Hcg</td>\n",
       "      <td>0.000012</td>\n",
       "      <td>2</td>\n",
       "      <td>0.0833</td>\n",
       "      <td>-6.792</td>\n",
       "      <td>1</td>\n",
       "      <td>0.0271</td>\n",
       "      <td>88.824</td>\n",
       "      <td>4</td>\n",
       "      <td>https://api.spotify.com/v1/tracks/3jFP1e8IUpD9...</td>\n",
       "      <td>audio_features</td>\n",
       "      <td>spotify:track:3jFP1e8IUpD9QbltEI1Hcg</td>\n",
       "      <td>0.490</td>\n",
       "    </tr>\n",
       "    <tr>\n",
       "      <th>3</th>\n",
       "      <td>Your Body Is a Wonderland</td>\n",
       "      <td>0.0206</td>\n",
       "      <td>https://api.spotify.com/v1/audio-analysis/7vFv...</td>\n",
       "      <td>0.647</td>\n",
       "      <td>249627</td>\n",
       "      <td>0.729</td>\n",
       "      <td>7vFv0yFGMJW3qVXbAd9BK9</td>\n",
       "      <td>0.048900</td>\n",
       "      <td>5</td>\n",
       "      <td>0.1340</td>\n",
       "      <td>-6.251</td>\n",
       "      <td>1</td>\n",
       "      <td>0.0236</td>\n",
       "      <td>94.010</td>\n",
       "      <td>4</td>\n",
       "      <td>https://api.spotify.com/v1/tracks/7vFv0yFGMJW3...</td>\n",
       "      <td>audio_features</td>\n",
       "      <td>spotify:track:7vFv0yFGMJW3qVXbAd9BK9</td>\n",
       "      <td>0.687</td>\n",
       "    </tr>\n",
       "    <tr>\n",
       "      <th>4</th>\n",
       "      <td>Neon</td>\n",
       "      <td>0.0181</td>\n",
       "      <td>https://api.spotify.com/v1/audio-analysis/7Koh...</td>\n",
       "      <td>0.699</td>\n",
       "      <td>262107</td>\n",
       "      <td>0.770</td>\n",
       "      <td>7Kohy4v3KLWfUXlv9N3feB</td>\n",
       "      <td>0.000138</td>\n",
       "      <td>5</td>\n",
       "      <td>0.0644</td>\n",
       "      <td>-7.658</td>\n",
       "      <td>0</td>\n",
       "      <td>0.0360</td>\n",
       "      <td>101.984</td>\n",
       "      <td>4</td>\n",
       "      <td>https://api.spotify.com/v1/tracks/7Kohy4v3KLWf...</td>\n",
       "      <td>audio_features</td>\n",
       "      <td>spotify:track:7Kohy4v3KLWfUXlv9N3feB</td>\n",
       "      <td>0.589</td>\n",
       "    </tr>\n",
       "  </tbody>\n",
       "</table>\n",
       "</div>"
      ],
      "text/plain": [
       "                        Name  acousticness  \\\n",
       "0              No Such Thing        0.0383   \n",
       "1                Why Georgia        0.0208   \n",
       "2            My Stupid Mouth        0.0143   \n",
       "3  Your Body Is a Wonderland        0.0206   \n",
       "4                       Neon        0.0181   \n",
       "\n",
       "                                        analysis_url  danceability  \\\n",
       "0  https://api.spotify.com/v1/audio-analysis/6Vec...         0.668   \n",
       "1  https://api.spotify.com/v1/audio-analysis/1c7U...         0.608   \n",
       "2  https://api.spotify.com/v1/audio-analysis/3jFP...         0.608   \n",
       "3  https://api.spotify.com/v1/audio-analysis/7vFv...         0.647   \n",
       "4  https://api.spotify.com/v1/audio-analysis/7Koh...         0.699   \n",
       "\n",
       "   duration_ms  energy                      id  instrumentalness  key  \\\n",
       "0       231467   0.739  6Vecwo7AHst9V2CE3kmwr0          0.000000    4   \n",
       "1       268973   0.639  1c7UYTut2SBOPq64o2t0uN          0.000059    7   \n",
       "2       223960   0.603  3jFP1e8IUpD9QbltEI1Hcg          0.000012    2   \n",
       "3       249627   0.729  7vFv0yFGMJW3qVXbAd9BK9          0.048900    5   \n",
       "4       262107   0.770  7Kohy4v3KLWfUXlv9N3feB          0.000138    5   \n",
       "\n",
       "   liveness  loudness  mode  speechiness    tempo  time_signature  \\\n",
       "0    0.1300    -4.919     1       0.0308  131.918               4   \n",
       "1    0.0893    -7.205     1       0.0246   96.915               4   \n",
       "2    0.0833    -6.792     1       0.0271   88.824               4   \n",
       "3    0.1340    -6.251     1       0.0236   94.010               4   \n",
       "4    0.0644    -7.658     0       0.0360  101.984               4   \n",
       "\n",
       "                                          track_href            type  \\\n",
       "0  https://api.spotify.com/v1/tracks/6Vecwo7AHst9...  audio_features   \n",
       "1  https://api.spotify.com/v1/tracks/1c7UYTut2SBO...  audio_features   \n",
       "2  https://api.spotify.com/v1/tracks/3jFP1e8IUpD9...  audio_features   \n",
       "3  https://api.spotify.com/v1/tracks/7vFv0yFGMJW3...  audio_features   \n",
       "4  https://api.spotify.com/v1/tracks/7Kohy4v3KLWf...  audio_features   \n",
       "\n",
       "                                    uri  valence  \n",
       "0  spotify:track:6Vecwo7AHst9V2CE3kmwr0    0.571  \n",
       "1  spotify:track:1c7UYTut2SBOPq64o2t0uN    0.369  \n",
       "2  spotify:track:3jFP1e8IUpD9QbltEI1Hcg    0.490  \n",
       "3  spotify:track:7vFv0yFGMJW3qVXbAd9BK9    0.687  \n",
       "4  spotify:track:7Kohy4v3KLWfUXlv9N3feB    0.589  "
      ]
     },
     "execution_count": 9,
     "metadata": {},
     "output_type": "execute_result"
    }
   ],
   "source": [
    "album_audio_features('spotify:album:3yHOaiXecTJVUdn7mApZ48').head()"
   ]
  },
  {
   "cell_type": "code",
   "execution_count": 99,
   "metadata": {},
   "outputs": [
    {
     "data": {
      "text/html": [
       "<div>\n",
       "<style scoped>\n",
       "    .dataframe tbody tr th:only-of-type {\n",
       "        vertical-align: middle;\n",
       "    }\n",
       "\n",
       "    .dataframe tbody tr th {\n",
       "        vertical-align: top;\n",
       "    }\n",
       "\n",
       "    .dataframe thead th {\n",
       "        text-align: right;\n",
       "    }\n",
       "</style>\n",
       "<table border=\"1\" class=\"dataframe\">\n",
       "  <thead>\n",
       "    <tr style=\"text-align: right;\">\n",
       "      <th></th>\n",
       "      <th>Name</th>\n",
       "      <th>acousticness</th>\n",
       "      <th>analysis_url</th>\n",
       "      <th>danceability</th>\n",
       "      <th>duration_ms</th>\n",
       "      <th>energy</th>\n",
       "      <th>id</th>\n",
       "      <th>instrumentalness</th>\n",
       "      <th>key</th>\n",
       "      <th>liveness</th>\n",
       "      <th>loudness</th>\n",
       "      <th>mode</th>\n",
       "      <th>speechiness</th>\n",
       "      <th>tempo</th>\n",
       "      <th>time_signature</th>\n",
       "      <th>track_href</th>\n",
       "      <th>type</th>\n",
       "      <th>uri</th>\n",
       "      <th>valence</th>\n",
       "    </tr>\n",
       "  </thead>\n",
       "  <tbody>\n",
       "    <tr>\n",
       "      <th>0</th>\n",
       "      <td>Still Feel Like Your Man</td>\n",
       "      <td>0.547</td>\n",
       "      <td>https://api.spotify.com/v1/audio-analysis/1LM6...</td>\n",
       "      <td>0.858</td>\n",
       "      <td>234920</td>\n",
       "      <td>0.600</td>\n",
       "      <td>1LM6t24SjQr2bJHqeGIR4U</td>\n",
       "      <td>0.001130</td>\n",
       "      <td>2</td>\n",
       "      <td>0.1320</td>\n",
       "      <td>-6.677</td>\n",
       "      <td>1</td>\n",
       "      <td>0.0630</td>\n",
       "      <td>106.023</td>\n",
       "      <td>4</td>\n",
       "      <td>https://api.spotify.com/v1/tracks/1LM6t24SjQr2...</td>\n",
       "      <td>audio_features</td>\n",
       "      <td>spotify:track:1LM6t24SjQr2bJHqeGIR4U</td>\n",
       "      <td>0.513</td>\n",
       "    </tr>\n",
       "    <tr>\n",
       "      <th>0</th>\n",
       "      <td>Emoji of a Wave</td>\n",
       "      <td>0.771</td>\n",
       "      <td>https://api.spotify.com/v1/audio-analysis/5ddX...</td>\n",
       "      <td>0.494</td>\n",
       "      <td>239667</td>\n",
       "      <td>0.365</td>\n",
       "      <td>5ddXMXmXZ2FN4iliTG20nO</td>\n",
       "      <td>0.000978</td>\n",
       "      <td>11</td>\n",
       "      <td>0.1390</td>\n",
       "      <td>-8.920</td>\n",
       "      <td>1</td>\n",
       "      <td>0.0279</td>\n",
       "      <td>165.766</td>\n",
       "      <td>4</td>\n",
       "      <td>https://api.spotify.com/v1/tracks/5ddXMXmXZ2FN...</td>\n",
       "      <td>audio_features</td>\n",
       "      <td>spotify:track:5ddXMXmXZ2FN4iliTG20nO</td>\n",
       "      <td>0.191</td>\n",
       "    </tr>\n",
       "    <tr>\n",
       "      <th>0</th>\n",
       "      <td>Helpless</td>\n",
       "      <td>0.151</td>\n",
       "      <td>https://api.spotify.com/v1/audio-analysis/701D...</td>\n",
       "      <td>0.761</td>\n",
       "      <td>249120</td>\n",
       "      <td>0.598</td>\n",
       "      <td>701DK0It9f7iurRnzKvF0y</td>\n",
       "      <td>0.002590</td>\n",
       "      <td>9</td>\n",
       "      <td>0.0314</td>\n",
       "      <td>-5.838</td>\n",
       "      <td>0</td>\n",
       "      <td>0.0268</td>\n",
       "      <td>103.978</td>\n",
       "      <td>4</td>\n",
       "      <td>https://api.spotify.com/v1/tracks/701DK0It9f7i...</td>\n",
       "      <td>audio_features</td>\n",
       "      <td>spotify:track:701DK0It9f7iurRnzKvF0y</td>\n",
       "      <td>0.937</td>\n",
       "    </tr>\n",
       "    <tr>\n",
       "      <th>0</th>\n",
       "      <td>Love on the Weekend</td>\n",
       "      <td>0.623</td>\n",
       "      <td>https://api.spotify.com/v1/audio-analysis/0oiC...</td>\n",
       "      <td>0.718</td>\n",
       "      <td>212320</td>\n",
       "      <td>0.583</td>\n",
       "      <td>0oiCeOPwm4zhwfyIpAE37y</td>\n",
       "      <td>0.000662</td>\n",
       "      <td>7</td>\n",
       "      <td>0.0612</td>\n",
       "      <td>-7.884</td>\n",
       "      <td>1</td>\n",
       "      <td>0.0288</td>\n",
       "      <td>119.970</td>\n",
       "      <td>4</td>\n",
       "      <td>https://api.spotify.com/v1/tracks/0oiCeOPwm4zh...</td>\n",
       "      <td>audio_features</td>\n",
       "      <td>spotify:track:0oiCeOPwm4zhwfyIpAE37y</td>\n",
       "      <td>0.422</td>\n",
       "    </tr>\n",
       "    <tr>\n",
       "      <th>0</th>\n",
       "      <td>In the Blood</td>\n",
       "      <td>0.386</td>\n",
       "      <td>https://api.spotify.com/v1/audio-analysis/77Y5...</td>\n",
       "      <td>0.546</td>\n",
       "      <td>243667</td>\n",
       "      <td>0.657</td>\n",
       "      <td>77Y57qRJBvkGCUw9qs0qMg</td>\n",
       "      <td>0.000010</td>\n",
       "      <td>8</td>\n",
       "      <td>0.0983</td>\n",
       "      <td>-6.526</td>\n",
       "      <td>1</td>\n",
       "      <td>0.0255</td>\n",
       "      <td>80.007</td>\n",
       "      <td>4</td>\n",
       "      <td>https://api.spotify.com/v1/tracks/77Y57qRJBvkG...</td>\n",
       "      <td>audio_features</td>\n",
       "      <td>spotify:track:77Y57qRJBvkGCUw9qs0qMg</td>\n",
       "      <td>0.520</td>\n",
       "    </tr>\n",
       "  </tbody>\n",
       "</table>\n",
       "</div>"
      ],
      "text/plain": [
       "                       Name  acousticness  \\\n",
       "0  Still Feel Like Your Man         0.547   \n",
       "0           Emoji of a Wave         0.771   \n",
       "0                  Helpless         0.151   \n",
       "0       Love on the Weekend         0.623   \n",
       "0              In the Blood         0.386   \n",
       "\n",
       "                                        analysis_url  danceability  \\\n",
       "0  https://api.spotify.com/v1/audio-analysis/1LM6...         0.858   \n",
       "0  https://api.spotify.com/v1/audio-analysis/5ddX...         0.494   \n",
       "0  https://api.spotify.com/v1/audio-analysis/701D...         0.761   \n",
       "0  https://api.spotify.com/v1/audio-analysis/0oiC...         0.718   \n",
       "0  https://api.spotify.com/v1/audio-analysis/77Y5...         0.546   \n",
       "\n",
       "   duration_ms  energy                      id  instrumentalness  key  \\\n",
       "0       234920   0.600  1LM6t24SjQr2bJHqeGIR4U          0.001130    2   \n",
       "0       239667   0.365  5ddXMXmXZ2FN4iliTG20nO          0.000978   11   \n",
       "0       249120   0.598  701DK0It9f7iurRnzKvF0y          0.002590    9   \n",
       "0       212320   0.583  0oiCeOPwm4zhwfyIpAE37y          0.000662    7   \n",
       "0       243667   0.657  77Y57qRJBvkGCUw9qs0qMg          0.000010    8   \n",
       "\n",
       "   liveness  loudness  mode  speechiness    tempo  time_signature  \\\n",
       "0    0.1320    -6.677     1       0.0630  106.023               4   \n",
       "0    0.1390    -8.920     1       0.0279  165.766               4   \n",
       "0    0.0314    -5.838     0       0.0268  103.978               4   \n",
       "0    0.0612    -7.884     1       0.0288  119.970               4   \n",
       "0    0.0983    -6.526     1       0.0255   80.007               4   \n",
       "\n",
       "                                          track_href            type  \\\n",
       "0  https://api.spotify.com/v1/tracks/1LM6t24SjQr2...  audio_features   \n",
       "0  https://api.spotify.com/v1/tracks/5ddXMXmXZ2FN...  audio_features   \n",
       "0  https://api.spotify.com/v1/tracks/701DK0It9f7i...  audio_features   \n",
       "0  https://api.spotify.com/v1/tracks/0oiCeOPwm4zh...  audio_features   \n",
       "0  https://api.spotify.com/v1/tracks/77Y57qRJBvkG...  audio_features   \n",
       "\n",
       "                                    uri  valence  \n",
       "0  spotify:track:1LM6t24SjQr2bJHqeGIR4U    0.513  \n",
       "0  spotify:track:5ddXMXmXZ2FN4iliTG20nO    0.191  \n",
       "0  spotify:track:701DK0It9f7iurRnzKvF0y    0.937  \n",
       "0  spotify:track:0oiCeOPwm4zhwfyIpAE37y    0.422  \n",
       "0  spotify:track:77Y57qRJBvkGCUw9qs0qMg    0.520  "
      ]
     },
     "execution_count": 99,
     "metadata": {},
     "output_type": "execute_result"
    }
   ],
   "source": [
    "jmayer = get_artist_audio_features(\"John Mayer\")\n",
    "jmayer.head()"
   ]
  },
  {
   "cell_type": "markdown",
   "metadata": {},
   "source": [
    "Using these functions, we will go through the process of comparing three artists: John Mayer, Eminem, and Christina Perri. You could do this with any set number of artists, but I thought of three artists off the top of my head, and it will be interesting what we see when comparing them."
   ]
  },
  {
   "cell_type": "code",
   "execution_count": 17,
   "metadata": {},
   "outputs": [],
   "source": [
    "cperri = get_artist_audio_features(\"Christina Perri\")\n",
    "enem = get_artist_audio_features(\"Eminem\")"
   ]
  },
  {
   "cell_type": "markdown",
   "metadata": {},
   "source": [
    "Below are some Plotly functions that will help us with visualization."
   ]
  },
  {
   "cell_type": "code",
   "execution_count": 19,
   "metadata": {},
   "outputs": [],
   "source": [
    "# creates a polar graph to display an artist's audio features\n",
    "def polar_artist_stats(name, artist):\n",
    "    obj = go.Scatterpolar(\n",
    "        r=[\n",
    "            np.median(artist['acousticness']),\n",
    "            np.median(artist['danceability']),\n",
    "            np.median(artist['energy']),\n",
    "            np.median(artist['instrumentalness']),\n",
    "            np.median(artist['liveness']),\n",
    "            np.median(artist['speechiness']),\n",
    "            np.median(artist['valence'])\n",
    "            #tempo is another good feature to try to incorporate\n",
    "        ],\n",
    "        theta=[\n",
    "            'acousticness', 'danceability', 'energy', 'instrumentalness', \n",
    "            'liveness', 'speechiness', 'valence'\n",
    "        ],\n",
    "        fill='toself',\n",
    "        #marker=dict(\n",
    "        #    color=colors[pkmn['Type 1'].values[0]]\n",
    "        #),\n",
    "        name=name\n",
    "    )\n",
    "\n",
    "    return obj"
   ]
  },
  {
   "cell_type": "code",
   "execution_count": 33,
   "metadata": {},
   "outputs": [],
   "source": [
    "# creates a polar graph to display a song's features\n",
    "def polar_song_stats(song, itr = False):\n",
    "    if itr == False:\n",
    "        obj = go.Scatterpolar(\n",
    "            r=[\n",
    "                song['acousticness'].values[0],\n",
    "                song['danceability'].values[0],\n",
    "                song['energy'].values[0],\n",
    "                song['instrumentalness'].values[0],\n",
    "                song['liveness'].values[0],\n",
    "                song['speechiness'].values[0],\n",
    "                song['valence'].values[0],\n",
    "            ],\n",
    "            theta=[\n",
    "                'acousticness', 'danceability', 'energy', 'instrumentalness', \n",
    "                'liveness', 'speechiness', 'valence'\n",
    "            ],\n",
    "            fill='toself',\n",
    "            #marker=dict(\n",
    "            #    color=colors[pkmn['Type 1'].values[0]]\n",
    "            #),\n",
    "            name=song[\"Name\"].values[0]\n",
    "        )\n",
    "    else:\n",
    "        obj = go.Scatterpolar(\n",
    "            r=[\n",
    "                song['acousticness'],\n",
    "                song['danceability'],\n",
    "                song['energy'],\n",
    "                song['instrumentalness'],\n",
    "                song['liveness'],\n",
    "                song['speechiness'],\n",
    "                song['valence'],\n",
    "            ],\n",
    "            theta=[\n",
    "                'acousticness', 'danceability', 'energy', 'instrumentalness', \n",
    "                'liveness', 'speechiness', 'valence'\n",
    "            ],\n",
    "            fill='toself',\n",
    "            #marker=dict(\n",
    "            #    color=colors[pkmn['Type 1'].values[0]]\n",
    "            #),\n",
    "            name=song[\"Name\"]\n",
    "        )\n",
    "        \n",
    "\n",
    "    return obj"
   ]
  },
  {
   "cell_type": "code",
   "execution_count": 20,
   "metadata": {},
   "outputs": [
    {
     "data": {
      "application/vnd.plotly.v1+json": {
       "config": {
        "linkText": "Export to plot.ly",
        "plotlyServerURL": "https://plot.ly",
        "showLink": false
       },
       "data": [
        {
         "fill": "toself",
         "name": "John Mayer",
         "r": [
          0.159,
          0.524,
          0.596,
          0.00092,
          0.586,
          0.0331,
          0.451
         ],
         "theta": [
          "acousticness",
          "danceability",
          "energy",
          "instrumentalness",
          "liveness",
          "speechiness",
          "valence"
         ],
         "type": "scatterpolar"
        },
        {
         "fill": "toself",
         "name": "Christina Perri",
         "r": [
          0.451,
          0.463,
          0.445,
          3.89e-05,
          0.11,
          0.0395,
          0.255
         ],
         "theta": [
          "acousticness",
          "danceability",
          "energy",
          "instrumentalness",
          "liveness",
          "speechiness",
          "valence"
         ],
         "type": "scatterpolar"
        },
        {
         "fill": "toself",
         "name": "Eminem",
         "r": [
          0.134,
          0.699,
          0.841,
          0,
          0.2875,
          0.274,
          0.556
         ],
         "theta": [
          "acousticness",
          "danceability",
          "energy",
          "instrumentalness",
          "liveness",
          "speechiness",
          "valence"
         ],
         "type": "scatterpolar"
        }
       ],
       "layout": {
        "polar": {
         "radialaxis": {
          "range": [
           0,
           1
          ],
          "visible": true
         }
        },
        "showlegend": true,
        "template": {
         "data": {
          "bar": [
           {
            "error_x": {
             "color": "#2a3f5f"
            },
            "error_y": {
             "color": "#2a3f5f"
            },
            "marker": {
             "line": {
              "color": "#E5ECF6",
              "width": 0.5
             }
            },
            "type": "bar"
           }
          ],
          "barpolar": [
           {
            "marker": {
             "line": {
              "color": "#E5ECF6",
              "width": 0.5
             }
            },
            "type": "barpolar"
           }
          ],
          "carpet": [
           {
            "aaxis": {
             "endlinecolor": "#2a3f5f",
             "gridcolor": "white",
             "linecolor": "white",
             "minorgridcolor": "white",
             "startlinecolor": "#2a3f5f"
            },
            "baxis": {
             "endlinecolor": "#2a3f5f",
             "gridcolor": "white",
             "linecolor": "white",
             "minorgridcolor": "white",
             "startlinecolor": "#2a3f5f"
            },
            "type": "carpet"
           }
          ],
          "choropleth": [
           {
            "colorbar": {
             "outlinewidth": 0,
             "ticks": ""
            },
            "type": "choropleth"
           }
          ],
          "contour": [
           {
            "colorbar": {
             "outlinewidth": 0,
             "ticks": ""
            },
            "colorscale": [
             [
              0,
              "#0d0887"
             ],
             [
              0.1111111111111111,
              "#46039f"
             ],
             [
              0.2222222222222222,
              "#7201a8"
             ],
             [
              0.3333333333333333,
              "#9c179e"
             ],
             [
              0.4444444444444444,
              "#bd3786"
             ],
             [
              0.5555555555555556,
              "#d8576b"
             ],
             [
              0.6666666666666666,
              "#ed7953"
             ],
             [
              0.7777777777777778,
              "#fb9f3a"
             ],
             [
              0.8888888888888888,
              "#fdca26"
             ],
             [
              1,
              "#f0f921"
             ]
            ],
            "type": "contour"
           }
          ],
          "contourcarpet": [
           {
            "colorbar": {
             "outlinewidth": 0,
             "ticks": ""
            },
            "type": "contourcarpet"
           }
          ],
          "heatmap": [
           {
            "colorbar": {
             "outlinewidth": 0,
             "ticks": ""
            },
            "colorscale": [
             [
              0,
              "#0d0887"
             ],
             [
              0.1111111111111111,
              "#46039f"
             ],
             [
              0.2222222222222222,
              "#7201a8"
             ],
             [
              0.3333333333333333,
              "#9c179e"
             ],
             [
              0.4444444444444444,
              "#bd3786"
             ],
             [
              0.5555555555555556,
              "#d8576b"
             ],
             [
              0.6666666666666666,
              "#ed7953"
             ],
             [
              0.7777777777777778,
              "#fb9f3a"
             ],
             [
              0.8888888888888888,
              "#fdca26"
             ],
             [
              1,
              "#f0f921"
             ]
            ],
            "type": "heatmap"
           }
          ],
          "heatmapgl": [
           {
            "colorbar": {
             "outlinewidth": 0,
             "ticks": ""
            },
            "colorscale": [
             [
              0,
              "#0d0887"
             ],
             [
              0.1111111111111111,
              "#46039f"
             ],
             [
              0.2222222222222222,
              "#7201a8"
             ],
             [
              0.3333333333333333,
              "#9c179e"
             ],
             [
              0.4444444444444444,
              "#bd3786"
             ],
             [
              0.5555555555555556,
              "#d8576b"
             ],
             [
              0.6666666666666666,
              "#ed7953"
             ],
             [
              0.7777777777777778,
              "#fb9f3a"
             ],
             [
              0.8888888888888888,
              "#fdca26"
             ],
             [
              1,
              "#f0f921"
             ]
            ],
            "type": "heatmapgl"
           }
          ],
          "histogram": [
           {
            "marker": {
             "colorbar": {
              "outlinewidth": 0,
              "ticks": ""
             }
            },
            "type": "histogram"
           }
          ],
          "histogram2d": [
           {
            "colorbar": {
             "outlinewidth": 0,
             "ticks": ""
            },
            "colorscale": [
             [
              0,
              "#0d0887"
             ],
             [
              0.1111111111111111,
              "#46039f"
             ],
             [
              0.2222222222222222,
              "#7201a8"
             ],
             [
              0.3333333333333333,
              "#9c179e"
             ],
             [
              0.4444444444444444,
              "#bd3786"
             ],
             [
              0.5555555555555556,
              "#d8576b"
             ],
             [
              0.6666666666666666,
              "#ed7953"
             ],
             [
              0.7777777777777778,
              "#fb9f3a"
             ],
             [
              0.8888888888888888,
              "#fdca26"
             ],
             [
              1,
              "#f0f921"
             ]
            ],
            "type": "histogram2d"
           }
          ],
          "histogram2dcontour": [
           {
            "colorbar": {
             "outlinewidth": 0,
             "ticks": ""
            },
            "colorscale": [
             [
              0,
              "#0d0887"
             ],
             [
              0.1111111111111111,
              "#46039f"
             ],
             [
              0.2222222222222222,
              "#7201a8"
             ],
             [
              0.3333333333333333,
              "#9c179e"
             ],
             [
              0.4444444444444444,
              "#bd3786"
             ],
             [
              0.5555555555555556,
              "#d8576b"
             ],
             [
              0.6666666666666666,
              "#ed7953"
             ],
             [
              0.7777777777777778,
              "#fb9f3a"
             ],
             [
              0.8888888888888888,
              "#fdca26"
             ],
             [
              1,
              "#f0f921"
             ]
            ],
            "type": "histogram2dcontour"
           }
          ],
          "mesh3d": [
           {
            "colorbar": {
             "outlinewidth": 0,
             "ticks": ""
            },
            "type": "mesh3d"
           }
          ],
          "parcoords": [
           {
            "line": {
             "colorbar": {
              "outlinewidth": 0,
              "ticks": ""
             }
            },
            "type": "parcoords"
           }
          ],
          "scatter": [
           {
            "marker": {
             "colorbar": {
              "outlinewidth": 0,
              "ticks": ""
             }
            },
            "type": "scatter"
           }
          ],
          "scatter3d": [
           {
            "line": {
             "colorbar": {
              "outlinewidth": 0,
              "ticks": ""
             }
            },
            "marker": {
             "colorbar": {
              "outlinewidth": 0,
              "ticks": ""
             }
            },
            "type": "scatter3d"
           }
          ],
          "scattercarpet": [
           {
            "marker": {
             "colorbar": {
              "outlinewidth": 0,
              "ticks": ""
             }
            },
            "type": "scattercarpet"
           }
          ],
          "scattergeo": [
           {
            "marker": {
             "colorbar": {
              "outlinewidth": 0,
              "ticks": ""
             }
            },
            "type": "scattergeo"
           }
          ],
          "scattergl": [
           {
            "marker": {
             "colorbar": {
              "outlinewidth": 0,
              "ticks": ""
             }
            },
            "type": "scattergl"
           }
          ],
          "scattermapbox": [
           {
            "marker": {
             "colorbar": {
              "outlinewidth": 0,
              "ticks": ""
             }
            },
            "type": "scattermapbox"
           }
          ],
          "scatterpolar": [
           {
            "marker": {
             "colorbar": {
              "outlinewidth": 0,
              "ticks": ""
             }
            },
            "type": "scatterpolar"
           }
          ],
          "scatterpolargl": [
           {
            "marker": {
             "colorbar": {
              "outlinewidth": 0,
              "ticks": ""
             }
            },
            "type": "scatterpolargl"
           }
          ],
          "scatterternary": [
           {
            "marker": {
             "colorbar": {
              "outlinewidth": 0,
              "ticks": ""
             }
            },
            "type": "scatterternary"
           }
          ],
          "surface": [
           {
            "colorbar": {
             "outlinewidth": 0,
             "ticks": ""
            },
            "colorscale": [
             [
              0,
              "#0d0887"
             ],
             [
              0.1111111111111111,
              "#46039f"
             ],
             [
              0.2222222222222222,
              "#7201a8"
             ],
             [
              0.3333333333333333,
              "#9c179e"
             ],
             [
              0.4444444444444444,
              "#bd3786"
             ],
             [
              0.5555555555555556,
              "#d8576b"
             ],
             [
              0.6666666666666666,
              "#ed7953"
             ],
             [
              0.7777777777777778,
              "#fb9f3a"
             ],
             [
              0.8888888888888888,
              "#fdca26"
             ],
             [
              1,
              "#f0f921"
             ]
            ],
            "type": "surface"
           }
          ],
          "table": [
           {
            "cells": {
             "fill": {
              "color": "#EBF0F8"
             },
             "line": {
              "color": "white"
             }
            },
            "header": {
             "fill": {
              "color": "#C8D4E3"
             },
             "line": {
              "color": "white"
             }
            },
            "type": "table"
           }
          ]
         },
         "layout": {
          "annotationdefaults": {
           "arrowcolor": "#2a3f5f",
           "arrowhead": 0,
           "arrowwidth": 1
          },
          "colorscale": {
           "diverging": [
            [
             0,
             "#8e0152"
            ],
            [
             0.1,
             "#c51b7d"
            ],
            [
             0.2,
             "#de77ae"
            ],
            [
             0.3,
             "#f1b6da"
            ],
            [
             0.4,
             "#fde0ef"
            ],
            [
             0.5,
             "#f7f7f7"
            ],
            [
             0.6,
             "#e6f5d0"
            ],
            [
             0.7,
             "#b8e186"
            ],
            [
             0.8,
             "#7fbc41"
            ],
            [
             0.9,
             "#4d9221"
            ],
            [
             1,
             "#276419"
            ]
           ],
           "sequential": [
            [
             0,
             "#0d0887"
            ],
            [
             0.1111111111111111,
             "#46039f"
            ],
            [
             0.2222222222222222,
             "#7201a8"
            ],
            [
             0.3333333333333333,
             "#9c179e"
            ],
            [
             0.4444444444444444,
             "#bd3786"
            ],
            [
             0.5555555555555556,
             "#d8576b"
            ],
            [
             0.6666666666666666,
             "#ed7953"
            ],
            [
             0.7777777777777778,
             "#fb9f3a"
            ],
            [
             0.8888888888888888,
             "#fdca26"
            ],
            [
             1,
             "#f0f921"
            ]
           ],
           "sequentialminus": [
            [
             0,
             "#0d0887"
            ],
            [
             0.1111111111111111,
             "#46039f"
            ],
            [
             0.2222222222222222,
             "#7201a8"
            ],
            [
             0.3333333333333333,
             "#9c179e"
            ],
            [
             0.4444444444444444,
             "#bd3786"
            ],
            [
             0.5555555555555556,
             "#d8576b"
            ],
            [
             0.6666666666666666,
             "#ed7953"
            ],
            [
             0.7777777777777778,
             "#fb9f3a"
            ],
            [
             0.8888888888888888,
             "#fdca26"
            ],
            [
             1,
             "#f0f921"
            ]
           ]
          },
          "colorway": [
           "#636efa",
           "#EF553B",
           "#00cc96",
           "#ab63fa",
           "#FFA15A",
           "#19d3f3",
           "#FF6692",
           "#B6E880",
           "#FF97FF",
           "#FECB52"
          ],
          "font": {
           "color": "#2a3f5f"
          },
          "geo": {
           "bgcolor": "white",
           "lakecolor": "white",
           "landcolor": "#E5ECF6",
           "showlakes": true,
           "showland": true,
           "subunitcolor": "white"
          },
          "hoverlabel": {
           "align": "left"
          },
          "hovermode": "closest",
          "mapbox": {
           "style": "light"
          },
          "paper_bgcolor": "white",
          "plot_bgcolor": "#E5ECF6",
          "polar": {
           "angularaxis": {
            "gridcolor": "white",
            "linecolor": "white",
            "ticks": ""
           },
           "bgcolor": "#E5ECF6",
           "radialaxis": {
            "gridcolor": "white",
            "linecolor": "white",
            "ticks": ""
           }
          },
          "scene": {
           "xaxis": {
            "backgroundcolor": "#E5ECF6",
            "gridcolor": "white",
            "gridwidth": 2,
            "linecolor": "white",
            "showbackground": true,
            "ticks": "",
            "zerolinecolor": "white"
           },
           "yaxis": {
            "backgroundcolor": "#E5ECF6",
            "gridcolor": "white",
            "gridwidth": 2,
            "linecolor": "white",
            "showbackground": true,
            "ticks": "",
            "zerolinecolor": "white"
           },
           "zaxis": {
            "backgroundcolor": "#E5ECF6",
            "gridcolor": "white",
            "gridwidth": 2,
            "linecolor": "white",
            "showbackground": true,
            "ticks": "",
            "zerolinecolor": "white"
           }
          },
          "shapedefaults": {
           "line": {
            "color": "#2a3f5f"
           }
          },
          "ternary": {
           "aaxis": {
            "gridcolor": "white",
            "linecolor": "white",
            "ticks": ""
           },
           "baxis": {
            "gridcolor": "white",
            "linecolor": "white",
            "ticks": ""
           },
           "bgcolor": "#E5ECF6",
           "caxis": {
            "gridcolor": "white",
            "linecolor": "white",
            "ticks": ""
           }
          },
          "title": {
           "x": 0.05
          },
          "xaxis": {
           "automargin": true,
           "gridcolor": "white",
           "linecolor": "white",
           "ticks": "",
           "zerolinecolor": "white",
           "zerolinewidth": 2
          },
          "yaxis": {
           "automargin": true,
           "gridcolor": "white",
           "linecolor": "white",
           "ticks": "",
           "zerolinecolor": "white",
           "zerolinewidth": 2
          }
         }
        },
        "title": {
         "text": "John Mayer vs. Christina Perri vs. Eminem"
        }
       }
      },
      "text/html": [
       "<div>\n",
       "        \n",
       "        \n",
       "            <div id=\"785c54d1-af54-4057-b194-15623adbbeab\" class=\"plotly-graph-div\" style=\"height:525px; width:100%;\"></div>\n",
       "            <script type=\"text/javascript\">\n",
       "                require([\"plotly\"], function(Plotly) {\n",
       "                    window.PLOTLYENV=window.PLOTLYENV || {};\n",
       "                    \n",
       "                if (document.getElementById(\"785c54d1-af54-4057-b194-15623adbbeab\")) {\n",
       "                    Plotly.newPlot(\n",
       "                        '785c54d1-af54-4057-b194-15623adbbeab',\n",
       "                        [{\"fill\": \"toself\", \"name\": \"John Mayer\", \"r\": [0.159, 0.524, 0.596, 0.00092, 0.586, 0.0331, 0.451], \"theta\": [\"acousticness\", \"danceability\", \"energy\", \"instrumentalness\", \"liveness\", \"speechiness\", \"valence\"], \"type\": \"scatterpolar\"}, {\"fill\": \"toself\", \"name\": \"Christina Perri\", \"r\": [0.451, 0.463, 0.445, 3.89e-05, 0.11, 0.0395, 0.255], \"theta\": [\"acousticness\", \"danceability\", \"energy\", \"instrumentalness\", \"liveness\", \"speechiness\", \"valence\"], \"type\": \"scatterpolar\"}, {\"fill\": \"toself\", \"name\": \"Eminem\", \"r\": [0.134, 0.699, 0.841, 0.0, 0.2875, 0.274, 0.556], \"theta\": [\"acousticness\", \"danceability\", \"energy\", \"instrumentalness\", \"liveness\", \"speechiness\", \"valence\"], \"type\": \"scatterpolar\"}],\n",
       "                        {\"polar\": {\"radialaxis\": {\"range\": [0, 1], \"visible\": true}}, \"showlegend\": true, \"template\": {\"data\": {\"bar\": [{\"error_x\": {\"color\": \"#2a3f5f\"}, \"error_y\": {\"color\": \"#2a3f5f\"}, \"marker\": {\"line\": {\"color\": \"#E5ECF6\", \"width\": 0.5}}, \"type\": \"bar\"}], \"barpolar\": [{\"marker\": {\"line\": {\"color\": \"#E5ECF6\", \"width\": 0.5}}, \"type\": \"barpolar\"}], \"carpet\": [{\"aaxis\": {\"endlinecolor\": \"#2a3f5f\", \"gridcolor\": \"white\", \"linecolor\": \"white\", \"minorgridcolor\": \"white\", \"startlinecolor\": \"#2a3f5f\"}, \"baxis\": {\"endlinecolor\": \"#2a3f5f\", \"gridcolor\": \"white\", \"linecolor\": \"white\", \"minorgridcolor\": \"white\", \"startlinecolor\": \"#2a3f5f\"}, \"type\": \"carpet\"}], \"choropleth\": [{\"colorbar\": {\"outlinewidth\": 0, \"ticks\": \"\"}, \"type\": \"choropleth\"}], \"contour\": [{\"colorbar\": {\"outlinewidth\": 0, \"ticks\": \"\"}, \"colorscale\": [[0.0, \"#0d0887\"], [0.1111111111111111, \"#46039f\"], [0.2222222222222222, \"#7201a8\"], [0.3333333333333333, \"#9c179e\"], [0.4444444444444444, \"#bd3786\"], [0.5555555555555556, \"#d8576b\"], [0.6666666666666666, \"#ed7953\"], [0.7777777777777778, \"#fb9f3a\"], [0.8888888888888888, \"#fdca26\"], [1.0, \"#f0f921\"]], \"type\": \"contour\"}], \"contourcarpet\": [{\"colorbar\": {\"outlinewidth\": 0, \"ticks\": \"\"}, \"type\": \"contourcarpet\"}], \"heatmap\": [{\"colorbar\": {\"outlinewidth\": 0, \"ticks\": \"\"}, \"colorscale\": [[0.0, \"#0d0887\"], [0.1111111111111111, \"#46039f\"], [0.2222222222222222, \"#7201a8\"], [0.3333333333333333, \"#9c179e\"], [0.4444444444444444, \"#bd3786\"], [0.5555555555555556, \"#d8576b\"], [0.6666666666666666, \"#ed7953\"], [0.7777777777777778, \"#fb9f3a\"], [0.8888888888888888, \"#fdca26\"], [1.0, \"#f0f921\"]], \"type\": \"heatmap\"}], \"heatmapgl\": [{\"colorbar\": {\"outlinewidth\": 0, \"ticks\": \"\"}, \"colorscale\": [[0.0, \"#0d0887\"], [0.1111111111111111, \"#46039f\"], [0.2222222222222222, \"#7201a8\"], [0.3333333333333333, \"#9c179e\"], [0.4444444444444444, \"#bd3786\"], [0.5555555555555556, \"#d8576b\"], [0.6666666666666666, \"#ed7953\"], [0.7777777777777778, \"#fb9f3a\"], [0.8888888888888888, \"#fdca26\"], [1.0, \"#f0f921\"]], \"type\": \"heatmapgl\"}], \"histogram\": [{\"marker\": {\"colorbar\": {\"outlinewidth\": 0, \"ticks\": \"\"}}, \"type\": \"histogram\"}], \"histogram2d\": [{\"colorbar\": {\"outlinewidth\": 0, \"ticks\": \"\"}, \"colorscale\": [[0.0, \"#0d0887\"], [0.1111111111111111, \"#46039f\"], [0.2222222222222222, \"#7201a8\"], [0.3333333333333333, \"#9c179e\"], [0.4444444444444444, \"#bd3786\"], [0.5555555555555556, \"#d8576b\"], [0.6666666666666666, \"#ed7953\"], [0.7777777777777778, \"#fb9f3a\"], [0.8888888888888888, \"#fdca26\"], [1.0, \"#f0f921\"]], \"type\": \"histogram2d\"}], \"histogram2dcontour\": [{\"colorbar\": {\"outlinewidth\": 0, \"ticks\": \"\"}, \"colorscale\": [[0.0, \"#0d0887\"], [0.1111111111111111, \"#46039f\"], [0.2222222222222222, \"#7201a8\"], [0.3333333333333333, \"#9c179e\"], [0.4444444444444444, \"#bd3786\"], [0.5555555555555556, \"#d8576b\"], [0.6666666666666666, \"#ed7953\"], [0.7777777777777778, \"#fb9f3a\"], [0.8888888888888888, \"#fdca26\"], [1.0, \"#f0f921\"]], \"type\": \"histogram2dcontour\"}], \"mesh3d\": [{\"colorbar\": {\"outlinewidth\": 0, \"ticks\": \"\"}, \"type\": \"mesh3d\"}], \"parcoords\": [{\"line\": {\"colorbar\": {\"outlinewidth\": 0, \"ticks\": \"\"}}, \"type\": \"parcoords\"}], \"scatter\": [{\"marker\": {\"colorbar\": {\"outlinewidth\": 0, \"ticks\": \"\"}}, \"type\": \"scatter\"}], \"scatter3d\": [{\"line\": {\"colorbar\": {\"outlinewidth\": 0, \"ticks\": \"\"}}, \"marker\": {\"colorbar\": {\"outlinewidth\": 0, \"ticks\": \"\"}}, \"type\": \"scatter3d\"}], \"scattercarpet\": [{\"marker\": {\"colorbar\": {\"outlinewidth\": 0, \"ticks\": \"\"}}, \"type\": \"scattercarpet\"}], \"scattergeo\": [{\"marker\": {\"colorbar\": {\"outlinewidth\": 0, \"ticks\": \"\"}}, \"type\": \"scattergeo\"}], \"scattergl\": [{\"marker\": {\"colorbar\": {\"outlinewidth\": 0, \"ticks\": \"\"}}, \"type\": \"scattergl\"}], \"scattermapbox\": [{\"marker\": {\"colorbar\": {\"outlinewidth\": 0, \"ticks\": \"\"}}, \"type\": \"scattermapbox\"}], \"scatterpolar\": [{\"marker\": {\"colorbar\": {\"outlinewidth\": 0, \"ticks\": \"\"}}, \"type\": \"scatterpolar\"}], \"scatterpolargl\": [{\"marker\": {\"colorbar\": {\"outlinewidth\": 0, \"ticks\": \"\"}}, \"type\": \"scatterpolargl\"}], \"scatterternary\": [{\"marker\": {\"colorbar\": {\"outlinewidth\": 0, \"ticks\": \"\"}}, \"type\": \"scatterternary\"}], \"surface\": [{\"colorbar\": {\"outlinewidth\": 0, \"ticks\": \"\"}, \"colorscale\": [[0.0, \"#0d0887\"], [0.1111111111111111, \"#46039f\"], [0.2222222222222222, \"#7201a8\"], [0.3333333333333333, \"#9c179e\"], [0.4444444444444444, \"#bd3786\"], [0.5555555555555556, \"#d8576b\"], [0.6666666666666666, \"#ed7953\"], [0.7777777777777778, \"#fb9f3a\"], [0.8888888888888888, \"#fdca26\"], [1.0, \"#f0f921\"]], \"type\": \"surface\"}], \"table\": [{\"cells\": {\"fill\": {\"color\": \"#EBF0F8\"}, \"line\": {\"color\": \"white\"}}, \"header\": {\"fill\": {\"color\": \"#C8D4E3\"}, \"line\": {\"color\": \"white\"}}, \"type\": \"table\"}]}, \"layout\": {\"annotationdefaults\": {\"arrowcolor\": \"#2a3f5f\", \"arrowhead\": 0, \"arrowwidth\": 1}, \"colorscale\": {\"diverging\": [[0, \"#8e0152\"], [0.1, \"#c51b7d\"], [0.2, \"#de77ae\"], [0.3, \"#f1b6da\"], [0.4, \"#fde0ef\"], [0.5, \"#f7f7f7\"], [0.6, \"#e6f5d0\"], [0.7, \"#b8e186\"], [0.8, \"#7fbc41\"], [0.9, \"#4d9221\"], [1, \"#276419\"]], \"sequential\": [[0.0, \"#0d0887\"], [0.1111111111111111, \"#46039f\"], [0.2222222222222222, \"#7201a8\"], [0.3333333333333333, \"#9c179e\"], [0.4444444444444444, \"#bd3786\"], [0.5555555555555556, \"#d8576b\"], [0.6666666666666666, \"#ed7953\"], [0.7777777777777778, \"#fb9f3a\"], [0.8888888888888888, \"#fdca26\"], [1.0, \"#f0f921\"]], \"sequentialminus\": [[0.0, \"#0d0887\"], [0.1111111111111111, \"#46039f\"], [0.2222222222222222, \"#7201a8\"], [0.3333333333333333, \"#9c179e\"], [0.4444444444444444, \"#bd3786\"], [0.5555555555555556, \"#d8576b\"], [0.6666666666666666, \"#ed7953\"], [0.7777777777777778, \"#fb9f3a\"], [0.8888888888888888, \"#fdca26\"], [1.0, \"#f0f921\"]]}, \"colorway\": [\"#636efa\", \"#EF553B\", \"#00cc96\", \"#ab63fa\", \"#FFA15A\", \"#19d3f3\", \"#FF6692\", \"#B6E880\", \"#FF97FF\", \"#FECB52\"], \"font\": {\"color\": \"#2a3f5f\"}, \"geo\": {\"bgcolor\": \"white\", \"lakecolor\": \"white\", \"landcolor\": \"#E5ECF6\", \"showlakes\": true, \"showland\": true, \"subunitcolor\": \"white\"}, \"hoverlabel\": {\"align\": \"left\"}, \"hovermode\": \"closest\", \"mapbox\": {\"style\": \"light\"}, \"paper_bgcolor\": \"white\", \"plot_bgcolor\": \"#E5ECF6\", \"polar\": {\"angularaxis\": {\"gridcolor\": \"white\", \"linecolor\": \"white\", \"ticks\": \"\"}, \"bgcolor\": \"#E5ECF6\", \"radialaxis\": {\"gridcolor\": \"white\", \"linecolor\": \"white\", \"ticks\": \"\"}}, \"scene\": {\"xaxis\": {\"backgroundcolor\": \"#E5ECF6\", \"gridcolor\": \"white\", \"gridwidth\": 2, \"linecolor\": \"white\", \"showbackground\": true, \"ticks\": \"\", \"zerolinecolor\": \"white\"}, \"yaxis\": {\"backgroundcolor\": \"#E5ECF6\", \"gridcolor\": \"white\", \"gridwidth\": 2, \"linecolor\": \"white\", \"showbackground\": true, \"ticks\": \"\", \"zerolinecolor\": \"white\"}, \"zaxis\": {\"backgroundcolor\": \"#E5ECF6\", \"gridcolor\": \"white\", \"gridwidth\": 2, \"linecolor\": \"white\", \"showbackground\": true, \"ticks\": \"\", \"zerolinecolor\": \"white\"}}, \"shapedefaults\": {\"line\": {\"color\": \"#2a3f5f\"}}, \"ternary\": {\"aaxis\": {\"gridcolor\": \"white\", \"linecolor\": \"white\", \"ticks\": \"\"}, \"baxis\": {\"gridcolor\": \"white\", \"linecolor\": \"white\", \"ticks\": \"\"}, \"bgcolor\": \"#E5ECF6\", \"caxis\": {\"gridcolor\": \"white\", \"linecolor\": \"white\", \"ticks\": \"\"}}, \"title\": {\"x\": 0.05}, \"xaxis\": {\"automargin\": true, \"gridcolor\": \"white\", \"linecolor\": \"white\", \"ticks\": \"\", \"zerolinecolor\": \"white\", \"zerolinewidth\": 2}, \"yaxis\": {\"automargin\": true, \"gridcolor\": \"white\", \"linecolor\": \"white\", \"ticks\": \"\", \"zerolinecolor\": \"white\", \"zerolinewidth\": 2}}}, \"title\": {\"text\": \"John Mayer vs. Christina Perri vs. Eminem\"}},\n",
       "                        {\"responsive\": true}\n",
       "                    ).then(function(){\n",
       "                            \n",
       "var gd = document.getElementById('785c54d1-af54-4057-b194-15623adbbeab');\n",
       "var x = new MutationObserver(function (mutations, observer) {{\n",
       "        var display = window.getComputedStyle(gd).display;\n",
       "        if (!display || display === 'none') {{\n",
       "            console.log([gd, 'removed!']);\n",
       "            Plotly.purge(gd);\n",
       "            observer.disconnect();\n",
       "        }}\n",
       "}});\n",
       "\n",
       "// Listen for the removal of the full notebook cells\n",
       "var notebookContainer = gd.closest('#notebook-container');\n",
       "if (notebookContainer) {{\n",
       "    x.observe(notebookContainer, {childList: true});\n",
       "}}\n",
       "\n",
       "// Listen for the clearing of the current output cell\n",
       "var outputEl = gd.closest('.output');\n",
       "if (outputEl) {{\n",
       "    x.observe(outputEl, {childList: true});\n",
       "}}\n",
       "\n",
       "                        })\n",
       "                };\n",
       "                });\n",
       "            </script>\n",
       "        </div>"
      ]
     },
     "metadata": {},
     "output_type": "display_data"
    }
   ],
   "source": [
    "name1 = 'John Mayer'\n",
    "name2 = 'Christina Perri'\n",
    "name3 = \"Eminem\"\n",
    "\n",
    "layout = go.Layout(\n",
    "    polar=dict(\n",
    "        radialaxis=dict(\n",
    "            visible=True,\n",
    "            range=[0, 1]\n",
    "        )\n",
    "    ),\n",
    "    showlegend=True,\n",
    "    title=\"{} vs. {} vs. {}\".format(name1, name2, name3)\n",
    ")\n",
    "\n",
    "a1 = polar_artist_stats(name1, jmayer)\n",
    "a2 = polar_artist_stats(name2, cperri)\n",
    "a3 = polar_artist_stats(name3, enem)\n",
    "\n",
    "compare_artists = go.Figure(data=[a1, a2, a3], layout=layout)\n",
    "iplot(compare_artists, filename='Compare Artists')"
   ]
  },
  {
   "cell_type": "markdown",
   "metadata": {},
   "source": [
    "From an initial glance, we see Eminem is quite higher in energy, danceability, and speechiness. From listening to his songs, these three points would make sense, particularly the speechiness feature. Though we also notice that Christina Perri's music is more acoustic than the other two. Meanwhile, John Mayer is mostly in the middle of these two in features except for liveness. When listening to some of his music on Spotify, you will find recordings from live concerts."
   ]
  },
  {
   "cell_type": "code",
   "execution_count": 10,
   "metadata": {},
   "outputs": [
    {
     "name": "stdout",
     "output_type": "stream",
     "text": [
      "{'album': {'album_type': 'single', 'artists': [{'external_urls': {'spotify': 'https://open.spotify.com/artist/0hEurMDQu99nJRq8pTxO14'}, 'href': 'https://api.spotify.com/v1/artists/0hEurMDQu99nJRq8pTxO14', 'id': '0hEurMDQu99nJRq8pTxO14', 'name': 'John Mayer', 'type': 'artist', 'uri': 'spotify:artist:0hEurMDQu99nJRq8pTxO14'}], 'external_urls': {'spotify': 'https://open.spotify.com/album/5fEgDYFPUcvQy21TYoLEZ0'}, 'href': 'https://api.spotify.com/v1/albums/5fEgDYFPUcvQy21TYoLEZ0', 'id': '5fEgDYFPUcvQy21TYoLEZ0', 'images': [{'height': 640, 'url': 'https://i.scdn.co/image/ab67616d0000b27321f02a52720857a42bba5417', 'width': 640}, {'height': 300, 'url': 'https://i.scdn.co/image/ab67616d00001e0221f02a52720857a42bba5417', 'width': 300}, {'height': 64, 'url': 'https://i.scdn.co/image/ab67616d0000485121f02a52720857a42bba5417', 'width': 64}], 'name': 'New Light', 'release_date': '2018-05-10', 'release_date_precision': 'day', 'total_tracks': 1, 'type': 'album', 'uri': 'spotify:album:5fEgDYFPUcvQy21TYoLEZ0'}, 'artists': [{'external_urls': {'spotify': 'https://open.spotify.com/artist/0hEurMDQu99nJRq8pTxO14'}, 'href': 'https://api.spotify.com/v1/artists/0hEurMDQu99nJRq8pTxO14', 'id': '0hEurMDQu99nJRq8pTxO14', 'name': 'John Mayer', 'type': 'artist', 'uri': 'spotify:artist:0hEurMDQu99nJRq8pTxO14'}], 'disc_number': 1, 'duration_ms': 216014, 'explicit': False, 'external_ids': {'isrc': 'QM4TW1898425'}, 'external_urls': {'spotify': 'https://open.spotify.com/track/3bH4HzoZZFq8UpZmI2AMgV'}, 'href': 'https://api.spotify.com/v1/tracks/3bH4HzoZZFq8UpZmI2AMgV', 'id': '3bH4HzoZZFq8UpZmI2AMgV', 'is_local': False, 'is_playable': True, 'name': 'New Light', 'popularity': 80, 'preview_url': 'https://p.scdn.co/mp3-preview/213ffa7ca413185c59a8811102048c07cd74494d?cid=99beb1b6bbc645b5a56f18415eaa2a1a', 'track_number': 1, 'type': 'track', 'uri': 'spotify:track:3bH4HzoZZFq8UpZmI2AMgV'}\n",
      "{'album': {'album_type': 'album', 'artists': [{'external_urls': {'spotify': 'https://open.spotify.com/artist/0hEurMDQu99nJRq8pTxO14'}, 'href': 'https://api.spotify.com/v1/artists/0hEurMDQu99nJRq8pTxO14', 'id': '0hEurMDQu99nJRq8pTxO14', 'name': 'John Mayer', 'type': 'artist', 'uri': 'spotify:artist:0hEurMDQu99nJRq8pTxO14'}], 'external_urls': {'spotify': 'https://open.spotify.com/album/3yHOaiXecTJVUdn7mApZ48'}, 'href': 'https://api.spotify.com/v1/albums/3yHOaiXecTJVUdn7mApZ48', 'id': '3yHOaiXecTJVUdn7mApZ48', 'images': [{'height': 640, 'url': 'https://i.scdn.co/image/ab67616d0000b2738848d57cbfa7751e028f4dc9', 'width': 640}, {'height': 300, 'url': 'https://i.scdn.co/image/ab67616d00001e028848d57cbfa7751e028f4dc9', 'width': 300}, {'height': 64, 'url': 'https://i.scdn.co/image/ab67616d000048518848d57cbfa7751e028f4dc9', 'width': 64}], 'name': 'Room For Squares', 'release_date': '2001-08-16', 'release_date_precision': 'day', 'total_tracks': 13, 'type': 'album', 'uri': 'spotify:album:3yHOaiXecTJVUdn7mApZ48'}, 'artists': [{'external_urls': {'spotify': 'https://open.spotify.com/artist/0hEurMDQu99nJRq8pTxO14'}, 'href': 'https://api.spotify.com/v1/artists/0hEurMDQu99nJRq8pTxO14', 'id': '0hEurMDQu99nJRq8pTxO14', 'name': 'John Mayer', 'type': 'artist', 'uri': 'spotify:artist:0hEurMDQu99nJRq8pTxO14'}], 'disc_number': 1, 'duration_ms': 249626, 'explicit': False, 'external_ids': {'isrc': 'USSM10102943'}, 'external_urls': {'spotify': 'https://open.spotify.com/track/7vFv0yFGMJW3qVXbAd9BK9'}, 'href': 'https://api.spotify.com/v1/tracks/7vFv0yFGMJW3qVXbAd9BK9', 'id': '7vFv0yFGMJW3qVXbAd9BK9', 'is_local': False, 'is_playable': True, 'name': 'Your Body Is a Wonderland', 'popularity': 77, 'preview_url': 'https://p.scdn.co/mp3-preview/7d1019b439ef1aae6d7f51d7e1d6d7a0ed94f1a6?cid=99beb1b6bbc645b5a56f18415eaa2a1a', 'track_number': 4, 'type': 'track', 'uri': 'spotify:track:7vFv0yFGMJW3qVXbAd9BK9'}\n",
      "{'album': {'album_type': 'album', 'artists': [{'external_urls': {'spotify': 'https://open.spotify.com/artist/0hEurMDQu99nJRq8pTxO14'}, 'href': 'https://api.spotify.com/v1/artists/0hEurMDQu99nJRq8pTxO14', 'id': '0hEurMDQu99nJRq8pTxO14', 'name': 'John Mayer', 'type': 'artist', 'uri': 'spotify:artist:0hEurMDQu99nJRq8pTxO14'}], 'external_urls': {'spotify': 'https://open.spotify.com/album/1Xsprdt1q9rOzTic7b9zYM'}, 'href': 'https://api.spotify.com/v1/albums/1Xsprdt1q9rOzTic7b9zYM', 'id': '1Xsprdt1q9rOzTic7b9zYM', 'images': [{'height': 640, 'url': 'https://i.scdn.co/image/ab67616d0000b2737af5fdc5ef048a68db62b85f', 'width': 640}, {'height': 300, 'url': 'https://i.scdn.co/image/ab67616d00001e027af5fdc5ef048a68db62b85f', 'width': 300}, {'height': 64, 'url': 'https://i.scdn.co/image/ab67616d000048517af5fdc5ef048a68db62b85f', 'width': 64}], 'name': 'Continuum', 'release_date': '2006-09-11', 'release_date_precision': 'day', 'total_tracks': 12, 'type': 'album', 'uri': 'spotify:album:1Xsprdt1q9rOzTic7b9zYM'}, 'artists': [{'external_urls': {'spotify': 'https://open.spotify.com/artist/0hEurMDQu99nJRq8pTxO14'}, 'href': 'https://api.spotify.com/v1/artists/0hEurMDQu99nJRq8pTxO14', 'id': '0hEurMDQu99nJRq8pTxO14', 'name': 'John Mayer', 'type': 'artist', 'uri': 'spotify:artist:0hEurMDQu99nJRq8pTxO14'}], 'disc_number': 1, 'duration_ms': 242000, 'explicit': False, 'external_ids': {'isrc': 'USSM10603632'}, 'external_urls': {'spotify': 'https://open.spotify.com/track/2jdAk8ATWIL3dwT47XpRfu'}, 'href': 'https://api.spotify.com/v1/tracks/2jdAk8ATWIL3dwT47XpRfu', 'id': '2jdAk8ATWIL3dwT47XpRfu', 'is_local': False, 'is_playable': True, 'name': 'Slow Dancing in a Burning Room', 'popularity': 75, 'preview_url': 'https://p.scdn.co/mp3-preview/814ba0347b23558d7c4477458dbb68ab8b8f4baf?cid=99beb1b6bbc645b5a56f18415eaa2a1a', 'track_number': 8, 'type': 'track', 'uri': 'spotify:track:2jdAk8ATWIL3dwT47XpRfu'}\n",
      "{'album': {'album_type': 'album', 'artists': [{'external_urls': {'spotify': 'https://open.spotify.com/artist/0hEurMDQu99nJRq8pTxO14'}, 'href': 'https://api.spotify.com/v1/artists/0hEurMDQu99nJRq8pTxO14', 'id': '0hEurMDQu99nJRq8pTxO14', 'name': 'John Mayer', 'type': 'artist', 'uri': 'spotify:artist:0hEurMDQu99nJRq8pTxO14'}], 'external_urls': {'spotify': 'https://open.spotify.com/album/4Dgxy95K9BWkDUvQPTaYBb'}, 'href': 'https://api.spotify.com/v1/albums/4Dgxy95K9BWkDUvQPTaYBb', 'id': '4Dgxy95K9BWkDUvQPTaYBb', 'images': [{'height': 640, 'url': 'https://i.scdn.co/image/ab67616d0000b2735b9c332f9f76cabc137e400f', 'width': 640}, {'height': 300, 'url': 'https://i.scdn.co/image/ab67616d00001e025b9c332f9f76cabc137e400f', 'width': 300}, {'height': 64, 'url': 'https://i.scdn.co/image/ab67616d000048515b9c332f9f76cabc137e400f', 'width': 64}], 'name': 'Where the Light Is: John Mayer Live In Los Angeles', 'release_date': '2008', 'release_date_precision': 'year', 'total_tracks': 22, 'type': 'album', 'uri': 'spotify:album:4Dgxy95K9BWkDUvQPTaYBb'}, 'artists': [{'external_urls': {'spotify': 'https://open.spotify.com/artist/0hEurMDQu99nJRq8pTxO14'}, 'href': 'https://api.spotify.com/v1/artists/0hEurMDQu99nJRq8pTxO14', 'id': '0hEurMDQu99nJRq8pTxO14', 'name': 'John Mayer', 'type': 'artist', 'uri': 'spotify:artist:0hEurMDQu99nJRq8pTxO14'}], 'disc_number': 1, 'duration_ms': 263573, 'explicit': False, 'external_ids': {'isrc': 'USSM10801204'}, 'external_urls': {'spotify': 'https://open.spotify.com/track/4LloVtxNZpeh7q7xdi1DQc'}, 'href': 'https://api.spotify.com/v1/tracks/4LloVtxNZpeh7q7xdi1DQc', 'id': '4LloVtxNZpeh7q7xdi1DQc', 'is_local': False, 'is_playable': True, 'name': \"Free Fallin' - Live at the Nokia Theatre, Los Angeles, CA - December 2007\", 'popularity': 75, 'preview_url': 'https://p.scdn.co/mp3-preview/00548c90c377c0a5a62b8f161773e9542d2576c3?cid=99beb1b6bbc645b5a56f18415eaa2a1a', 'track_number': 5, 'type': 'track', 'uri': 'spotify:track:4LloVtxNZpeh7q7xdi1DQc'}\n",
      "{'album': {'album_type': 'album', 'artists': [{'external_urls': {'spotify': 'https://open.spotify.com/artist/0hEurMDQu99nJRq8pTxO14'}, 'href': 'https://api.spotify.com/v1/artists/0hEurMDQu99nJRq8pTxO14', 'id': '0hEurMDQu99nJRq8pTxO14', 'name': 'John Mayer', 'type': 'artist', 'uri': 'spotify:artist:0hEurMDQu99nJRq8pTxO14'}], 'external_urls': {'spotify': 'https://open.spotify.com/album/1Xsprdt1q9rOzTic7b9zYM'}, 'href': 'https://api.spotify.com/v1/albums/1Xsprdt1q9rOzTic7b9zYM', 'id': '1Xsprdt1q9rOzTic7b9zYM', 'images': [{'height': 640, 'url': 'https://i.scdn.co/image/ab67616d0000b2737af5fdc5ef048a68db62b85f', 'width': 640}, {'height': 300, 'url': 'https://i.scdn.co/image/ab67616d00001e027af5fdc5ef048a68db62b85f', 'width': 300}, {'height': 64, 'url': 'https://i.scdn.co/image/ab67616d000048517af5fdc5ef048a68db62b85f', 'width': 64}], 'name': 'Continuum', 'release_date': '2006-09-11', 'release_date_precision': 'day', 'total_tracks': 12, 'type': 'album', 'uri': 'spotify:album:1Xsprdt1q9rOzTic7b9zYM'}, 'artists': [{'external_urls': {'spotify': 'https://open.spotify.com/artist/0hEurMDQu99nJRq8pTxO14'}, 'href': 'https://api.spotify.com/v1/artists/0hEurMDQu99nJRq8pTxO14', 'id': '0hEurMDQu99nJRq8pTxO14', 'name': 'John Mayer', 'type': 'artist', 'uri': 'spotify:artist:0hEurMDQu99nJRq8pTxO14'}], 'disc_number': 1, 'duration_ms': 245826, 'explicit': False, 'external_ids': {'isrc': 'USSM10603628'}, 'external_urls': {'spotify': 'https://open.spotify.com/track/3SktMqZmo3M9zbB7oKMIF7'}, 'href': 'https://api.spotify.com/v1/tracks/3SktMqZmo3M9zbB7oKMIF7', 'id': '3SktMqZmo3M9zbB7oKMIF7', 'is_local': False, 'is_playable': True, 'name': 'Gravity', 'popularity': 75, 'preview_url': 'https://p.scdn.co/mp3-preview/c0c76e643625fbad2c3b21b1407a2964fb14ee47?cid=99beb1b6bbc645b5a56f18415eaa2a1a', 'track_number': 4, 'type': 'track', 'uri': 'spotify:track:3SktMqZmo3M9zbB7oKMIF7'}\n",
      "{'album': {'album_type': 'album', 'artists': [{'external_urls': {'spotify': 'https://open.spotify.com/artist/0hEurMDQu99nJRq8pTxO14'}, 'href': 'https://api.spotify.com/v1/artists/0hEurMDQu99nJRq8pTxO14', 'id': '0hEurMDQu99nJRq8pTxO14', 'name': 'John Mayer', 'type': 'artist', 'uri': 'spotify:artist:0hEurMDQu99nJRq8pTxO14'}], 'external_urls': {'spotify': 'https://open.spotify.com/album/1Xsprdt1q9rOzTic7b9zYM'}, 'href': 'https://api.spotify.com/v1/albums/1Xsprdt1q9rOzTic7b9zYM', 'id': '1Xsprdt1q9rOzTic7b9zYM', 'images': [{'height': 640, 'url': 'https://i.scdn.co/image/ab67616d0000b2737af5fdc5ef048a68db62b85f', 'width': 640}, {'height': 300, 'url': 'https://i.scdn.co/image/ab67616d00001e027af5fdc5ef048a68db62b85f', 'width': 300}, {'height': 64, 'url': 'https://i.scdn.co/image/ab67616d000048517af5fdc5ef048a68db62b85f', 'width': 64}], 'name': 'Continuum', 'release_date': '2006-09-11', 'release_date_precision': 'day', 'total_tracks': 12, 'type': 'album', 'uri': 'spotify:album:1Xsprdt1q9rOzTic7b9zYM'}, 'artists': [{'external_urls': {'spotify': 'https://open.spotify.com/artist/0hEurMDQu99nJRq8pTxO14'}, 'href': 'https://api.spotify.com/v1/artists/0hEurMDQu99nJRq8pTxO14', 'id': '0hEurMDQu99nJRq8pTxO14', 'name': 'John Mayer', 'type': 'artist', 'uri': 'spotify:artist:0hEurMDQu99nJRq8pTxO14'}], 'disc_number': 1, 'duration_ms': 201173, 'explicit': False, 'external_ids': {'isrc': 'USSM10602589'}, 'external_urls': {'spotify': 'https://open.spotify.com/track/5imShWWzwqfAJ9gXFpGAQh'}, 'href': 'https://api.spotify.com/v1/tracks/5imShWWzwqfAJ9gXFpGAQh', 'id': '5imShWWzwqfAJ9gXFpGAQh', 'is_local': False, 'is_playable': True, 'name': 'Waiting On the World to Change', 'popularity': 74, 'preview_url': 'https://p.scdn.co/mp3-preview/50fc46ef0800aef6c599266eb18592c784e93209?cid=99beb1b6bbc645b5a56f18415eaa2a1a', 'track_number': 1, 'type': 'track', 'uri': 'spotify:track:5imShWWzwqfAJ9gXFpGAQh'}\n",
      "{'album': {'album_type': 'single', 'artists': [{'external_urls': {'spotify': 'https://open.spotify.com/artist/0hEurMDQu99nJRq8pTxO14'}, 'href': 'https://api.spotify.com/v1/artists/0hEurMDQu99nJRq8pTxO14', 'id': '0hEurMDQu99nJRq8pTxO14', 'name': 'John Mayer', 'type': 'artist', 'uri': 'spotify:artist:0hEurMDQu99nJRq8pTxO14'}], 'external_urls': {'spotify': 'https://open.spotify.com/album/35Kv9CZURVdrejZ5jsL8Xn'}, 'href': 'https://api.spotify.com/v1/albums/35Kv9CZURVdrejZ5jsL8Xn', 'id': '35Kv9CZURVdrejZ5jsL8Xn', 'images': [{'height': 640, 'url': 'https://i.scdn.co/image/ab67616d0000b273b7bb0e0e441399d367fe25d9', 'width': 640}, {'height': 300, 'url': 'https://i.scdn.co/image/ab67616d00001e02b7bb0e0e441399d367fe25d9', 'width': 300}, {'height': 64, 'url': 'https://i.scdn.co/image/ab67616d00004851b7bb0e0e441399d367fe25d9', 'width': 64}], 'name': 'I Guess I Just Feel Like', 'release_date': '2019-02-22', 'release_date_precision': 'day', 'total_tracks': 1, 'type': 'album', 'uri': 'spotify:album:35Kv9CZURVdrejZ5jsL8Xn'}, 'artists': [{'external_urls': {'spotify': 'https://open.spotify.com/artist/0hEurMDQu99nJRq8pTxO14'}, 'href': 'https://api.spotify.com/v1/artists/0hEurMDQu99nJRq8pTxO14', 'id': '0hEurMDQu99nJRq8pTxO14', 'name': 'John Mayer', 'type': 'artist', 'uri': 'spotify:artist:0hEurMDQu99nJRq8pTxO14'}], 'disc_number': 1, 'duration_ms': 285480, 'explicit': False, 'external_ids': {'isrc': 'USSM11900959'}, 'external_urls': {'spotify': 'https://open.spotify.com/track/1HNywa8Bk0TmzRwQrzhtPo'}, 'href': 'https://api.spotify.com/v1/tracks/1HNywa8Bk0TmzRwQrzhtPo', 'id': '1HNywa8Bk0TmzRwQrzhtPo', 'is_local': False, 'is_playable': True, 'name': 'I Guess I Just Feel Like', 'popularity': 73, 'preview_url': 'https://p.scdn.co/mp3-preview/62e7f2981c16230915de46596ff08a27a9bc8e1b?cid=99beb1b6bbc645b5a56f18415eaa2a1a', 'track_number': 1, 'type': 'track', 'uri': 'spotify:track:1HNywa8Bk0TmzRwQrzhtPo'}\n",
      "{'album': {'album_type': 'single', 'artists': [{'external_urls': {'spotify': 'https://open.spotify.com/artist/3qnGvpP8Yth1AqSBMqON5x'}, 'href': 'https://api.spotify.com/v1/artists/3qnGvpP8Yth1AqSBMqON5x', 'id': '3qnGvpP8Yth1AqSBMqON5x', 'name': 'Leon Bridges', 'type': 'artist', 'uri': 'spotify:artist:3qnGvpP8Yth1AqSBMqON5x'}, {'external_urls': {'spotify': 'https://open.spotify.com/artist/0hEurMDQu99nJRq8pTxO14'}, 'href': 'https://api.spotify.com/v1/artists/0hEurMDQu99nJRq8pTxO14', 'id': '0hEurMDQu99nJRq8pTxO14', 'name': 'John Mayer', 'type': 'artist', 'uri': 'spotify:artist:0hEurMDQu99nJRq8pTxO14'}], 'external_urls': {'spotify': 'https://open.spotify.com/album/2zYmSJZxBTCvDYBAEcixyV'}, 'href': 'https://api.spotify.com/v1/albums/2zYmSJZxBTCvDYBAEcixyV', 'id': '2zYmSJZxBTCvDYBAEcixyV', 'images': [{'height': 640, 'url': 'https://i.scdn.co/image/ab67616d0000b273dc4f9aa0582a986dd0a211ee', 'width': 640}, {'height': 300, 'url': 'https://i.scdn.co/image/ab67616d00001e02dc4f9aa0582a986dd0a211ee', 'width': 300}, {'height': 64, 'url': 'https://i.scdn.co/image/ab67616d00004851dc4f9aa0582a986dd0a211ee', 'width': 64}], 'name': 'Inside Friend (feat. John Mayer)', 'release_date': '2020-04-10', 'release_date_precision': 'day', 'total_tracks': 1, 'type': 'album', 'uri': 'spotify:album:2zYmSJZxBTCvDYBAEcixyV'}, 'artists': [{'external_urls': {'spotify': 'https://open.spotify.com/artist/3qnGvpP8Yth1AqSBMqON5x'}, 'href': 'https://api.spotify.com/v1/artists/3qnGvpP8Yth1AqSBMqON5x', 'id': '3qnGvpP8Yth1AqSBMqON5x', 'name': 'Leon Bridges', 'type': 'artist', 'uri': 'spotify:artist:3qnGvpP8Yth1AqSBMqON5x'}, {'external_urls': {'spotify': 'https://open.spotify.com/artist/0hEurMDQu99nJRq8pTxO14'}, 'href': 'https://api.spotify.com/v1/artists/0hEurMDQu99nJRq8pTxO14', 'id': '0hEurMDQu99nJRq8pTxO14', 'name': 'John Mayer', 'type': 'artist', 'uri': 'spotify:artist:0hEurMDQu99nJRq8pTxO14'}], 'disc_number': 1, 'duration_ms': 175432, 'explicit': False, 'external_ids': {'isrc': 'USSM12001852'}, 'external_urls': {'spotify': 'https://open.spotify.com/track/4ehkZtzPTbjsRULRfQSWYu'}, 'href': 'https://api.spotify.com/v1/tracks/4ehkZtzPTbjsRULRfQSWYu', 'id': '4ehkZtzPTbjsRULRfQSWYu', 'is_local': False, 'is_playable': True, 'name': 'Inside Friend (feat. John Mayer)', 'popularity': 73, 'preview_url': 'https://p.scdn.co/mp3-preview/176a71db7607172f54d91e7ff3ce220257be7139?cid=99beb1b6bbc645b5a56f18415eaa2a1a', 'track_number': 1, 'type': 'track', 'uri': 'spotify:track:4ehkZtzPTbjsRULRfQSWYu'}\n",
      "{'album': {'album_type': 'single', 'artists': [{'external_urls': {'spotify': 'https://open.spotify.com/artist/0hEurMDQu99nJRq8pTxO14'}, 'href': 'https://api.spotify.com/v1/artists/0hEurMDQu99nJRq8pTxO14', 'id': '0hEurMDQu99nJRq8pTxO14', 'name': 'John Mayer', 'type': 'artist', 'uri': 'spotify:artist:0hEurMDQu99nJRq8pTxO14'}], 'external_urls': {'spotify': 'https://open.spotify.com/album/5KvmuOTWNRFPAQdz0KRPcf'}, 'href': 'https://api.spotify.com/v1/albums/5KvmuOTWNRFPAQdz0KRPcf', 'id': '5KvmuOTWNRFPAQdz0KRPcf', 'images': [{'height': 640, 'url': 'https://i.scdn.co/image/ab67616d0000b2730e0f646a1fb0fb177e78bf18', 'width': 640}, {'height': 300, 'url': 'https://i.scdn.co/image/ab67616d00001e020e0f646a1fb0fb177e78bf18', 'width': 300}, {'height': 64, 'url': 'https://i.scdn.co/image/ab67616d000048510e0f646a1fb0fb177e78bf18', 'width': 64}], 'name': 'Carry Me Away', 'release_date': '2019-09-06', 'release_date_precision': 'day', 'total_tracks': 1, 'type': 'album', 'uri': 'spotify:album:5KvmuOTWNRFPAQdz0KRPcf'}, 'artists': [{'external_urls': {'spotify': 'https://open.spotify.com/artist/0hEurMDQu99nJRq8pTxO14'}, 'href': 'https://api.spotify.com/v1/artists/0hEurMDQu99nJRq8pTxO14', 'id': '0hEurMDQu99nJRq8pTxO14', 'name': 'John Mayer', 'type': 'artist', 'uri': 'spotify:artist:0hEurMDQu99nJRq8pTxO14'}], 'disc_number': 1, 'duration_ms': 156986, 'explicit': False, 'external_ids': {'isrc': 'USSM11905957'}, 'external_urls': {'spotify': 'https://open.spotify.com/track/6TL3MOcVW8i1UiJkvhpDbR'}, 'href': 'https://api.spotify.com/v1/tracks/6TL3MOcVW8i1UiJkvhpDbR', 'id': '6TL3MOcVW8i1UiJkvhpDbR', 'is_local': False, 'is_playable': True, 'name': 'Carry Me Away', 'popularity': 73, 'preview_url': 'https://p.scdn.co/mp3-preview/b2e497009f29df18a4bef52ca4f1f1b9447cd65d?cid=99beb1b6bbc645b5a56f18415eaa2a1a', 'track_number': 1, 'type': 'track', 'uri': 'spotify:track:6TL3MOcVW8i1UiJkvhpDbR'}\n",
      "{'album': {'album_type': 'single', 'artists': [{'external_urls': {'spotify': 'https://open.spotify.com/artist/0hEurMDQu99nJRq8pTxO14'}, 'href': 'https://api.spotify.com/v1/artists/0hEurMDQu99nJRq8pTxO14', 'id': '0hEurMDQu99nJRq8pTxO14', 'name': 'John Mayer', 'type': 'artist', 'uri': 'spotify:artist:0hEurMDQu99nJRq8pTxO14'}], 'external_urls': {'spotify': 'https://open.spotify.com/album/305TANxsPTFkiqS4cEilx1'}, 'href': 'https://api.spotify.com/v1/albums/305TANxsPTFkiqS4cEilx1', 'id': '305TANxsPTFkiqS4cEilx1', 'images': [{'height': 640, 'url': 'https://i.scdn.co/image/ab67616d0000b273924db37163c8c94430c689fc', 'width': 640}, {'height': 300, 'url': 'https://i.scdn.co/image/ab67616d00001e02924db37163c8c94430c689fc', 'width': 300}, {'height': 64, 'url': 'https://i.scdn.co/image/ab67616d00004851924db37163c8c94430c689fc', 'width': 64}], 'name': 'XO', 'release_date': '2014-05-27', 'release_date_precision': 'day', 'total_tracks': 1, 'type': 'album', 'uri': 'spotify:album:305TANxsPTFkiqS4cEilx1'}, 'artists': [{'external_urls': {'spotify': 'https://open.spotify.com/artist/0hEurMDQu99nJRq8pTxO14'}, 'href': 'https://api.spotify.com/v1/artists/0hEurMDQu99nJRq8pTxO14', 'id': '0hEurMDQu99nJRq8pTxO14', 'name': 'John Mayer', 'type': 'artist', 'uri': 'spotify:artist:0hEurMDQu99nJRq8pTxO14'}], 'disc_number': 1, 'duration_ms': 213626, 'explicit': False, 'external_ids': {'isrc': 'USSM11403983'}, 'external_urls': {'spotify': 'https://open.spotify.com/track/7cpCU3Denug5NGZsSpQl8v'}, 'href': 'https://api.spotify.com/v1/tracks/7cpCU3Denug5NGZsSpQl8v', 'id': '7cpCU3Denug5NGZsSpQl8v', 'is_local': False, 'is_playable': True, 'name': 'XO', 'popularity': 72, 'preview_url': 'https://p.scdn.co/mp3-preview/ae749156ad44a1695dfc9371924868f554c62f09?cid=99beb1b6bbc645b5a56f18415eaa2a1a', 'track_number': 1, 'type': 'track', 'uri': 'spotify:track:7cpCU3Denug5NGZsSpQl8v'}\n"
     ]
    }
   ],
   "source": [
    "for item in sp.artist_top_tracks(get_artist(\"John Mayer\")[\"uri\"], country='US')[\"tracks\"]:\n",
    "    #print(item[\"name\"], item[\"release_date\"], sp.audio_features(item[\"uri\"]))\n",
    "    print(item)"
   ]
  },
  {
   "cell_type": "code",
   "execution_count": 9,
   "metadata": {},
   "outputs": [],
   "source": [
    "#sp.audio_analysis('spotify:track:7vFv0yFGMJW3qVXbAd9BK9')"
   ]
  },
  {
   "cell_type": "markdown",
   "metadata": {},
   "source": [
    "## Spotify Unwrapped - 2010s\n",
    "\n",
    "After playing around with artist data a little bit, we will now look at a particular playlist: Spotify's most streamed songs of the 2010s. We will look into the most popular songs, their audio features, and if there is anything particular that we can garner that may correlate to their popularity.\n",
    "\n",
    "The cell below will create the dataframe that will contain our data. This incorporates functions prevoiusly used."
   ]
  },
  {
   "cell_type": "code",
   "execution_count": 70,
   "metadata": {},
   "outputs": [],
   "source": [
    "# Creates dataframe containing the top 50 streamed songs of the 2010s \n",
    "\n",
    "tens_df = pd.DataFrame()\n",
    "tens = sp.user_playlist_tracks('spotify', playlist_id='37i9dQZF1DWYJ5kmTbkZiz', fields = 'items')\n",
    "for song in tens['items']:\n",
    "    #gets name and uri\n",
    "    ab = pd.DataFrame([sp.audio_features(song['track']['uri'])[0]])\n",
    "    ab[\"Name\"] = song['track']['name']\n",
    "    artist = []\n",
    "    for art in song['track']['artists']:\n",
    "        artist.append(art['name'])\n",
    "    ab[\"Artists\"] = [artist]\n",
    "    abcols = ab.columns.tolist()\n",
    "    abcols = abcols[-1:] + abcols[:-1]\n",
    "    abcols = abcols[-1:] + abcols[:-1]\n",
    "    ab = ab[abcols]\n",
    "    \n",
    "    if tens_df.empty:\n",
    "        tens_df = ab\n",
    "    else:\n",
    "        tens_df = pd.concat([tens_df, ab])\n",
    "tens_df = tens_df.reset_index(drop = True)\n",
    "#list(tens['items'])"
   ]
  },
  {
   "cell_type": "markdown",
   "metadata": {},
   "source": [
    "Now that we have our dataframe, we can look at all of the features."
   ]
  },
  {
   "cell_type": "code",
   "execution_count": 4,
   "metadata": {},
   "outputs": [
    {
     "ename": "NameError",
     "evalue": "name 'tens_df' is not defined",
     "output_type": "error",
     "traceback": [
      "\u001b[0;31m---------------------------------------------------------------------------\u001b[0m",
      "\u001b[0;31mNameError\u001b[0m                                 Traceback (most recent call last)",
      "\u001b[0;32m<ipython-input-4-35543c16123a>\u001b[0m in \u001b[0;36m<module>\u001b[0;34m\u001b[0m\n\u001b[0;32m----> 1\u001b[0;31m \u001b[0mtens_df\u001b[0m\u001b[0;34m.\u001b[0m\u001b[0m_get_numeric_data\u001b[0m\u001b[0;34m(\u001b[0m\u001b[0;34m)\u001b[0m\u001b[0;34m.\u001b[0m\u001b[0mhist\u001b[0m\u001b[0;34m(\u001b[0m\u001b[0mbins\u001b[0m\u001b[0;34m=\u001b[0m\u001b[0;36m10\u001b[0m\u001b[0;34m,\u001b[0m \u001b[0mfigsize\u001b[0m\u001b[0;34m=\u001b[0m\u001b[0;34m(\u001b[0m\u001b[0;36m18\u001b[0m\u001b[0;34m,\u001b[0m \u001b[0;36m15\u001b[0m\u001b[0;34m)\u001b[0m\u001b[0;34m,\u001b[0m \u001b[0mlayout\u001b[0m\u001b[0;34m=\u001b[0m\u001b[0;34m(\u001b[0m\u001b[0;36m4\u001b[0m\u001b[0;34m,\u001b[0m \u001b[0;36m4\u001b[0m\u001b[0;34m)\u001b[0m\u001b[0;34m)\u001b[0m\u001b[0;34m;\u001b[0m\u001b[0;34m\u001b[0m\u001b[0;34m\u001b[0m\u001b[0m\n\u001b[0m",
      "\u001b[0;31mNameError\u001b[0m: name 'tens_df' is not defined"
     ]
    }
   ],
   "source": [
    "tens_df._get_numeric_data().hist(bins=10, figsize=(18, 15), layout=(4, 4));"
   ]
  },
  {
   "cell_type": "markdown",
   "metadata": {},
   "source": [
    "Below I created a widget that allows me to choose from the songs in the playlist to show their respective audio features."
   ]
  },
  {
   "cell_type": "code",
   "execution_count": 71,
   "metadata": {},
   "outputs": [
    {
     "data": {
      "application/vnd.jupyter.widget-view+json": {
       "model_id": "7502f13576134faa847e74d269a208d1",
       "version_major": 2,
       "version_minor": 0
      },
      "text/plain": [
       "VBox(children=(Dropdown(description='Song:', options=('One Dance', 'Lean On (feat. MØ & DJ Snake)', 'Sunflower…"
      ]
     },
     "metadata": {},
     "output_type": "display_data"
    }
   ],
   "source": [
    "## Code block to make plotly visualization of top 50 of Spotify 2010s\n",
    "\n",
    "song_choice = widgets.Dropdown(\n",
    "    options=tens_df[\"Name\"],\n",
    "    value=\"One Dance\",\n",
    "    description='Song:',\n",
    ")\n",
    "\n",
    "s_layout = go.Layout(\n",
    "    polar=dict(\n",
    "        radialaxis=dict(\n",
    "            visible=True,\n",
    "            range=[0, 1]\n",
    "        )\n",
    "    ),\n",
    "    showlegend=False,\n",
    "    title=\"Spotify's Top 50 of the Decade: {}\".format(song_choice.value)\n",
    ")\n",
    "\n",
    "#interactive(to_plot, graph = graph_choice, dat = data_choice)\n",
    "\n",
    "top_50 = go.FigureWidget(data=[polar_song_stats(tens_df[tens_df[\"Name\"] == \"One Dance\"])], layout=s_layout)\n",
    "\n",
    "def validate(): \n",
    "    return True\n",
    "\n",
    "\n",
    "def response(change):\n",
    "    if validate():\n",
    "        temp_df = tens_df[tens_df[\"Name\"] == song_choice.value]\n",
    "\n",
    "        x1 = polar_song_stats(temp_df)\n",
    "        with top_50.batch_update():\n",
    "            top_50.data[0].r = x1.r\n",
    "            top_50.data[0].name = x1.name\n",
    "            top_50.layout.title = title=\"Spotify's Top 50 of the Decade: {}\".format(song_choice.value)\n",
    "            #g.layout.barmode = 'overlay'\n",
    "            #g.layout.xaxis.title = 'Delay in Minutes'\n",
    "            #g.layout.yaxis.title = 'Number of Delays'\n",
    "\n",
    "\n",
    "song_choice.observe(response, names=\"value\")\n",
    "\n",
    "widgets.VBox([song_choice,\n",
    "              top_50])"
   ]
  },
  {
   "cell_type": "code",
   "execution_count": 72,
   "metadata": {},
   "outputs": [
    {
     "data": {
      "application/vnd.plotly.v1+json": {
       "config": {
        "plotlyServerURL": "https://plot.ly"
       },
       "data": [
        {
         "hovertext": [
          "One Dance",
          "Lean On (feat. MØ & DJ Snake)",
          "Sunflower - Spider-Man: Into the Spider-Verse",
          "Somebody That I Used To Know",
          "Rolling in the Deep",
          "Can't Hold Us - feat. Ray Dalton",
          "7 rings",
          "Wake Me Up",
          "Love The Way You Lie",
          "bad guy",
          "Rather Be (feat. Jess Glynne)",
          "Call Me Maybe",
          "We Are Young (feat. Janelle Monáe)",
          "Shape of You",
          "Closer",
          "Cheerleader - Felix Jaehn Remix Radio Edit",
          "Radioactive",
          "Señorita",
          "Airplanes (feat. Hayley Williams)",
          "SAD!",
          "Thinking out Loud",
          "See You Again (feat. Charlie Puth)",
          "Summer",
          "God's Plan",
          "Don't Let Me Down",
          "Thrift Shop (feat. Wanz)",
          "rockstar (feat. 21 Savage)",
          "Grenade",
          "I Took A Pill In Ibiza - Seeb Remix",
          "Despacito",
          "HUMBLE.",
          "Old Town Road - Remix",
          "Waka Waka (This Time for Africa) [The Official 2010 FIFA World Cup (TM) Song] (feat. Freshlyground)",
          "Danza Kuduro",
          "Dark Horse",
          "Cheap Thrills",
          "Uptown Funk (feat. Bruno Mars)",
          "Despacito - Remix",
          "Only Girl (In The World)",
          "Psycho (feat. Ty Dolla $ign)",
          "Happy - From \"Despicable Me 2\"",
          "On The Floor - Radio Edit",
          "Starships",
          "Whistle",
          "Party Rock Anthem",
          "In My Feelings",
          "Something Just Like This",
          "All of Me",
          "Let Her Go",
          "Not Afraid"
         ],
         "marker": {
          "size": [
           10.3967,
           9.8007,
           8.995999999999999,
           12.905899999999999,
           10.494499999999999,
           14.607800000000001,
           14.0048,
           12.408,
           8.6989,
           13.512799999999999,
           12.097,
           12.0021,
           18.4086,
           9.5977,
           9.501000000000001,
           11.8016,
           13.624500000000001,
           11.6967,
           9.3033,
           7.5023,
           7.899800000000001,
           8.002500000000001,
           12.7949,
           7.7169,
           15.9797,
           9.4992,
           15.980099999999998,
           11.0443,
           10.1965,
           17.7928,
           15.0011,
           13.604099999999999,
           12.6988,
           8.8917,
           13.193100000000001,
           8.9976,
           11.4988,
           17.7899,
           12.591,
           14.006,
           16.0019,
           13.0007,
           12.5008,
           10.3976,
           13.0014,
           9.103,
           10.3019,
           11.993,
           7.5089,
           11.4635
          ]
         },
         "mode": "markers",
         "type": "scatter",
         "x": [
          0.37,
          0.274,
          0.925,
          0.748,
          0.522,
          0.847,
          0.327,
          0.643,
          0.641,
          0.562,
          0.549,
          0.66,
          0.735,
          0.931,
          0.661,
          0.603,
          0.236,
          0.749,
          0.377,
          0.473,
          0.591,
          0.283,
          0.743,
          0.357,
          0.403,
          0.662,
          0.129,
          0.227,
          0.69,
          0.839,
          0.421,
          0.639,
          0.743,
          0.878,
          0.353,
          0.732,
          0.928,
          0.857,
          0.609,
          0.459,
          0.962,
          0.444,
          0.751,
          0.739,
          0.352,
          0.35,
          0.446,
          0.331,
          0.244,
          0.668
         ],
         "y": [
          0.625,
          0.809,
          0.522,
          0.521,
          0.756,
          0.922,
          0.317,
          0.783,
          0.925,
          0.425,
          0.586,
          0.58,
          0.638,
          0.652,
          0.524,
          0.685,
          0.784,
          0.548,
          0.867,
          0.613,
          0.445,
          0.481,
          0.856,
          0.449,
          0.859,
          0.526,
          0.52,
          0.558,
          0.713,
          0.797,
          0.621,
          0.619,
          0.873,
          0.915,
          0.585,
          0.698,
          0.609,
          0.798,
          0.716,
          0.56,
          0.822,
          0.686,
          0.716,
          0.937,
          0.736,
          0.626,
          0.635,
          0.264,
          0.538,
          0.954
         ]
        }
       ],
       "layout": {
        "autosize": false,
        "font": {
         "color": "#7f7f7f",
         "family": "Courier New, monospace",
         "size": 18
        },
        "height": 600,
        "shapes": [
         {
          "line": {
           "color": "rgb(50, 171, 96)",
           "width": 2
          },
          "type": "line",
          "x0": 0,
          "x1": 1,
          "y0": 0.5,
          "y1": 0.5
         },
         {
          "line": {
           "color": "rgb(50, 171, 96)",
           "width": 2
          },
          "type": "line",
          "x0": 0.5,
          "x1": 0.5,
          "y0": 0,
          "y1": 1
         },
         {
          "line": {
           "color": "red",
           "width": 2
          },
          "type": "line",
          "x0": 0,
          "x1": 1,
          "y0": 0.6638800000000002,
          "y1": 0.6638800000000002
         },
         {
          "line": {
           "color": "red",
           "width": 2
          },
          "type": "line",
          "x0": 0.5732600000000001,
          "x1": 0.5732600000000001,
          "y0": 0,
          "y1": 1
         }
        ],
        "showlegend": false,
        "template": {
         "data": {
          "bar": [
           {
            "error_x": {
             "color": "#2a3f5f"
            },
            "error_y": {
             "color": "#2a3f5f"
            },
            "marker": {
             "line": {
              "color": "#E5ECF6",
              "width": 0.5
             }
            },
            "type": "bar"
           }
          ],
          "barpolar": [
           {
            "marker": {
             "line": {
              "color": "#E5ECF6",
              "width": 0.5
             }
            },
            "type": "barpolar"
           }
          ],
          "carpet": [
           {
            "aaxis": {
             "endlinecolor": "#2a3f5f",
             "gridcolor": "white",
             "linecolor": "white",
             "minorgridcolor": "white",
             "startlinecolor": "#2a3f5f"
            },
            "baxis": {
             "endlinecolor": "#2a3f5f",
             "gridcolor": "white",
             "linecolor": "white",
             "minorgridcolor": "white",
             "startlinecolor": "#2a3f5f"
            },
            "type": "carpet"
           }
          ],
          "choropleth": [
           {
            "colorbar": {
             "outlinewidth": 0,
             "ticks": ""
            },
            "type": "choropleth"
           }
          ],
          "contour": [
           {
            "colorbar": {
             "outlinewidth": 0,
             "ticks": ""
            },
            "colorscale": [
             [
              0,
              "#0d0887"
             ],
             [
              0.1111111111111111,
              "#46039f"
             ],
             [
              0.2222222222222222,
              "#7201a8"
             ],
             [
              0.3333333333333333,
              "#9c179e"
             ],
             [
              0.4444444444444444,
              "#bd3786"
             ],
             [
              0.5555555555555556,
              "#d8576b"
             ],
             [
              0.6666666666666666,
              "#ed7953"
             ],
             [
              0.7777777777777778,
              "#fb9f3a"
             ],
             [
              0.8888888888888888,
              "#fdca26"
             ],
             [
              1,
              "#f0f921"
             ]
            ],
            "type": "contour"
           }
          ],
          "contourcarpet": [
           {
            "colorbar": {
             "outlinewidth": 0,
             "ticks": ""
            },
            "type": "contourcarpet"
           }
          ],
          "heatmap": [
           {
            "colorbar": {
             "outlinewidth": 0,
             "ticks": ""
            },
            "colorscale": [
             [
              0,
              "#0d0887"
             ],
             [
              0.1111111111111111,
              "#46039f"
             ],
             [
              0.2222222222222222,
              "#7201a8"
             ],
             [
              0.3333333333333333,
              "#9c179e"
             ],
             [
              0.4444444444444444,
              "#bd3786"
             ],
             [
              0.5555555555555556,
              "#d8576b"
             ],
             [
              0.6666666666666666,
              "#ed7953"
             ],
             [
              0.7777777777777778,
              "#fb9f3a"
             ],
             [
              0.8888888888888888,
              "#fdca26"
             ],
             [
              1,
              "#f0f921"
             ]
            ],
            "type": "heatmap"
           }
          ],
          "heatmapgl": [
           {
            "colorbar": {
             "outlinewidth": 0,
             "ticks": ""
            },
            "colorscale": [
             [
              0,
              "#0d0887"
             ],
             [
              0.1111111111111111,
              "#46039f"
             ],
             [
              0.2222222222222222,
              "#7201a8"
             ],
             [
              0.3333333333333333,
              "#9c179e"
             ],
             [
              0.4444444444444444,
              "#bd3786"
             ],
             [
              0.5555555555555556,
              "#d8576b"
             ],
             [
              0.6666666666666666,
              "#ed7953"
             ],
             [
              0.7777777777777778,
              "#fb9f3a"
             ],
             [
              0.8888888888888888,
              "#fdca26"
             ],
             [
              1,
              "#f0f921"
             ]
            ],
            "type": "heatmapgl"
           }
          ],
          "histogram": [
           {
            "marker": {
             "colorbar": {
              "outlinewidth": 0,
              "ticks": ""
             }
            },
            "type": "histogram"
           }
          ],
          "histogram2d": [
           {
            "colorbar": {
             "outlinewidth": 0,
             "ticks": ""
            },
            "colorscale": [
             [
              0,
              "#0d0887"
             ],
             [
              0.1111111111111111,
              "#46039f"
             ],
             [
              0.2222222222222222,
              "#7201a8"
             ],
             [
              0.3333333333333333,
              "#9c179e"
             ],
             [
              0.4444444444444444,
              "#bd3786"
             ],
             [
              0.5555555555555556,
              "#d8576b"
             ],
             [
              0.6666666666666666,
              "#ed7953"
             ],
             [
              0.7777777777777778,
              "#fb9f3a"
             ],
             [
              0.8888888888888888,
              "#fdca26"
             ],
             [
              1,
              "#f0f921"
             ]
            ],
            "type": "histogram2d"
           }
          ],
          "histogram2dcontour": [
           {
            "colorbar": {
             "outlinewidth": 0,
             "ticks": ""
            },
            "colorscale": [
             [
              0,
              "#0d0887"
             ],
             [
              0.1111111111111111,
              "#46039f"
             ],
             [
              0.2222222222222222,
              "#7201a8"
             ],
             [
              0.3333333333333333,
              "#9c179e"
             ],
             [
              0.4444444444444444,
              "#bd3786"
             ],
             [
              0.5555555555555556,
              "#d8576b"
             ],
             [
              0.6666666666666666,
              "#ed7953"
             ],
             [
              0.7777777777777778,
              "#fb9f3a"
             ],
             [
              0.8888888888888888,
              "#fdca26"
             ],
             [
              1,
              "#f0f921"
             ]
            ],
            "type": "histogram2dcontour"
           }
          ],
          "mesh3d": [
           {
            "colorbar": {
             "outlinewidth": 0,
             "ticks": ""
            },
            "type": "mesh3d"
           }
          ],
          "parcoords": [
           {
            "line": {
             "colorbar": {
              "outlinewidth": 0,
              "ticks": ""
             }
            },
            "type": "parcoords"
           }
          ],
          "scatter": [
           {
            "marker": {
             "colorbar": {
              "outlinewidth": 0,
              "ticks": ""
             }
            },
            "type": "scatter"
           }
          ],
          "scatter3d": [
           {
            "line": {
             "colorbar": {
              "outlinewidth": 0,
              "ticks": ""
             }
            },
            "marker": {
             "colorbar": {
              "outlinewidth": 0,
              "ticks": ""
             }
            },
            "type": "scatter3d"
           }
          ],
          "scattercarpet": [
           {
            "marker": {
             "colorbar": {
              "outlinewidth": 0,
              "ticks": ""
             }
            },
            "type": "scattercarpet"
           }
          ],
          "scattergeo": [
           {
            "marker": {
             "colorbar": {
              "outlinewidth": 0,
              "ticks": ""
             }
            },
            "type": "scattergeo"
           }
          ],
          "scattergl": [
           {
            "marker": {
             "colorbar": {
              "outlinewidth": 0,
              "ticks": ""
             }
            },
            "type": "scattergl"
           }
          ],
          "scattermapbox": [
           {
            "marker": {
             "colorbar": {
              "outlinewidth": 0,
              "ticks": ""
             }
            },
            "type": "scattermapbox"
           }
          ],
          "scatterpolar": [
           {
            "marker": {
             "colorbar": {
              "outlinewidth": 0,
              "ticks": ""
             }
            },
            "type": "scatterpolar"
           }
          ],
          "scatterpolargl": [
           {
            "marker": {
             "colorbar": {
              "outlinewidth": 0,
              "ticks": ""
             }
            },
            "type": "scatterpolargl"
           }
          ],
          "scatterternary": [
           {
            "marker": {
             "colorbar": {
              "outlinewidth": 0,
              "ticks": ""
             }
            },
            "type": "scatterternary"
           }
          ],
          "surface": [
           {
            "colorbar": {
             "outlinewidth": 0,
             "ticks": ""
            },
            "colorscale": [
             [
              0,
              "#0d0887"
             ],
             [
              0.1111111111111111,
              "#46039f"
             ],
             [
              0.2222222222222222,
              "#7201a8"
             ],
             [
              0.3333333333333333,
              "#9c179e"
             ],
             [
              0.4444444444444444,
              "#bd3786"
             ],
             [
              0.5555555555555556,
              "#d8576b"
             ],
             [
              0.6666666666666666,
              "#ed7953"
             ],
             [
              0.7777777777777778,
              "#fb9f3a"
             ],
             [
              0.8888888888888888,
              "#fdca26"
             ],
             [
              1,
              "#f0f921"
             ]
            ],
            "type": "surface"
           }
          ],
          "table": [
           {
            "cells": {
             "fill": {
              "color": "#EBF0F8"
             },
             "line": {
              "color": "white"
             }
            },
            "header": {
             "fill": {
              "color": "#C8D4E3"
             },
             "line": {
              "color": "white"
             }
            },
            "type": "table"
           }
          ]
         },
         "layout": {
          "annotationdefaults": {
           "arrowcolor": "#2a3f5f",
           "arrowhead": 0,
           "arrowwidth": 1
          },
          "colorscale": {
           "diverging": [
            [
             0,
             "#8e0152"
            ],
            [
             0.1,
             "#c51b7d"
            ],
            [
             0.2,
             "#de77ae"
            ],
            [
             0.3,
             "#f1b6da"
            ],
            [
             0.4,
             "#fde0ef"
            ],
            [
             0.5,
             "#f7f7f7"
            ],
            [
             0.6,
             "#e6f5d0"
            ],
            [
             0.7,
             "#b8e186"
            ],
            [
             0.8,
             "#7fbc41"
            ],
            [
             0.9,
             "#4d9221"
            ],
            [
             1,
             "#276419"
            ]
           ],
           "sequential": [
            [
             0,
             "#0d0887"
            ],
            [
             0.1111111111111111,
             "#46039f"
            ],
            [
             0.2222222222222222,
             "#7201a8"
            ],
            [
             0.3333333333333333,
             "#9c179e"
            ],
            [
             0.4444444444444444,
             "#bd3786"
            ],
            [
             0.5555555555555556,
             "#d8576b"
            ],
            [
             0.6666666666666666,
             "#ed7953"
            ],
            [
             0.7777777777777778,
             "#fb9f3a"
            ],
            [
             0.8888888888888888,
             "#fdca26"
            ],
            [
             1,
             "#f0f921"
            ]
           ],
           "sequentialminus": [
            [
             0,
             "#0d0887"
            ],
            [
             0.1111111111111111,
             "#46039f"
            ],
            [
             0.2222222222222222,
             "#7201a8"
            ],
            [
             0.3333333333333333,
             "#9c179e"
            ],
            [
             0.4444444444444444,
             "#bd3786"
            ],
            [
             0.5555555555555556,
             "#d8576b"
            ],
            [
             0.6666666666666666,
             "#ed7953"
            ],
            [
             0.7777777777777778,
             "#fb9f3a"
            ],
            [
             0.8888888888888888,
             "#fdca26"
            ],
            [
             1,
             "#f0f921"
            ]
           ]
          },
          "colorway": [
           "#636efa",
           "#EF553B",
           "#00cc96",
           "#ab63fa",
           "#FFA15A",
           "#19d3f3",
           "#FF6692",
           "#B6E880",
           "#FF97FF",
           "#FECB52"
          ],
          "font": {
           "color": "#2a3f5f"
          },
          "geo": {
           "bgcolor": "white",
           "lakecolor": "white",
           "landcolor": "#E5ECF6",
           "showlakes": true,
           "showland": true,
           "subunitcolor": "white"
          },
          "hoverlabel": {
           "align": "left"
          },
          "hovermode": "closest",
          "mapbox": {
           "style": "light"
          },
          "paper_bgcolor": "white",
          "plot_bgcolor": "#E5ECF6",
          "polar": {
           "angularaxis": {
            "gridcolor": "white",
            "linecolor": "white",
            "ticks": ""
           },
           "bgcolor": "#E5ECF6",
           "radialaxis": {
            "gridcolor": "white",
            "linecolor": "white",
            "ticks": ""
           }
          },
          "scene": {
           "xaxis": {
            "backgroundcolor": "#E5ECF6",
            "gridcolor": "white",
            "gridwidth": 2,
            "linecolor": "white",
            "showbackground": true,
            "ticks": "",
            "zerolinecolor": "white"
           },
           "yaxis": {
            "backgroundcolor": "#E5ECF6",
            "gridcolor": "white",
            "gridwidth": 2,
            "linecolor": "white",
            "showbackground": true,
            "ticks": "",
            "zerolinecolor": "white"
           },
           "zaxis": {
            "backgroundcolor": "#E5ECF6",
            "gridcolor": "white",
            "gridwidth": 2,
            "linecolor": "white",
            "showbackground": true,
            "ticks": "",
            "zerolinecolor": "white"
           }
          },
          "shapedefaults": {
           "line": {
            "color": "#2a3f5f"
           }
          },
          "ternary": {
           "aaxis": {
            "gridcolor": "white",
            "linecolor": "white",
            "ticks": ""
           },
           "baxis": {
            "gridcolor": "white",
            "linecolor": "white",
            "ticks": ""
           },
           "bgcolor": "#E5ECF6",
           "caxis": {
            "gridcolor": "white",
            "linecolor": "white",
            "ticks": ""
           }
          },
          "title": {
           "x": 0.05
          },
          "xaxis": {
           "automargin": true,
           "gridcolor": "white",
           "linecolor": "white",
           "ticks": "",
           "zerolinecolor": "white",
           "zerolinewidth": 2
          },
          "yaxis": {
           "automargin": true,
           "gridcolor": "white",
           "linecolor": "white",
           "ticks": "",
           "zerolinecolor": "white",
           "zerolinewidth": 2
          }
         }
        },
        "title": {
         "text": "Spotify Top 50 of the 2010s"
        },
        "width": 600,
        "xaxis": {
         "range": [
          0,
          1
         ],
         "title": {
          "text": "Valence"
         }
        },
        "yaxis": {
         "range": [
          0,
          1
         ],
         "title": {
          "text": "Energy"
         }
        }
       }
      },
      "text/html": [
       "<div>\n",
       "        \n",
       "        \n",
       "            <div id=\"5781fa70-9abc-4362-ab62-fc7b030c3ebb\" class=\"plotly-graph-div\" style=\"height:600px; width:600px;\"></div>\n",
       "            <script type=\"text/javascript\">\n",
       "                require([\"plotly\"], function(Plotly) {\n",
       "                    window.PLOTLYENV=window.PLOTLYENV || {};\n",
       "                    \n",
       "                if (document.getElementById(\"5781fa70-9abc-4362-ab62-fc7b030c3ebb\")) {\n",
       "                    Plotly.newPlot(\n",
       "                        '5781fa70-9abc-4362-ab62-fc7b030c3ebb',\n",
       "                        [{\"hovertext\": [\"One Dance\", \"Lean On (feat. M\\u00d8 & DJ Snake)\", \"Sunflower - Spider-Man: Into the Spider-Verse\", \"Somebody That I Used To Know\", \"Rolling in the Deep\", \"Can't Hold Us - feat. Ray Dalton\", \"7 rings\", \"Wake Me Up\", \"Love The Way You Lie\", \"bad guy\", \"Rather Be (feat. Jess Glynne)\", \"Call Me Maybe\", \"We Are Young (feat. Janelle Mon\\u00e1e)\", \"Shape of You\", \"Closer\", \"Cheerleader - Felix Jaehn Remix Radio Edit\", \"Radioactive\", \"Se\\u00f1orita\", \"Airplanes (feat. Hayley Williams)\", \"SAD!\", \"Thinking out Loud\", \"See You Again (feat. Charlie Puth)\", \"Summer\", \"God's Plan\", \"Don't Let Me Down\", \"Thrift Shop (feat. Wanz)\", \"rockstar (feat. 21 Savage)\", \"Grenade\", \"I Took A Pill In Ibiza - Seeb Remix\", \"Despacito\", \"HUMBLE.\", \"Old Town Road - Remix\", \"Waka Waka (This Time for Africa) [The Official 2010 FIFA World Cup (TM) Song] (feat. Freshlyground)\", \"Danza Kuduro\", \"Dark Horse\", \"Cheap Thrills\", \"Uptown Funk (feat. Bruno Mars)\", \"Despacito - Remix\", \"Only Girl (In The World)\", \"Psycho (feat. Ty Dolla $ign)\", \"Happy - From \\\"Despicable Me 2\\\"\", \"On The Floor - Radio Edit\", \"Starships\", \"Whistle\", \"Party Rock Anthem\", \"In My Feelings\", \"Something Just Like This\", \"All of Me\", \"Let Her Go\", \"Not Afraid\"], \"marker\": {\"size\": [10.3967, 9.8007, 8.995999999999999, 12.905899999999999, 10.494499999999999, 14.607800000000001, 14.0048, 12.408, 8.6989, 13.512799999999999, 12.097, 12.0021, 18.4086, 9.5977, 9.501000000000001, 11.8016, 13.624500000000001, 11.6967, 9.3033, 7.5023, 7.899800000000001, 8.002500000000001, 12.7949, 7.7169, 15.9797, 9.4992, 15.980099999999998, 11.0443, 10.1965, 17.7928, 15.0011, 13.604099999999999, 12.6988, 8.8917, 13.193100000000001, 8.9976, 11.4988, 17.7899, 12.591, 14.006, 16.0019, 13.0007, 12.5008, 10.3976, 13.0014, 9.103, 10.3019, 11.993, 7.5089, 11.4635]}, \"mode\": \"markers\", \"type\": \"scatter\", \"x\": [0.37, 0.274, 0.925, 0.748, 0.522, 0.847, 0.327, 0.643, 0.641, 0.562, 0.549, 0.66, 0.735, 0.931, 0.661, 0.603, 0.236, 0.749, 0.377, 0.473, 0.591, 0.283, 0.743, 0.357, 0.403, 0.662, 0.129, 0.227, 0.69, 0.839, 0.421, 0.639, 0.743, 0.878, 0.353, 0.732, 0.928, 0.857, 0.609, 0.459, 0.962, 0.444, 0.751, 0.739, 0.352, 0.35, 0.446, 0.331, 0.244, 0.668], \"y\": [0.625, 0.809, 0.522, 0.521, 0.756, 0.922, 0.317, 0.783, 0.925, 0.425, 0.586, 0.58, 0.638, 0.652, 0.524, 0.685, 0.784, 0.548, 0.867, 0.613, 0.445, 0.481, 0.856, 0.449, 0.859, 0.526, 0.52, 0.558, 0.713, 0.797, 0.621, 0.619, 0.873, 0.915, 0.585, 0.698, 0.609, 0.798, 0.716, 0.56, 0.822, 0.686, 0.716, 0.937, 0.736, 0.626, 0.635, 0.264, 0.538, 0.954]}],\n",
       "                        {\"autosize\": false, \"font\": {\"color\": \"#7f7f7f\", \"family\": \"Courier New, monospace\", \"size\": 18}, \"height\": 600, \"shapes\": [{\"line\": {\"color\": \"rgb(50, 171, 96)\", \"width\": 2}, \"type\": \"line\", \"x0\": 0, \"x1\": 1, \"y0\": 0.5, \"y1\": 0.5}, {\"line\": {\"color\": \"rgb(50, 171, 96)\", \"width\": 2}, \"type\": \"line\", \"x0\": 0.5, \"x1\": 0.5, \"y0\": 0, \"y1\": 1}, {\"line\": {\"color\": \"red\", \"width\": 2}, \"type\": \"line\", \"x0\": 0, \"x1\": 1, \"y0\": 0.6638800000000002, \"y1\": 0.6638800000000002}, {\"line\": {\"color\": \"red\", \"width\": 2}, \"type\": \"line\", \"x0\": 0.5732600000000001, \"x1\": 0.5732600000000001, \"y0\": 0, \"y1\": 1}], \"showlegend\": false, \"template\": {\"data\": {\"bar\": [{\"error_x\": {\"color\": \"#2a3f5f\"}, \"error_y\": {\"color\": \"#2a3f5f\"}, \"marker\": {\"line\": {\"color\": \"#E5ECF6\", \"width\": 0.5}}, \"type\": \"bar\"}], \"barpolar\": [{\"marker\": {\"line\": {\"color\": \"#E5ECF6\", \"width\": 0.5}}, \"type\": \"barpolar\"}], \"carpet\": [{\"aaxis\": {\"endlinecolor\": \"#2a3f5f\", \"gridcolor\": \"white\", \"linecolor\": \"white\", \"minorgridcolor\": \"white\", \"startlinecolor\": \"#2a3f5f\"}, \"baxis\": {\"endlinecolor\": \"#2a3f5f\", \"gridcolor\": \"white\", \"linecolor\": \"white\", \"minorgridcolor\": \"white\", \"startlinecolor\": \"#2a3f5f\"}, \"type\": \"carpet\"}], \"choropleth\": [{\"colorbar\": {\"outlinewidth\": 0, \"ticks\": \"\"}, \"type\": \"choropleth\"}], \"contour\": [{\"colorbar\": {\"outlinewidth\": 0, \"ticks\": \"\"}, \"colorscale\": [[0.0, \"#0d0887\"], [0.1111111111111111, \"#46039f\"], [0.2222222222222222, \"#7201a8\"], [0.3333333333333333, \"#9c179e\"], [0.4444444444444444, \"#bd3786\"], [0.5555555555555556, \"#d8576b\"], [0.6666666666666666, \"#ed7953\"], [0.7777777777777778, \"#fb9f3a\"], [0.8888888888888888, \"#fdca26\"], [1.0, \"#f0f921\"]], \"type\": \"contour\"}], \"contourcarpet\": [{\"colorbar\": {\"outlinewidth\": 0, \"ticks\": \"\"}, \"type\": \"contourcarpet\"}], \"heatmap\": [{\"colorbar\": {\"outlinewidth\": 0, \"ticks\": \"\"}, \"colorscale\": [[0.0, \"#0d0887\"], [0.1111111111111111, \"#46039f\"], [0.2222222222222222, \"#7201a8\"], [0.3333333333333333, \"#9c179e\"], [0.4444444444444444, \"#bd3786\"], [0.5555555555555556, \"#d8576b\"], [0.6666666666666666, \"#ed7953\"], [0.7777777777777778, \"#fb9f3a\"], [0.8888888888888888, \"#fdca26\"], [1.0, \"#f0f921\"]], \"type\": \"heatmap\"}], \"heatmapgl\": [{\"colorbar\": {\"outlinewidth\": 0, \"ticks\": \"\"}, \"colorscale\": [[0.0, \"#0d0887\"], [0.1111111111111111, \"#46039f\"], [0.2222222222222222, \"#7201a8\"], [0.3333333333333333, \"#9c179e\"], [0.4444444444444444, \"#bd3786\"], [0.5555555555555556, \"#d8576b\"], [0.6666666666666666, \"#ed7953\"], [0.7777777777777778, \"#fb9f3a\"], [0.8888888888888888, \"#fdca26\"], [1.0, \"#f0f921\"]], \"type\": \"heatmapgl\"}], \"histogram\": [{\"marker\": {\"colorbar\": {\"outlinewidth\": 0, \"ticks\": \"\"}}, \"type\": \"histogram\"}], \"histogram2d\": [{\"colorbar\": {\"outlinewidth\": 0, \"ticks\": \"\"}, \"colorscale\": [[0.0, \"#0d0887\"], [0.1111111111111111, \"#46039f\"], [0.2222222222222222, \"#7201a8\"], [0.3333333333333333, \"#9c179e\"], [0.4444444444444444, \"#bd3786\"], [0.5555555555555556, \"#d8576b\"], [0.6666666666666666, \"#ed7953\"], [0.7777777777777778, \"#fb9f3a\"], [0.8888888888888888, \"#fdca26\"], [1.0, \"#f0f921\"]], \"type\": \"histogram2d\"}], \"histogram2dcontour\": [{\"colorbar\": {\"outlinewidth\": 0, \"ticks\": \"\"}, \"colorscale\": [[0.0, \"#0d0887\"], [0.1111111111111111, \"#46039f\"], [0.2222222222222222, \"#7201a8\"], [0.3333333333333333, \"#9c179e\"], [0.4444444444444444, \"#bd3786\"], [0.5555555555555556, \"#d8576b\"], [0.6666666666666666, \"#ed7953\"], [0.7777777777777778, \"#fb9f3a\"], [0.8888888888888888, \"#fdca26\"], [1.0, \"#f0f921\"]], \"type\": \"histogram2dcontour\"}], \"mesh3d\": [{\"colorbar\": {\"outlinewidth\": 0, \"ticks\": \"\"}, \"type\": \"mesh3d\"}], \"parcoords\": [{\"line\": {\"colorbar\": {\"outlinewidth\": 0, \"ticks\": \"\"}}, \"type\": \"parcoords\"}], \"scatter\": [{\"marker\": {\"colorbar\": {\"outlinewidth\": 0, \"ticks\": \"\"}}, \"type\": \"scatter\"}], \"scatter3d\": [{\"line\": {\"colorbar\": {\"outlinewidth\": 0, \"ticks\": \"\"}}, \"marker\": {\"colorbar\": {\"outlinewidth\": 0, \"ticks\": \"\"}}, \"type\": \"scatter3d\"}], \"scattercarpet\": [{\"marker\": {\"colorbar\": {\"outlinewidth\": 0, \"ticks\": \"\"}}, \"type\": \"scattercarpet\"}], \"scattergeo\": [{\"marker\": {\"colorbar\": {\"outlinewidth\": 0, \"ticks\": \"\"}}, \"type\": \"scattergeo\"}], \"scattergl\": [{\"marker\": {\"colorbar\": {\"outlinewidth\": 0, \"ticks\": \"\"}}, \"type\": \"scattergl\"}], \"scattermapbox\": [{\"marker\": {\"colorbar\": {\"outlinewidth\": 0, \"ticks\": \"\"}}, \"type\": \"scattermapbox\"}], \"scatterpolar\": [{\"marker\": {\"colorbar\": {\"outlinewidth\": 0, \"ticks\": \"\"}}, \"type\": \"scatterpolar\"}], \"scatterpolargl\": [{\"marker\": {\"colorbar\": {\"outlinewidth\": 0, \"ticks\": \"\"}}, \"type\": \"scatterpolargl\"}], \"scatterternary\": [{\"marker\": {\"colorbar\": {\"outlinewidth\": 0, \"ticks\": \"\"}}, \"type\": \"scatterternary\"}], \"surface\": [{\"colorbar\": {\"outlinewidth\": 0, \"ticks\": \"\"}, \"colorscale\": [[0.0, \"#0d0887\"], [0.1111111111111111, \"#46039f\"], [0.2222222222222222, \"#7201a8\"], [0.3333333333333333, \"#9c179e\"], [0.4444444444444444, \"#bd3786\"], [0.5555555555555556, \"#d8576b\"], [0.6666666666666666, \"#ed7953\"], [0.7777777777777778, \"#fb9f3a\"], [0.8888888888888888, \"#fdca26\"], [1.0, \"#f0f921\"]], \"type\": \"surface\"}], \"table\": [{\"cells\": {\"fill\": {\"color\": \"#EBF0F8\"}, \"line\": {\"color\": \"white\"}}, \"header\": {\"fill\": {\"color\": \"#C8D4E3\"}, \"line\": {\"color\": \"white\"}}, \"type\": \"table\"}]}, \"layout\": {\"annotationdefaults\": {\"arrowcolor\": \"#2a3f5f\", \"arrowhead\": 0, \"arrowwidth\": 1}, \"colorscale\": {\"diverging\": [[0, \"#8e0152\"], [0.1, \"#c51b7d\"], [0.2, \"#de77ae\"], [0.3, \"#f1b6da\"], [0.4, \"#fde0ef\"], [0.5, \"#f7f7f7\"], [0.6, \"#e6f5d0\"], [0.7, \"#b8e186\"], [0.8, \"#7fbc41\"], [0.9, \"#4d9221\"], [1, \"#276419\"]], \"sequential\": [[0.0, \"#0d0887\"], [0.1111111111111111, \"#46039f\"], [0.2222222222222222, \"#7201a8\"], [0.3333333333333333, \"#9c179e\"], [0.4444444444444444, \"#bd3786\"], [0.5555555555555556, \"#d8576b\"], [0.6666666666666666, \"#ed7953\"], [0.7777777777777778, \"#fb9f3a\"], [0.8888888888888888, \"#fdca26\"], [1.0, \"#f0f921\"]], \"sequentialminus\": [[0.0, \"#0d0887\"], [0.1111111111111111, \"#46039f\"], [0.2222222222222222, \"#7201a8\"], [0.3333333333333333, \"#9c179e\"], [0.4444444444444444, \"#bd3786\"], [0.5555555555555556, \"#d8576b\"], [0.6666666666666666, \"#ed7953\"], [0.7777777777777778, \"#fb9f3a\"], [0.8888888888888888, \"#fdca26\"], [1.0, \"#f0f921\"]]}, \"colorway\": [\"#636efa\", \"#EF553B\", \"#00cc96\", \"#ab63fa\", \"#FFA15A\", \"#19d3f3\", \"#FF6692\", \"#B6E880\", \"#FF97FF\", \"#FECB52\"], \"font\": {\"color\": \"#2a3f5f\"}, \"geo\": {\"bgcolor\": \"white\", \"lakecolor\": \"white\", \"landcolor\": \"#E5ECF6\", \"showlakes\": true, \"showland\": true, \"subunitcolor\": \"white\"}, \"hoverlabel\": {\"align\": \"left\"}, \"hovermode\": \"closest\", \"mapbox\": {\"style\": \"light\"}, \"paper_bgcolor\": \"white\", \"plot_bgcolor\": \"#E5ECF6\", \"polar\": {\"angularaxis\": {\"gridcolor\": \"white\", \"linecolor\": \"white\", \"ticks\": \"\"}, \"bgcolor\": \"#E5ECF6\", \"radialaxis\": {\"gridcolor\": \"white\", \"linecolor\": \"white\", \"ticks\": \"\"}}, \"scene\": {\"xaxis\": {\"backgroundcolor\": \"#E5ECF6\", \"gridcolor\": \"white\", \"gridwidth\": 2, \"linecolor\": \"white\", \"showbackground\": true, \"ticks\": \"\", \"zerolinecolor\": \"white\"}, \"yaxis\": {\"backgroundcolor\": \"#E5ECF6\", \"gridcolor\": \"white\", \"gridwidth\": 2, \"linecolor\": \"white\", \"showbackground\": true, \"ticks\": \"\", \"zerolinecolor\": \"white\"}, \"zaxis\": {\"backgroundcolor\": \"#E5ECF6\", \"gridcolor\": \"white\", \"gridwidth\": 2, \"linecolor\": \"white\", \"showbackground\": true, \"ticks\": \"\", \"zerolinecolor\": \"white\"}}, \"shapedefaults\": {\"line\": {\"color\": \"#2a3f5f\"}}, \"ternary\": {\"aaxis\": {\"gridcolor\": \"white\", \"linecolor\": \"white\", \"ticks\": \"\"}, \"baxis\": {\"gridcolor\": \"white\", \"linecolor\": \"white\", \"ticks\": \"\"}, \"bgcolor\": \"#E5ECF6\", \"caxis\": {\"gridcolor\": \"white\", \"linecolor\": \"white\", \"ticks\": \"\"}}, \"title\": {\"x\": 0.05}, \"xaxis\": {\"automargin\": true, \"gridcolor\": \"white\", \"linecolor\": \"white\", \"ticks\": \"\", \"zerolinecolor\": \"white\", \"zerolinewidth\": 2}, \"yaxis\": {\"automargin\": true, \"gridcolor\": \"white\", \"linecolor\": \"white\", \"ticks\": \"\", \"zerolinecolor\": \"white\", \"zerolinewidth\": 2}}}, \"title\": {\"text\": \"Spotify Top 50 of the 2010s\"}, \"width\": 600, \"xaxis\": {\"range\": [0, 1], \"title\": {\"text\": \"Valence\"}}, \"yaxis\": {\"range\": [0, 1], \"title\": {\"text\": \"Energy\"}}},\n",
       "                        {\"responsive\": true}\n",
       "                    ).then(function(){\n",
       "                            \n",
       "var gd = document.getElementById('5781fa70-9abc-4362-ab62-fc7b030c3ebb');\n",
       "var x = new MutationObserver(function (mutations, observer) {{\n",
       "        var display = window.getComputedStyle(gd).display;\n",
       "        if (!display || display === 'none') {{\n",
       "            console.log([gd, 'removed!']);\n",
       "            Plotly.purge(gd);\n",
       "            observer.disconnect();\n",
       "        }}\n",
       "}});\n",
       "\n",
       "// Listen for the removal of the full notebook cells\n",
       "var notebookContainer = gd.closest('#notebook-container');\n",
       "if (notebookContainer) {{\n",
       "    x.observe(notebookContainer, {childList: true});\n",
       "}}\n",
       "\n",
       "// Listen for the clearing of the current output cell\n",
       "var outputEl = gd.closest('.output');\n",
       "if (outputEl) {{\n",
       "    x.observe(outputEl, {childList: true});\n",
       "}}\n",
       "\n",
       "                        })\n",
       "                };\n",
       "                });\n",
       "            </script>\n",
       "        </div>"
      ]
     },
     "metadata": {},
     "output_type": "display_data"
    },
    {
     "name": "stdout",
     "output_type": "stream",
     "text": [
      "Valence: 0.5732600000000001\n",
      "Energy: 0.6638800000000002\n"
     ]
    }
   ],
   "source": [
    "#import plotly.express as px\n",
    "#fig = px.scatter(tens_df, x=\"valence\", y=\"energy\", hover_data=['Name'])\n",
    "#fig.update_xaxes(range=[0, 1])\n",
    "#fig.update_yaxes(range=[0, 1])\n",
    "\n",
    "fig = go.Figure(data=go.Scatter(\n",
    "    x=tens_df[\"valence\"],\n",
    "    y=tens_df[\"energy\"],\n",
    "    mode='markers',\n",
    "    marker=dict(size=tens_df[\"tempo\"] / 10),\n",
    "    hovertext = tens_df[\"Name\"]\n",
    "),\n",
    "    layout = {\n",
    "    'shapes': [\n",
    "        # Line Horizontal\n",
    "        {\n",
    "            'type': 'line',\n",
    "            'x0': 0,\n",
    "            'y0': 0.5,\n",
    "            'x1': 1,\n",
    "            'y1': 0.5,\n",
    "            'line': {\n",
    "                'color': 'rgb(50, 171, 96)',\n",
    "                'width': 2\n",
    "            },\n",
    "        }, \n",
    "        {\n",
    "            'type': 'line',\n",
    "            'x0': 0.5,\n",
    "            'y0': 0,\n",
    "            'x1': 0.5,\n",
    "            'y1': 1,\n",
    "            'line': {\n",
    "                'color': 'rgb(50, 171, 96)',\n",
    "                'width': 2\n",
    "            },\n",
    "        },\n",
    "        \n",
    "        {\n",
    "            'type': 'line',\n",
    "            'x0': 0,\n",
    "            'y0': np.mean(tens_df[\"energy\"]),\n",
    "            'x1': 1,\n",
    "            'y1': np.mean(tens_df[\"energy\"]),\n",
    "            'line': {\n",
    "                'color': 'red',\n",
    "                'width': 2\n",
    "            },\n",
    "        }, \n",
    "        {\n",
    "            'type': 'line',\n",
    "            'x0': np.mean(tens_df[\"valence\"]),\n",
    "            'y0': 0,\n",
    "            'x1': np.mean(tens_df[\"valence\"]),\n",
    "            'y1': 1,\n",
    "            'line': {\n",
    "                'color': 'red',\n",
    "                'width': 2\n",
    "            },\n",
    "        }\n",
    "    ],\n",
    "    'showlegend': False\n",
    "})\n",
    "\n",
    "fig.update_layout(\n",
    "    autosize=False,\n",
    "    width=600,\n",
    "    height=600,\n",
    "    title=\"Spotify Top 50 of the 2010s\",\n",
    "    xaxis_title=\"Valence\",\n",
    "    yaxis_title=\"Energy\",\n",
    "    font=dict(\n",
    "        family=\"Courier New, monospace\",\n",
    "        size=18,\n",
    "        color=\"#7f7f7f\"\n",
    "    )\n",
    ")\n",
    "\n",
    "\n",
    "fig.update_xaxes(range=[0, 1])\n",
    "fig.update_yaxes(range=[0, 1])\n",
    "\n",
    "fig.show()\n",
    "print(\"Valence:\", np.mean(tens_df[\"valence\"]))\n",
    "print(\"Energy:\", np.mean(tens_df[\"energy\"]))\n",
    "\n",
    "#layout(shapes = list(vline(4), hline(5)))\n",
    "\n",
    "#fig.show()"
   ]
  },
  {
   "cell_type": "markdown",
   "metadata": {},
   "source": [
    "Interestingly, we notice that the average energy of these songs is quite high. As described on the documentation of the API, energy is described to:\n",
    "\n",
    "\"...[represent] a perceptual measure of intensity and activity. Typically, energetic tracks feel fast, loud, and noisy. For example, death metal has high energy, while a Bach prelude scores low on the scale.\"\n",
    "\n",
    "While it may not say that these songs are all death metal, it gives a slight peek into the kind of music people may look for - music that pumps you up. \n",
    "\n",
    "There is a lot more analysis to be done to get a better understanding of our data, but this gives a foretaste into the capabilities of the Spotify API."
   ]
  },
  {
   "cell_type": "code",
   "execution_count": 92,
   "metadata": {},
   "outputs": [],
   "source": [
    "#songs = []\n",
    "\n",
    "#s_layout = go.Layout(\n",
    "#    polar=dict(\n",
    "#        radialaxis=dict(\n",
    "#            visible=True,\n",
    "#            range=[0, 1]\n",
    "#        )\n",
    "#    ),\n",
    "#    showlegend=False,\n",
    "#    title=\"Spotify's Top 50 of the Decade\"\n",
    "#)\n",
    "\n",
    "#for index, song in tens_df.iterrows():\n",
    "#    songs.append(polar_song_stats(song, itr = True))\n",
    "#\n",
    "#compare_songs = go.Figure(data=songs, layout=s_layout)\n",
    "#iplot(compare_songs, filename='Spotify''s Top 50 of the Decade')"
   ]
  },
  {
   "cell_type": "markdown",
   "metadata": {},
   "source": [
    "What we will also do is save our dataframe of the data from the playlist so we can use it in other reports."
   ]
  },
  {
   "cell_type": "code",
   "execution_count": 76,
   "metadata": {},
   "outputs": [
    {
     "data": {
      "text/html": [
       "<div>\n",
       "<style scoped>\n",
       "    .dataframe tbody tr th:only-of-type {\n",
       "        vertical-align: middle;\n",
       "    }\n",
       "\n",
       "    .dataframe tbody tr th {\n",
       "        vertical-align: top;\n",
       "    }\n",
       "\n",
       "    .dataframe thead th {\n",
       "        text-align: right;\n",
       "    }\n",
       "</style>\n",
       "<table border=\"1\" class=\"dataframe\">\n",
       "  <thead>\n",
       "    <tr style=\"text-align: right;\">\n",
       "      <th></th>\n",
       "      <th>Name</th>\n",
       "      <th>Artists</th>\n",
       "      <th>acousticness</th>\n",
       "      <th>analysis_url</th>\n",
       "      <th>danceability</th>\n",
       "      <th>duration_ms</th>\n",
       "      <th>energy</th>\n",
       "      <th>id</th>\n",
       "      <th>instrumentalness</th>\n",
       "      <th>key</th>\n",
       "      <th>liveness</th>\n",
       "      <th>loudness</th>\n",
       "      <th>mode</th>\n",
       "      <th>speechiness</th>\n",
       "      <th>tempo</th>\n",
       "      <th>time_signature</th>\n",
       "      <th>track_href</th>\n",
       "      <th>type</th>\n",
       "      <th>uri</th>\n",
       "      <th>valence</th>\n",
       "    </tr>\n",
       "  </thead>\n",
       "  <tbody>\n",
       "    <tr>\n",
       "      <th>0</th>\n",
       "      <td>One Dance</td>\n",
       "      <td>[Drake, WizKid, Kyla]</td>\n",
       "      <td>0.00776</td>\n",
       "      <td>https://api.spotify.com/v1/audio-analysis/1zi7...</td>\n",
       "      <td>0.792</td>\n",
       "      <td>173987</td>\n",
       "      <td>0.625</td>\n",
       "      <td>1zi7xx7UVEFkmKfv06H8x0</td>\n",
       "      <td>0.001880</td>\n",
       "      <td>1</td>\n",
       "      <td>0.3290</td>\n",
       "      <td>-5.609</td>\n",
       "      <td>1</td>\n",
       "      <td>0.0536</td>\n",
       "      <td>103.967</td>\n",
       "      <td>4</td>\n",
       "      <td>https://api.spotify.com/v1/tracks/1zi7xx7UVEFk...</td>\n",
       "      <td>audio_features</td>\n",
       "      <td>spotify:track:1zi7xx7UVEFkmKfv06H8x0</td>\n",
       "      <td>0.370</td>\n",
       "    </tr>\n",
       "    <tr>\n",
       "      <th>1</th>\n",
       "      <td>Lean On (feat. MØ &amp; DJ Snake)</td>\n",
       "      <td>[Major Lazer, MØ, DJ Snake]</td>\n",
       "      <td>0.00346</td>\n",
       "      <td>https://api.spotify.com/v1/audio-analysis/1qE4...</td>\n",
       "      <td>0.723</td>\n",
       "      <td>176561</td>\n",
       "      <td>0.809</td>\n",
       "      <td>1qE47wUKG2juJwPoLqg4C9</td>\n",
       "      <td>0.001230</td>\n",
       "      <td>7</td>\n",
       "      <td>0.5650</td>\n",
       "      <td>-3.081</td>\n",
       "      <td>0</td>\n",
       "      <td>0.0625</td>\n",
       "      <td>98.007</td>\n",
       "      <td>4</td>\n",
       "      <td>https://api.spotify.com/v1/tracks/1qE47wUKG2ju...</td>\n",
       "      <td>audio_features</td>\n",
       "      <td>spotify:track:1qE47wUKG2juJwPoLqg4C9</td>\n",
       "      <td>0.274</td>\n",
       "    </tr>\n",
       "    <tr>\n",
       "      <th>2</th>\n",
       "      <td>Sunflower - Spider-Man: Into the Spider-Verse</td>\n",
       "      <td>[Post Malone, Swae Lee]</td>\n",
       "      <td>0.53300</td>\n",
       "      <td>https://api.spotify.com/v1/audio-analysis/0RiR...</td>\n",
       "      <td>0.755</td>\n",
       "      <td>157560</td>\n",
       "      <td>0.522</td>\n",
       "      <td>0RiRZpuVRbi7oqRdSMwhQY</td>\n",
       "      <td>0.000000</td>\n",
       "      <td>2</td>\n",
       "      <td>0.0685</td>\n",
       "      <td>-4.368</td>\n",
       "      <td>1</td>\n",
       "      <td>0.0575</td>\n",
       "      <td>89.960</td>\n",
       "      <td>4</td>\n",
       "      <td>https://api.spotify.com/v1/tracks/0RiRZpuVRbi7...</td>\n",
       "      <td>audio_features</td>\n",
       "      <td>spotify:track:0RiRZpuVRbi7oqRdSMwhQY</td>\n",
       "      <td>0.925</td>\n",
       "    </tr>\n",
       "    <tr>\n",
       "      <th>3</th>\n",
       "      <td>Somebody That I Used To Know</td>\n",
       "      <td>[Gotye, Kimbra]</td>\n",
       "      <td>0.54800</td>\n",
       "      <td>https://api.spotify.com/v1/audio-analysis/1qDr...</td>\n",
       "      <td>0.865</td>\n",
       "      <td>244885</td>\n",
       "      <td>0.521</td>\n",
       "      <td>1qDrWA6lyx8cLECdZE7TV7</td>\n",
       "      <td>0.000115</td>\n",
       "      <td>0</td>\n",
       "      <td>0.0989</td>\n",
       "      <td>-6.932</td>\n",
       "      <td>1</td>\n",
       "      <td>0.0371</td>\n",
       "      <td>129.059</td>\n",
       "      <td>4</td>\n",
       "      <td>https://api.spotify.com/v1/tracks/1qDrWA6lyx8c...</td>\n",
       "      <td>audio_features</td>\n",
       "      <td>spotify:track:1qDrWA6lyx8cLECdZE7TV7</td>\n",
       "      <td>0.748</td>\n",
       "    </tr>\n",
       "    <tr>\n",
       "      <th>4</th>\n",
       "      <td>Rolling in the Deep</td>\n",
       "      <td>[Adele]</td>\n",
       "      <td>0.13100</td>\n",
       "      <td>https://api.spotify.com/v1/audio-analysis/1Ckv...</td>\n",
       "      <td>0.729</td>\n",
       "      <td>228293</td>\n",
       "      <td>0.756</td>\n",
       "      <td>1CkvWZme3pRgbzaxZnTl5X</td>\n",
       "      <td>0.000000</td>\n",
       "      <td>8</td>\n",
       "      <td>0.0527</td>\n",
       "      <td>-5.119</td>\n",
       "      <td>1</td>\n",
       "      <td>0.0294</td>\n",
       "      <td>104.945</td>\n",
       "      <td>4</td>\n",
       "      <td>https://api.spotify.com/v1/tracks/1CkvWZme3pRg...</td>\n",
       "      <td>audio_features</td>\n",
       "      <td>spotify:track:1CkvWZme3pRgbzaxZnTl5X</td>\n",
       "      <td>0.522</td>\n",
       "    </tr>\n",
       "  </tbody>\n",
       "</table>\n",
       "</div>"
      ],
      "text/plain": [
       "                                            Name                      Artists  \\\n",
       "0                                      One Dance        [Drake, WizKid, Kyla]   \n",
       "1                  Lean On (feat. MØ & DJ Snake)  [Major Lazer, MØ, DJ Snake]   \n",
       "2  Sunflower - Spider-Man: Into the Spider-Verse      [Post Malone, Swae Lee]   \n",
       "3                   Somebody That I Used To Know              [Gotye, Kimbra]   \n",
       "4                            Rolling in the Deep                      [Adele]   \n",
       "\n",
       "   acousticness                                       analysis_url  \\\n",
       "0       0.00776  https://api.spotify.com/v1/audio-analysis/1zi7...   \n",
       "1       0.00346  https://api.spotify.com/v1/audio-analysis/1qE4...   \n",
       "2       0.53300  https://api.spotify.com/v1/audio-analysis/0RiR...   \n",
       "3       0.54800  https://api.spotify.com/v1/audio-analysis/1qDr...   \n",
       "4       0.13100  https://api.spotify.com/v1/audio-analysis/1Ckv...   \n",
       "\n",
       "   danceability  duration_ms  energy                      id  \\\n",
       "0         0.792       173987   0.625  1zi7xx7UVEFkmKfv06H8x0   \n",
       "1         0.723       176561   0.809  1qE47wUKG2juJwPoLqg4C9   \n",
       "2         0.755       157560   0.522  0RiRZpuVRbi7oqRdSMwhQY   \n",
       "3         0.865       244885   0.521  1qDrWA6lyx8cLECdZE7TV7   \n",
       "4         0.729       228293   0.756  1CkvWZme3pRgbzaxZnTl5X   \n",
       "\n",
       "   instrumentalness  key  liveness  loudness  mode  speechiness    tempo  \\\n",
       "0          0.001880    1    0.3290    -5.609     1       0.0536  103.967   \n",
       "1          0.001230    7    0.5650    -3.081     0       0.0625   98.007   \n",
       "2          0.000000    2    0.0685    -4.368     1       0.0575   89.960   \n",
       "3          0.000115    0    0.0989    -6.932     1       0.0371  129.059   \n",
       "4          0.000000    8    0.0527    -5.119     1       0.0294  104.945   \n",
       "\n",
       "   time_signature                                         track_href  \\\n",
       "0               4  https://api.spotify.com/v1/tracks/1zi7xx7UVEFk...   \n",
       "1               4  https://api.spotify.com/v1/tracks/1qE47wUKG2ju...   \n",
       "2               4  https://api.spotify.com/v1/tracks/0RiRZpuVRbi7...   \n",
       "3               4  https://api.spotify.com/v1/tracks/1qDrWA6lyx8c...   \n",
       "4               4  https://api.spotify.com/v1/tracks/1CkvWZme3pRg...   \n",
       "\n",
       "             type                                   uri  valence  \n",
       "0  audio_features  spotify:track:1zi7xx7UVEFkmKfv06H8x0    0.370  \n",
       "1  audio_features  spotify:track:1qE47wUKG2juJwPoLqg4C9    0.274  \n",
       "2  audio_features  spotify:track:0RiRZpuVRbi7oqRdSMwhQY    0.925  \n",
       "3  audio_features  spotify:track:1qDrWA6lyx8cLECdZE7TV7    0.748  \n",
       "4  audio_features  spotify:track:1CkvWZme3pRgbzaxZnTl5X    0.522  "
      ]
     },
     "execution_count": 76,
     "metadata": {},
     "output_type": "execute_result"
    }
   ],
   "source": [
    "tens_df.head()"
   ]
  },
  {
   "cell_type": "code",
   "execution_count": 83,
   "metadata": {},
   "outputs": [],
   "source": [
    "tens_df.to_csv(\"top2010s.csv\", index = False)"
   ]
  }
 ],
 "metadata": {
  "kernelspec": {
   "display_name": "Python 3",
   "language": "python",
   "name": "python3"
  },
  "language_info": {
   "codemirror_mode": {
    "name": "ipython",
    "version": 3
   },
   "file_extension": ".py",
   "mimetype": "text/x-python",
   "name": "python",
   "nbconvert_exporter": "python",
   "pygments_lexer": "ipython3",
   "version": "3.7.3"
  },
  "toc": {
   "base_numbering": 1,
   "nav_menu": {},
   "number_sections": true,
   "sideBar": true,
   "skip_h1_title": true,
   "title_cell": "Table of Contents",
   "title_sidebar": "Contents",
   "toc_cell": false,
   "toc_position": {},
   "toc_section_display": true,
   "toc_window_display": true
  },
  "varInspector": {
   "cols": {
    "lenName": 16,
    "lenType": 16,
    "lenVar": 40
   },
   "kernels_config": {
    "python": {
     "delete_cmd_postfix": "",
     "delete_cmd_prefix": "del ",
     "library": "var_list.py",
     "varRefreshCmd": "print(var_dic_list())"
    },
    "r": {
     "delete_cmd_postfix": ") ",
     "delete_cmd_prefix": "rm(",
     "library": "var_list.r",
     "varRefreshCmd": "cat(var_dic_list()) "
    }
   },
   "types_to_exclude": [
    "module",
    "function",
    "builtin_function_or_method",
    "instance",
    "_Feature"
   ],
   "window_display": false
  }
 },
 "nbformat": 4,
 "nbformat_minor": 2
}
