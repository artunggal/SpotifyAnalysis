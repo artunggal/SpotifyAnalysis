{
 "cells": [
  {
   "cell_type": "code",
   "execution_count": 6,
   "metadata": {},
   "outputs": [
    {
     "data": {
      "text/html": [
       "        <script type=\"text/javascript\">\n",
       "        window.PlotlyConfig = {MathJaxConfig: 'local'};\n",
       "        if (window.MathJax) {MathJax.Hub.Config({SVG: {font: \"STIX-Web\"}});}\n",
       "        if (typeof require !== 'undefined') {\n",
       "        require.undef(\"plotly\");\n",
       "        requirejs.config({\n",
       "            paths: {\n",
       "                'plotly': ['https://cdn.plot.ly/plotly-latest.min']\n",
       "            }\n",
       "        });\n",
       "        require(['plotly'], function(Plotly) {\n",
       "            window._Plotly = Plotly;\n",
       "        });\n",
       "        }\n",
       "        </script>\n",
       "        "
      ]
     },
     "metadata": {},
     "output_type": "display_data"
    }
   ],
   "source": [
    "import numpy as np\n",
    "import pandas as pd\n",
    "import spotipy\n",
    "import spotipy.util as util\n",
    "from spotipy.oauth2 import SpotifyClientCredentials\n",
    "import sys\n",
    "\n",
    "from vaderSentiment.vaderSentiment import SentimentIntensityAnalyzer\n",
    "\n",
    "from ipywidgets import widgets, interactive\n",
    "import plotly.figure_factory as ff\n",
    "import plotly.graph_objs as go\n",
    "from IPython.display import HTML\n",
    "from plotly.offline import init_notebook_mode, iplot\n",
    "init_notebook_mode(connected=True)\n",
    "\n",
    "from bs4 import BeautifulSoup\n",
    "import time\n",
    "from selenium.common.exceptions import StaleElementReferenceException\n",
    "from selenium import webdriver\n",
    "from selenium.webdriver.support.ui import WebDriverWait\n",
    "from selenium.webdriver.support import expected_conditions as EC\n",
    "from selenium.webdriver.common.by import By\n",
    "from selenium.common.exceptions import TimeoutException"
   ]
  },
  {
   "cell_type": "markdown",
   "metadata": {},
   "source": [
    "# Sentiment Analysis of Spotify's Top 50 of 2010"
   ]
  },
  {
   "cell_type": "code",
   "execution_count": 7,
   "metadata": {},
   "outputs": [],
   "source": [
    "%run -i 'client_id_script.py'"
   ]
  },
  {
   "cell_type": "code",
   "execution_count": 66,
   "metadata": {},
   "outputs": [],
   "source": [
    "tens_df = pd.read_csv('top2010s.csv')"
   ]
  },
  {
   "cell_type": "code",
   "execution_count": 70,
   "metadata": {},
   "outputs": [],
   "source": [
    "rsults = []\n",
    "for i in range(len(tens_df)):\n",
    "    result = [x.strip() for x in tens_df.iloc[i][\"Artists\"].replace(\"[\", \"\").replace(\"]\", \"\").replace(\"'\", \"\").split(\",\")]\n",
    "    rsults.append(result)\n",
    "tens_df[\"Artists\"] = rsults"
   ]
  },
  {
   "cell_type": "code",
   "execution_count": 71,
   "metadata": {},
   "outputs": [
    {
     "data": {
      "text/plain": [
       "['Drake', 'WizKid', 'Kyla']"
      ]
     },
     "execution_count": 71,
     "metadata": {},
     "output_type": "execute_result"
    }
   ],
   "source": [
    "tens_df.iloc[0][\"Artists\"]"
   ]
  },
  {
   "cell_type": "markdown",
   "metadata": {},
   "source": [
    "## Web Scraping"
   ]
  },
  {
   "cell_type": "code",
   "execution_count": 9,
   "metadata": {},
   "outputs": [],
   "source": [
    "analyser = SentimentIntensityAnalyzer()"
   ]
  },
  {
   "cell_type": "code",
   "execution_count": 10,
   "metadata": {},
   "outputs": [],
   "source": [
    "def sentiment_analyzer_scores(sentence):\n",
    "    score = analyser.polarity_scores(sentence)\n",
    "    print(\"{:-<40} {}\".format(sentence, str(score)))"
   ]
  },
  {
   "cell_type": "code",
   "execution_count": 11,
   "metadata": {},
   "outputs": [
    {
     "name": "stdout",
     "output_type": "stream",
     "text": [
      "Let it go, let it go \n",
      " Can't hold it back anymore \n",
      " Let it go, let it go \n",
      " Turn away and slam the door {'neg': 0.106, 'neu': 0.894, 'pos': 0.0, 'compound': -0.3818}\n"
     ]
    }
   ],
   "source": [
    "sentiment_analyzer_scores(\"Let it go, let it go \\n Can't hold it back anymore \\n Let it go, let it go \\n Turn away and slam the door\")"
   ]
  },
  {
   "cell_type": "code",
   "execution_count": 12,
   "metadata": {},
   "outputs": [
    {
     "name": "stdout",
     "output_type": "stream",
     "text": [
      "Let it go, let it go \n",
      " Turn away and slam the door {'neg': 0.191, 'neu': 0.809, 'pos': 0.0, 'compound': -0.3818}\n"
     ]
    }
   ],
   "source": [
    "sentiment_analyzer_scores(\"Let it go, let it go \\n Turn away and slam the door\")"
   ]
  },
  {
   "cell_type": "code",
   "execution_count": 13,
   "metadata": {},
   "outputs": [
    {
     "name": "stdout",
     "output_type": "stream",
     "text": [
      "Let it go, let it go \n",
      " Can't hold it back anymore \n",
      " Let it go, let it go Turn away and slam the door {'neg': 0.106, 'neu': 0.894, 'pos': 0.0, 'compound': -0.3818}\n"
     ]
    }
   ],
   "source": [
    "sentiment_analyzer_scores(\"Let it go, let it go \\n Can't hold it back anymore \\n Let it go, let it go\" + \n",
    "                         \" Turn away and slam the door\")"
   ]
  },
  {
   "cell_type": "markdown",
   "metadata": {},
   "source": [
    "### Testing... Google Search"
   ]
  },
  {
   "cell_type": "code",
   "execution_count": 14,
   "metadata": {},
   "outputs": [],
   "source": [
    "browser = webdriver.Chrome(\"../FEHeroes/chromedriver\")\n",
    "#gg = (\"https://gamepress.gg/feheroes/heroes\")\n",
    "#browser.get(gg)\n",
    "#respData = browser.page_source\n",
    "search_string = \"let+it+go+lyrics\"\n",
    "\n",
    "browser.get(\"https://www.google.com/search?q=\" + search_string)\n",
    "    #clickme = browser.find_element_by_xpath(\"//div[@class='hide-focus-ring pSO8Ic vk_arc']\")\n",
    "    #clickme = browser.find_element_by_xpath(\"//div[@aria-label='Show more']/div[@class='hide-focus-ring pSO8Ic vk_arc' and text()='Show more']\")\n",
    "    #clickme.click()\n",
    "    #with wait_for_page_load(browser):\n",
    "browser.find_element_by_xpath(\"//div[@class='hide-focus-ring pSO8Ic vk_arc']\").click()\n",
    "time.sleep(5)\n",
    "    #WebDriverWait(browser, 20).until(lambda browser: browser.execute_script(\"return document.readyState;\") == \"complete\")\n",
    "    #browser.find_element_by_xpath(\"//div[@aria-label='Show more']/div[@class='hide-focus-ring pSO8Ic vk_arc' and text()='Show more']\")\n",
    "matched_elements = browser.page_source\n",
    "\n",
    "browser.close()"
   ]
  },
  {
   "cell_type": "code",
   "execution_count": 80,
   "metadata": {},
   "outputs": [],
   "source": [
    "nsoup = BeautifulSoup(matched_elements, 'html.parser')\n",
    "#nsoup.findAll('span', jsname = \"YS01Ge\")"
   ]
  },
  {
   "cell_type": "code",
   "execution_count": 79,
   "metadata": {},
   "outputs": [],
   "source": [
    "#nsoup.findAll('div', attrs={'aria-label':'Show more'})"
   ]
  },
  {
   "cell_type": "code",
   "execution_count": 5,
   "metadata": {},
   "outputs": [],
   "source": [
    "#nsoup.findAll('div', role = \"button\")"
   ]
  },
  {
   "cell_type": "code",
   "execution_count": 18,
   "metadata": {},
   "outputs": [
    {
     "data": {
      "text/plain": [
       "[<span jsname=\"YS01Ge\">The snow glows white on the mountain tonight</span>,\n",
       " <span jsname=\"YS01Ge\">Not a footprint to be seen</span>,\n",
       " <span jsname=\"YS01Ge\">A kingdom of isolation</span>,\n",
       " <span jsname=\"YS01Ge\">And it looks like I'm the queen</span>,\n",
       " <span jsname=\"YS01Ge\">The wind is howling like this swirling storm inside</span>,\n",
       " <span jsname=\"YS01Ge\">Couldn't keep it in, heaven knows I've tried</span>,\n",
       " <span jsname=\"YS01Ge\">Don't let them in, don't let them see</span>,\n",
       " <span jsname=\"YS01Ge\">Be the good girl you always have to be</span>,\n",
       " <span jsname=\"YS01Ge\">Conceal, don't feel, don't let them know</span>,\n",
       " <span jsname=\"YS01Ge\">Well, now they know</span>,\n",
       " <span jsname=\"YS01Ge\">Let it go, let it go</span>,\n",
       " <span jsname=\"YS01Ge\">Can't hold it back anymore</span>,\n",
       " <span jsname=\"YS01Ge\">Let it go, let it go</span>,\n",
       " <span jsname=\"YS01Ge\">Turn away and slam the door</span>,\n",
       " <span jsname=\"YS01Ge\">I don't care what they're going to say</span>,\n",
       " <span jsname=\"YS01Ge\">Let the storm rage on</span>,\n",
       " <span jsname=\"YS01Ge\">The cold never bothered me anyway</span>,\n",
       " <span jsname=\"YS01Ge\">Let it go, let it go</span>,\n",
       " <span jsname=\"YS01Ge\">Can't hold it back anymore</span>,\n",
       " <span jsname=\"YS01Ge\">Let it go, let it go</span>,\n",
       " <span jsname=\"YS01Ge\">Turn away and slam the door</span>,\n",
       " <span jsname=\"YS01Ge\">Let it go (go, go, go go, go go, go go, go, go, go go)</span>,\n",
       " <span jsname=\"YS01Ge\">Let it go</span>,\n",
       " <span jsname=\"YS01Ge\">Let it go</span>,\n",
       " <span jsname=\"YS01Ge\">Let it go</span>,\n",
       " <span jsname=\"YS01Ge\">It's funny how some distance makes</span>,\n",
       " <span jsname=\"YS01Ge\">It's funny how some distance makes everything seem small</span>,\n",
       " <span jsname=\"YS01Ge\">And the fears that once controlled me can't get to me at all</span>,\n",
       " <span jsname=\"YS01Ge\">It's time to see what I can do</span>,\n",
       " <span jsname=\"YS01Ge\">To test the limits and break through</span>,\n",
       " <span jsname=\"YS01Ge\">No right, no wrong, no rules for me</span>,\n",
       " <span jsname=\"YS01Ge\">I'm free</span>,\n",
       " <span jsname=\"YS01Ge\">Let it go, let it go</span>,\n",
       " <span jsname=\"YS01Ge\">I am one with the wind and sky</span>,\n",
       " <span jsname=\"YS01Ge\">Let it go, let it go</span>,\n",
       " <span jsname=\"YS01Ge\">You'll never see me cry</span>,\n",
       " <span jsname=\"YS01Ge\">Here I stand and here I stay</span>,\n",
       " <span jsname=\"YS01Ge\">Let the storm rage on</span>,\n",
       " <span jsname=\"YS01Ge\">My power flurries through the air into the ground</span>,\n",
       " <span jsname=\"YS01Ge\">My soul is spiraling in frozen fractals all around</span>,\n",
       " <span jsname=\"YS01Ge\">And one thought crystallizes like an icy blast</span>,\n",
       " <span jsname=\"YS01Ge\">I'm never going back, the past is in the past</span>,\n",
       " <span jsname=\"YS01Ge\">Let it go</span>,\n",
       " <span jsname=\"YS01Ge\">The cold never bothered me anyway</span>,\n",
       " <span jsname=\"YS01Ge\">Let it go, let it go</span>,\n",
       " <span jsname=\"YS01Ge\">And I'll rise like the break of dawn</span>,\n",
       " <span jsname=\"YS01Ge\">Let it go, let it go</span>,\n",
       " <span jsname=\"YS01Ge\">That perfect girl is gone</span>,\n",
       " <span jsname=\"YS01Ge\">Here I stand in the light of day</span>,\n",
       " <span jsname=\"YS01Ge\">Let the storm rage on</span>]"
      ]
     },
     "execution_count": 18,
     "metadata": {},
     "output_type": "execute_result"
    }
   ],
   "source": [
    "nsoup.findAll('span', jsname = \"YS01Ge\")"
   ]
  },
  {
   "cell_type": "code",
   "execution_count": 19,
   "metadata": {},
   "outputs": [],
   "source": [
    "browser = webdriver.Chrome(\"../FEHeroes/chromedriver\")\n",
    "#gg = (\"https://gamepress.gg/feheroes/heroes\")\n",
    "#browser.get(gg)\n",
    "#respData = browser.page_source\n",
    "searchi_string = \"we+are+young+featuring+janelle+monae+lyrics\"\n",
    "\n",
    "for i in range(1): \n",
    "    browser.get(\"https://www.google.com/search?q=\" + searchi_string)\n",
    "    elements = browser.page_source\n",
    "\n",
    "browser.close()"
   ]
  },
  {
   "cell_type": "code",
   "execution_count": 20,
   "metadata": {},
   "outputs": [
    {
     "data": {
      "text/plain": [
       "[<span jsname=\"YS01Ge\">Give me a second I</span>,\n",
       " <span jsname=\"YS01Ge\">I need to get my story straight</span>,\n",
       " <span jsname=\"YS01Ge\">My friends are in the bathroom getting higher than the Empire State</span>,\n",
       " <span jsname=\"YS01Ge\">My lover she's waiting for me just across the bar</span>,\n",
       " <span jsname=\"YS01Ge\">My seat's been taken by some sunglasses asking about a scar, and</span>,\n",
       " <span jsname=\"YS01Ge\">I know I gave it to you months ago</span>,\n",
       " <span jsname=\"YS01Ge\">I know you're trying to forget</span>,\n",
       " <span jsname=\"YS01Ge\">But between the drinks and subtle things</span>,\n",
       " <span jsname=\"YS01Ge\">The holes in my apologies, you know</span>,\n",
       " <span jsname=\"YS01Ge\">I'm trying hard to take it back</span>,\n",
       " <span jsname=\"YS01Ge\">So if by the time the bar closes</span>,\n",
       " <span jsname=\"YS01Ge\">And you feel like falling down, I'll carry you home</span>,\n",
       " <span jsname=\"YS01Ge\">Tonight, we are young</span>,\n",
       " <span jsname=\"YS01Ge\">So let's set the world on fire</span>,\n",
       " <span jsname=\"YS01Ge\">We can burn brighter than the sun</span>,\n",
       " <span jsname=\"YS01Ge\">Tonight, we are young</span>,\n",
       " <span jsname=\"YS01Ge\">So let's set the world on fire</span>,\n",
       " <span jsname=\"YS01Ge\">We can burn brighter than the sun</span>,\n",
       " <span jsname=\"YS01Ge\">Now I know that I'm not</span>,\n",
       " <span jsname=\"YS01Ge\">All that you got, I guess that I, I just thought</span>,\n",
       " <span jsname=\"YS01Ge\">Maybe we could find new ways</span>,\n",
       " <span jsname=\"YS01Ge\">Now I know that I'm not</span>,\n",
       " <span jsname=\"YS01Ge\">All that you got, I guess that I, I just thought</span>,\n",
       " <span jsname=\"YS01Ge\">Maybe we could find new ways to fall apart</span>,\n",
       " <span jsname=\"YS01Ge\">But our friends are back</span>,\n",
       " <span jsname=\"YS01Ge\">So let's raise a tab</span>,\n",
       " <span jsname=\"YS01Ge\">'Cause I found someone to carry me home</span>,\n",
       " <span jsname=\"YS01Ge\">Tonight, we are young</span>,\n",
       " <span jsname=\"YS01Ge\">So let's set the world on fire</span>,\n",
       " <span jsname=\"YS01Ge\">We can burn brighter than the sun</span>,\n",
       " <span jsname=\"YS01Ge\">Tonight, we are young</span>,\n",
       " <span jsname=\"YS01Ge\">So let's set the world on fire</span>,\n",
       " <span jsname=\"YS01Ge\">We can burn brighter than the sun</span>,\n",
       " <span jsname=\"YS01Ge\">Carry me home tonight (Na na na na na na)</span>,\n",
       " <span jsname=\"YS01Ge\">Just carry me home tonight (Na na na na na na)</span>,\n",
       " <span jsname=\"YS01Ge\">Carry me home tonight (Na na na na na na)</span>,\n",
       " <span jsname=\"YS01Ge\">Just carry me home tonight (Na na na na na na)</span>,\n",
       " <span jsname=\"YS01Ge\">The world is on my side</span>,\n",
       " <span jsname=\"YS01Ge\">I have no reason to run</span>,\n",
       " <span jsname=\"YS01Ge\">So will someone come and carry me home tonight</span>,\n",
       " <span jsname=\"YS01Ge\">The angels never arrived</span>,\n",
       " <span jsname=\"YS01Ge\">But I can hear the choir</span>,\n",
       " <span jsname=\"YS01Ge\">So will someone come and carry me home</span>,\n",
       " <span jsname=\"YS01Ge\">Tonight, we are young</span>,\n",
       " <span jsname=\"YS01Ge\">So let's set the world on fire</span>,\n",
       " <span jsname=\"YS01Ge\">We can burn brighter than the sun</span>,\n",
       " <span jsname=\"YS01Ge\">Tonight, we are young</span>,\n",
       " <span jsname=\"YS01Ge\">So let's set the world on fire</span>,\n",
       " <span jsname=\"YS01Ge\">We can burn brighter than the sun</span>,\n",
       " <span jsname=\"YS01Ge\">So if by the time the bar closes</span>,\n",
       " <span jsname=\"YS01Ge\">And you feel like falling down</span>,\n",
       " <span jsname=\"YS01Ge\">I'll carry you home tonight</span>]"
      ]
     },
     "execution_count": 20,
     "metadata": {},
     "output_type": "execute_result"
    }
   ],
   "source": [
    "soup = BeautifulSoup(elements, 'html.parser')\n",
    "soup.findAll('span', jsname = \"YS01Ge\")"
   ]
  },
  {
   "cell_type": "markdown",
   "metadata": {},
   "source": [
    "### Moving on to AZ Lyrics"
   ]
  },
  {
   "cell_type": "code",
   "execution_count": 21,
   "metadata": {},
   "outputs": [],
   "source": [
    "browser = webdriver.Chrome(\"../FEHeroes/chromedriver\")\n",
    "#gg = (\"https://gamepress.gg/feheroes/heroes\")\n",
    "#browser.get(gg)\n",
    "#respData = browser.page_source\n",
    "singer = \"shakira\"\n",
    "song = \"wakawakathistimeforafrica\"\n",
    "\n",
    "for i in range(1): \n",
    "    browser.get(\"https://www.azlyrics.com/lyrics/\" + singer + \"/\" + song + \".html\")\n",
    "    el = browser.page_source\n",
    "\n",
    "browser.close()"
   ]
  },
  {
   "cell_type": "code",
   "execution_count": 22,
   "metadata": {},
   "outputs": [],
   "source": [
    "so = BeautifulSoup(el, 'html.parser')"
   ]
  },
  {
   "cell_type": "code",
   "execution_count": 23,
   "metadata": {},
   "outputs": [],
   "source": [
    "#so.findAll(text = True)"
   ]
  },
  {
   "cell_type": "code",
   "execution_count": 24,
   "metadata": {},
   "outputs": [],
   "source": [
    "beg = so.findAll(text = True).index(' Usage of azlyrics.com content by any third-party lyrics provider is prohibited by our licensing agreement. Sorry about that. ')\n",
    "en = so.findAll(text = True).index(' MxM banner ')"
   ]
  },
  {
   "cell_type": "code",
   "execution_count": 25,
   "metadata": {},
   "outputs": [
    {
     "data": {
      "text/plain": [
       "['Oooeeeeeeeeeeeeeeeehh',\n",
       " '',\n",
       " \"You're a good soldier\",\n",
       " 'Choosing your battles',\n",
       " 'Pick yourself up',\n",
       " 'And dust yourself off',\n",
       " 'Get back in the saddle',\n",
       " '',\n",
       " \"You're on the front line\",\n",
       " \"Everyone's watching\",\n",
       " \"You know it's serious\",\n",
       " \"We're getting closer\",\n",
       " \"This isn't over\",\n",
       " '',\n",
       " \"The pressure's on\",\n",
       " 'You feel it',\n",
       " 'But you got it all',\n",
       " 'Believe it',\n",
       " '',\n",
       " 'When you fall get up, oh oh',\n",
       " 'If you fall get up, eh eh',\n",
       " 'Tsamina mina zangalewa',\n",
       " \"'Cause this is Africa\",\n",
       " '',\n",
       " 'Tsamina mina, eh eh',\n",
       " 'Waka waka, eh eh',\n",
       " 'Tsamina mina zangalewa',\n",
       " 'This time for Africa',\n",
       " '',\n",
       " 'Listen to your God',\n",
       " 'This is our motto',\n",
       " 'Your time to shine',\n",
       " \"Don't wait in line\",\n",
       " 'Y vamos por todo',\n",
       " '',\n",
       " 'People are raising',\n",
       " 'Their expectations',\n",
       " 'Go on and feed them',\n",
       " 'This is your moment',\n",
       " 'No hesitation',\n",
       " '',\n",
       " \"Today's your day\",\n",
       " 'I feel it',\n",
       " 'You paved the way',\n",
       " 'Believe it',\n",
       " '',\n",
       " 'If you get down get up, oh oh',\n",
       " 'When you get down get up, eh eh',\n",
       " 'Tsamina mina zangalewa',\n",
       " 'This time for Africa',\n",
       " '',\n",
       " 'Tsamina mina, eh eh',\n",
       " 'Waka waka, eh eh',\n",
       " 'Tsamina mina zangalewa',\n",
       " 'Anawa a a',\n",
       " 'Tsamina mina, eh eh',\n",
       " 'Waka waka, eh eh',\n",
       " 'Tsamina mina zangalewa',\n",
       " 'This time for Africa',\n",
       " '',\n",
       " '',\n",
       " '[Zolani:]',\n",
       " 'Ame la mejole biggi biggi mubbo wa A to Z',\n",
       " 'Asi tsu zala mejole biggi biggi mubbo from East to West',\n",
       " 'Bathi waka waka ma eh eh waka waka ma eh eh',\n",
       " \"Tendency suna tsibuye 'cause this is Africa...\",\n",
       " '',\n",
       " 'Tsamina mina, Anawa a a',\n",
       " 'Tsamina mina',\n",
       " 'Tsamina mina, Anawa a a',\n",
       " '',\n",
       " 'Tsamina mina, eh eh',\n",
       " 'Waka waka, eh eh',\n",
       " 'Tsamina mina zangalewa',\n",
       " 'Anawa a a',\n",
       " 'Tsamina mina, eh eh',\n",
       " 'Waka waka, eh eh',\n",
       " 'Tsamina mina zangalewa',\n",
       " 'This time for Africa',\n",
       " '',\n",
       " 'Django eh eh',\n",
       " 'Django eh eh',\n",
       " 'Tsamina mina zangalewa',\n",
       " 'Anawa a a',\n",
       " '',\n",
       " 'Django eh eh',\n",
       " 'Django eh eh',\n",
       " 'Tsamina mina zangalewa',\n",
       " 'Anawa a a',\n",
       " '',\n",
       " 'This time for Africa',\n",
       " 'This time for Africa',\n",
       " '',\n",
       " \"We're all Africa\",\n",
       " \"We're all Africa\",\n",
       " '',\n",
       " '']"
      ]
     },
     "execution_count": 25,
     "metadata": {},
     "output_type": "execute_result"
    }
   ],
   "source": [
    "#so.findAll(text = True)[beg + 1:en].apply(strip(\"/n\"))\n",
    "lyr = [x.strip(\"\\n\") for x in so.findAll(text = True)[beg + 1:en]]\n",
    "lyr"
   ]
  },
  {
   "cell_type": "code",
   "execution_count": 26,
   "metadata": {},
   "outputs": [
    {
     "name": "stdout",
     "output_type": "stream",
     "text": [
      "Oooeeeeeeeeeeeeeeeehh  You're a good soldier Choosing your battles Pick yourself up And dust yourself off Get back in the saddle  You're on the front line Everyone's watching You know it's serious We're getting closer This isn't over  The pressure's on You feel it But you got it all Believe it  When you fall get up, oh oh If you fall get up, eh eh Tsamina mina zangalewa 'Cause this is Africa  Tsamina mina, eh eh Waka waka, eh eh Tsamina mina zangalewa This time for Africa  Listen to your God This is our motto Your time to shine Don't wait in line Y vamos por todo  People are raising Their expectations Go on and feed them This is your moment No hesitation  Today's your day I feel it You paved the way Believe it  If you get down get up, oh oh When you get down get up, eh eh Tsamina mina zangalewa This time for Africa  Tsamina mina, eh eh Waka waka, eh eh Tsamina mina zangalewa Anawa a a Tsamina mina, eh eh Waka waka, eh eh Tsamina mina zangalewa This time for Africa   [Zolani:] Ame la mejole biggi biggi mubbo wa A to Z Asi tsu zala mejole biggi biggi mubbo from East to West Bathi waka waka ma eh eh waka waka ma eh eh Tendency suna tsibuye 'cause this is Africa...  Tsamina mina, Anawa a a Tsamina mina Tsamina mina, Anawa a a  Tsamina mina, eh eh Waka waka, eh eh Tsamina mina zangalewa Anawa a a Tsamina mina, eh eh Waka waka, eh eh Tsamina mina zangalewa This time for Africa  Django eh eh Django eh eh Tsamina mina zangalewa Anawa a a  Django eh eh Django eh eh Tsamina mina zangalewa Anawa a a  This time for Africa This time for Africa  We're all Africa We're all Africa   {'neg': 0.028, 'neu': 0.956, 'pos': 0.016, 'compound': -0.4215}\n"
     ]
    }
   ],
   "source": [
    "sentiment_analyzer_scores(\" \".join(lyr))"
   ]
  },
  {
   "cell_type": "code",
   "execution_count": 27,
   "metadata": {},
   "outputs": [],
   "source": [
    "#so.findAll(\"div\")[19]"
   ]
  },
  {
   "cell_type": "code",
   "execution_count": 28,
   "metadata": {},
   "outputs": [],
   "source": [
    "#so.findAll(\"div\")[25]"
   ]
  },
  {
   "cell_type": "code",
   "execution_count": 29,
   "metadata": {},
   "outputs": [],
   "source": [
    "browser = webdriver.Chrome(\"../FEHeroes/chromedriver\")\n",
    "#gg = (\"https://gamepress.gg/feheroes/heroes\")\n",
    "#browser.get(gg)\n",
    "#respData = browser.page_source\n",
    "singer = \"xxxtentacion\"\n",
    "song = \"sad\"\n",
    "\n",
    "for i in range(1): \n",
    "    browser.get(\"https://www.azlyrics.com/lyrics/\" + singer + \"/\" + song + \".html\")\n",
    "    eles = browser.page_source\n",
    "\n",
    "browser.close()"
   ]
  },
  {
   "cell_type": "code",
   "execution_count": 30,
   "metadata": {},
   "outputs": [
    {
     "data": {
      "text/plain": [
       "<div class=\"row\">\n",
       "<div class=\"col-lg-2 text-center hidden-md hidden-sm hidden-xs noprint\">\n",
       "<div class=\"sky-ad\"></div>\n",
       "</div>\n",
       "<!-- content -->\n",
       "<div class=\"col-xs-12 col-lg-8 text-center\">\n",
       "<div class=\"div-share noprint\">\n",
       "<div class=\"addthis_toolbox addthis_default_style\">\n",
       "<a class=\"btn btn-xs btn-share addthis_button_facebook\" href=\"https://www.facebook.com/sharer.php?u=https%3A%2F%2Fwww.azlyrics.com%2Flyrics%2Fxxxtentacion%2Fsad.html&amp;title=XXXTENTACION%20-%20SAD%21%20Lyrics%20%7C%20AZLyrics.com&amp;display=page\" target=\"_blank\">\n",
       "<span class=\"playblk\"><img alt=\"Share on Facebook\" class=\"playblk\" height=\"25\" src=\"//www.azlyrics.com/images/share-icons/facebook.svg\" title=\"Share on Facebook\" width=\"25\"/></span>\n",
       "</a>\n",
       "<a class=\"btn btn-xs btn-share addthis_button_twitter\" href=\"https://twitter.com/intent/tweet?url=https%3A%2F%2Fwww.azlyrics.com%2Flyrics%2Fxxxtentacion%2Fsad.html&amp;text=XXXTENTACION%20-%20SAD%21%20Lyrics%20%7C%20AZLyrics.com\" target=\"_blank\">\n",
       "<span class=\"playblk\"><img alt=\"Share on Twiiter\" class=\"playblk\" height=\"25\" src=\"//www.azlyrics.com/images/share-icons/twitter.svg\" title=\"Share on Twiiter\" width=\"25\"/></span>\n",
       "</a>\n",
       "<a class=\"btn btn-xs btn-share addthis_button_email\" href=\"mailto:?subject=XXXTENTACION%20-%20SAD%21%20Lyrics%20%7C%20AZLyrics.com&amp;body=https%3A%2F%2Fwww.azlyrics.com%2Flyrics%2Fxxxtentacion%2Fsad.html\" target=\"_blank\">\n",
       "<span class=\"playblk\"><img alt=\"Email\" class=\"playblk\" height=\"25\" src=\"//www.azlyrics.com/images/share-icons/email.svg\" title=\"Email\" width=\"25\"/></span>\n",
       "</a>\n",
       "<a class=\"btn btn-xs btn-share addthis_button_print\" href=\"javascript:void(window.print());\" style=\"margin-right: 0px !important;\">\n",
       "<span class=\"playblk\"><img alt=\"Print\" class=\"playblk\" height=\"25\" src=\"//www.azlyrics.com/images/share-icons/print.svg\" title=\"Print\" width=\"25\"/></span>\n",
       "</a>\n",
       "</div>\n",
       "</div>\n",
       "<div class=\"div-share\"><h1>\"SAD!\" lyrics</h1></div>\n",
       "<div class=\"lyricsh\">\n",
       "<h2><b>XXXTENTACION Lyrics</b></h2>\n",
       "</div>\n",
       "<div class=\"ringtone\">\n",
       "<span id=\"cf_text_top\"><table align=\"center\" onclick=\"window.open('https://srv.clickfuse.com/showads/track/clk.php?cid=54735263&amp;aid=39382074&amp;adid=12908295&amp;creative_id=500125391&amp;artist=XXXTENTACION&amp;song=SAD%21&amp;search=&amp;b=Chrome_80&amp;cs=1&amp;t=15867561623755&amp;uri=https%3A%2F%2Fwww.azlyrics.com%2Flyrics%2Fxxxtentacion%2Fsad.html&amp;subtag=&amp;ldmo=&amp;caph=0&amp;capv=0&amp;url=https://www.amazon.com/gp/dmusic/promotions/AmazonMusicUnlimited/?tag=bit-dsk-dypgtst-20');\" style=\"border: 0 !important; cursor: pointer !important; width: 100% !important; max-width: 500px !important; height: 50px !important; margin: 0 auto !important; border-collapse: collapse !important; font-family: Trebuchet MS, Arial, Helvetica !important; line-height: 1.5 !important; background: transparent !important; border-collapse: collapse !important; white-space: normal !important; font-size: 0em !important;\"> <tbody style=\"padding: 0 !important; border: none !important; background: transparent;\"> <tr style=\"padding: 0 !important; border: none !important; background: transparent;\"> <td style=\"padding: 0 0 0 5px !important; border: 0 !important; background: transparent; text-align: right !important; vertical-align: middle !important; width: 40px !important;\"> <div style=\"width: 40px; height: 40px !important; border-radius: 50% !important; background-color: #e4e4e4 !important; position: relative !important; right: -2px !important;\"> <div style=\"position: relative; top: 6px; left: -3px;\"> <svg height=\"30\" viewbox=\"0 0 32 32\" width=\"30\"> <path d=\"M6 4l20 12-20 12z\" style=\"stroke-width:0;fill:#213374;\"></path> </svg> </div> </div> </td> <td style=\"padding: 0 !important; border: 0 !important; background: transparent; text-align: center !important; vertical-align: middle !important;\"> <div style=\"color: #213374 !important; padding: 0px 8px !important; font-size: 15px !important; font-weight: bold !important; line-height: 1.5;\">            Play \"Sad!\"<br/> </div> <div style=\"color: #616161 !important; font-size: 12px !important; border-top: 2px solid #b1b1b1 !important; line-height: 1.5;\">            on Amazon Music Unlimited (ad)         </div> </td> <td style=\"padding: 0 5px 0 0 !important; border: 0 !important; background: transparent; text-align: left !important; vertical-align: middle !important; width: 40px !important;\"> <div style=\"width: 40px; height: 40px; border-radius: 50%; background-color: #e4e4e4; position: relative !important; left: -2px !important;\"> <div style=\"position: relative; top: 8px; right: -7px;\"> <svg height=\"25\" viewbox=\"0 0 75 75\" width=\"25\"> <path d=\"M39.389,13.769 L22.235,28.606 L6,28.606 L6,47.699 L21.989,47.699 L39.389,62.75 L39.389,13.769z\" style=\"stroke:#213374;stroke-width:5;stroke-linejoin:round;fill:#213374;\"></path> <path d=\"M48,27.6a19.5,19.5 0 0 1 0,21.4M55.1,20.5a30,30 0 0 1 0,35.6M61.6,14a38.8,38.8 0 0 1 0,48.6\" style=\"fill:none;stroke:#213374;stroke-width:5;stroke-linecap:round\"></path> </svg> </div> </div> </td> </tr></tbody></table></span>\n",
       "</div>\n",
       "<b>\"SAD!\"</b><br/>\n",
       "<br/>\n",
       "<div>\n",
       "<!-- Usage of azlyrics.com content by any third-party lyrics provider is prohibited by our licensing agreement. Sorry about that. -->\n",
       "Yeah<br/>\n",
       "<br/>\n",
       "Who am I? Someone that's afraid to let go, uh<br/>\n",
       "You decide if you're ever gonna let me know (yeah)<br/>\n",
       "Suicide if you ever try to let go, uh<br/>\n",
       "I'm sad, I know, yeah, I'm sad, I know, yeah<br/>\n",
       "Who am I? Someone that's afraid to let go, uh<br/>\n",
       "You decide if you're ever gonna let me know (yeah)<br/>\n",
       "Suicide if you ever try to let go, uh<br/>\n",
       "I'm sad, I know, yeah, I'm sad, I know, yeah<br/>\n",
       "<br/>\n",
       "I gave her everything<br/>\n",
       "She took my heart and left me lonely<br/>\n",
       "I think broken heart's contagious<br/>\n",
       "I won't fix, I'd rather weep<br/>\n",
       "I'm lost then I'm found<br/>\n",
       "But it's torture being in love<br/>\n",
       "I love when you're around<br/>\n",
       "But I fucking hate when you leave<br/>\n",
       "<br/>\n",
       "Who am I? Someone that's afraid to let go, uh<br/>\n",
       "You decide if you're ever gonna let me know (yeah)<br/>\n",
       "Suicide if you ever try to let go, uh<br/>\n",
       "I'm sad, I know, yeah<br/>\n",
       "I'm sad, I know, yeah<br/>\n",
       "Who am I? Someone that's afraid to let go, uh<br/>\n",
       "You decide if you're ever gonna let me know (yeah)<br/>\n",
       "Suicide if you ever try to let go, uh<br/>\n",
       "I'm sad, I know, yeah<br/>\n",
       "I'm sad, I know, yeah<br/>\n",
       "<br/>\n",
       "Who am I? Someone that's afraid to let go, uh<br/>\n",
       "You decide if you're ever gonna let me know (yeah)<br/>\n",
       "Suicide if you ever try to let go, uh<br/>\n",
       "I'm sad, I know, yeah<br/>\n",
       "I'm sad, I know, yeah<br/>\n",
       "Who am I? Someone that's afraid to let go, uh<br/>\n",
       "You decide if you're ever gonna let me know (yeah)<br/>\n",
       "Suicide if you ever try to let go, uh<br/>\n",
       "I'm sad, I know, yeah<br/>\n",
       "I'm sad, I know, yeah\n",
       "</div>\n",
       "<br/><br/>\n",
       "<!-- MxM banner -->\n",
       "<div class=\"noprint\" id=\"azmxmbanner\" style=\"display:none;\">\n",
       "<script>\n",
       "if  ( /Android|webOS|iPhone|iPod|iPad|BlackBerry|IEMobile|Opera Mini/i.test(navigator.userAgent) ) \n",
       "  {\n",
       "     document.getElementById('azmxmbanner').style.display='block';\n",
       "     document.write('<div style=\"margin-left: auto; margin-right: auto;\">'+\n",
       "  '<iframe scrolling=\"no\" style=\"border: 0px none; overflow:hidden;\" src=\"//adv.mxmcdn.net/br/t1.0/m_js/e_0/sn_0/l_19311204/su_0/rs_0/tr_3vUCAFZ9EZ5xaK-GDz5FvFyHVWycc8bfcAhYPP8-y48K3qYbzMsE6gsCPXViTJsivdyRTjaSvAfokvVA_JQrFlIb6SmnvUks9-irzGaeb6ZP8qyo3VDIMm_hbB8T_pczcVpr3Igz1DRcd7D-YCYJxlaOxqdbYBtYdtg7ZdlE4KvTDOKQPIbCH_dv_dglZvL02-0mYbb2lXhJi0Zntp-oogYwLNeZyPceosjaWvvIFTZ5DyYzcvCl8MTbnSTMWDJxxU09HpO0Kte1YhdGkWeY7Zkc3cy5zd16CSDfLc2PLDvkY4_3Z8jxrjF4KjDk2x6vxeYjlxv8nhYjomN_jxOSyFcF6Lp2xQy4LPBmH6LE0crTKpznNV-HiUqOXsnI5EbsCsOndwg1C0o2amWJ3vBFV_lWcdBDEUmqaBWeReGsNyDzgVq48l0yPgIAjdV-Wu0vQNOASe5a6JUj/\" width=\"290px\" height=\"50px\"></iframe>'+\n",
       "  '</div>');\n",
       "   }\n",
       "</script>\n",
       "<br/><br/>\n",
       "</div>\n",
       "<form action=\"../../add.php\" id=\"addsong\" method=\"post\">\n",
       "<input name=\"what\" type=\"hidden\" value=\"add_song\"/>\n",
       "<input name=\"artist\" type=\"hidden\" value=\"XXXTENTACION\"/>\n",
       "<input name=\"artist_id\" type=\"hidden\" value=\"7392\"/>\n",
       "</form>\n",
       "<form action=\"../../add.php\" id=\"corlyr\" method=\"post\">\n",
       "<input name=\"what\" type=\"hidden\" value=\"correct_lyrics\"/>\n",
       "<input name=\"song_id\" type=\"hidden\" value=\"623473\"/>\n",
       "</form>\n",
       "<div class=\"smt noprint\">\n",
       "<a class=\"btn btn-primary\" href=\"#\" onclick=\"submitCorrections()\"><span class=\"glyphicon glyphicon-pencil\"></span> Submit Corrections</a>\n",
       "</div>\n",
       "<div class=\"smt\"><small>Thanks to balazs75 for correcting these lyrics.<br/></small>\n",
       "</div>\n",
       "<div class=\"noprint\" style=\"padding: 15px 0\">\n",
       "<span id=\"cf_text_bottom\"><table align=\"center\" onclick=\"window.open('https://srv.clickfuse.com/showads/track/clk.php?cid=54735263&amp;aid=39382075&amp;adid=12908295&amp;creative_id=500125391&amp;artist=XXXTENTACION&amp;song=SAD%21&amp;search=&amp;b=Chrome_80&amp;cs=1&amp;t=15867561623823&amp;uri=https%3A%2F%2Fwww.azlyrics.com%2Flyrics%2Fxxxtentacion%2Fsad.html&amp;subtag=&amp;ldmo=&amp;caph=0&amp;capv=0&amp;url=https://www.amazon.com/gp/dmusic/promotions/AmazonMusicUnlimited/?tag=bit-dsk-dypgtst-20');\" style=\"border: 0 !important; cursor: pointer !important; width: 100% !important; max-width: 500px !important; height: 50px !important; margin: 0 auto !important; border-collapse: collapse !important; font-family: Trebuchet MS, Arial, Helvetica !important; line-height: 1.5 !important; background: transparent !important; border-collapse: collapse !important; white-space: normal !important; font-size: 0em !important;\"> <tbody style=\"padding: 0 !important; border: none !important; background: transparent;\"> <tr style=\"padding: 0 !important; border: none !important; background: transparent;\"> <td style=\"padding: 0 0 0 5px !important; border: 0 !important; background: transparent; text-align: right !important; vertical-align: middle !important; width: 40px !important;\"> <div style=\"width: 40px; height: 40px !important; border-radius: 50% !important; background-color: #e4e4e4 !important; position: relative !important; right: -2px !important;\"> <div style=\"position: relative; top: 6px; left: -3px;\"> <svg height=\"30\" viewbox=\"0 0 32 32\" width=\"30\"> <path d=\"M6 4l20 12-20 12z\" style=\"stroke-width:0;fill:#213374;\"></path> </svg> </div> </div> </td> <td style=\"padding: 0 !important; border: 0 !important; background: transparent; text-align: center !important; vertical-align: middle !important;\"> <div style=\"color: #213374 !important; padding: 0px 8px !important; font-size: 15px !important; font-weight: bold !important; line-height: 1.5;\">            Play \"Sad!\"<br/> </div> <div style=\"color: #616161 !important; font-size: 12px !important; border-top: 2px solid #b1b1b1 !important; line-height: 1.5;\">            on Amazon Music Unlimited (ad)         </div> </td> <td style=\"padding: 0 5px 0 0 !important; border: 0 !important; background: transparent; text-align: left !important; vertical-align: middle !important; width: 40px !important;\"> <div style=\"width: 40px; height: 40px; border-radius: 50%; background-color: #e4e4e4; position: relative !important; left: -2px !important;\"> <div style=\"position: relative; top: 8px; right: -7px;\"> <svg height=\"25\" viewbox=\"0 0 75 75\" width=\"25\"> <path d=\"M39.389,13.769 L22.235,28.606 L6,28.606 L6,47.699 L21.989,47.699 L39.389,62.75 L39.389,13.769z\" style=\"stroke:#213374;stroke-width:5;stroke-linejoin:round;fill:#213374;\"></path> <path d=\"M48,27.6a19.5,19.5 0 0 1 0,21.4M55.1,20.5a30,30 0 0 1 0,35.6M61.6,14a38.8,38.8 0 0 1 0,48.6\" style=\"fill:none;stroke:#213374;stroke-width:5;stroke-linecap:round\"></path> </svg> </div> </div> </td> </tr></tbody></table></span>\n",
       "</div>\n",
       "<!-- credits -->\n",
       "<div class=\"smt\"><small>Writer(s): Cunningham John Carter, Onfroy Jahseh</small>\n",
       "<br/>\n",
       "</div>\n",
       "<!-- song facts -->\n",
       "<div class=\"panel album-panel noprint\">\n",
       "\"SAD!\" is the lead single from the album \"?\" (2018). The song was released on March 2, 2018.\n",
       "</div>\n",
       "<div class=\"panel album-panel noprint\">\n",
       "XXXTENTACION previewed the song at the beginning of one of his gaming videos on YouTube several weeks before the release.\n",
       "</div>\n",
       "<div class=\"panel album-panel noprint\">\n",
       "The lyrics is about emotions after the break-up: depression, broken heart, suicidal thoughts.\n",
       "</div>\n",
       "<div class=\"panel album-panel noprint\">\n",
       "\"SAD!\" becomes the first song to top the Billboard Hot 100 posthumously since The Notorious B.I.G.'s <a href=\"https://www.azlyrics.com/lyrics/notoriousbig/momoneymoproblems.html\">\"Mo Money Mo Problems\"</a> in 1997.\n",
       "</div>\n",
       "<div class=\"panel album-panel noprint\">\n",
       "Before his death, XXXTENTACION wrote and directed <a href=\"https://www.youtube.com/watch?v=iAeYPfrXwk4\" target=\"_blank\">\"SAD!\" music video</a>, which shows him attending his own funeral and fighting his own resurrected self. The video was premiered on June 28, 2018, ten days after his death.\n",
       "</div>\n",
       "<!-- artist link -->\n",
       "<ol class=\"breadcrumb noprint\" itemscope=\"\" itemtype=\"https://schema.org/BreadcrumbList\">\n",
       "<li itemprop=\"itemListElement\" itemscope=\"\" itemtype=\"https://schema.org/ListItem\"><a href=\"//www.azlyrics.com\" itemprop=\"item\"><span itemprop=\"name\">AZLyrics</span></a><meta content=\"1\" itemprop=\"position\"/></li>\n",
       "<li itemprop=\"itemListElement\" itemscope=\"\" itemtype=\"https://schema.org/ListItem\"><a href=\"//www.azlyrics.com/x.html\" itemprop=\"item\"><span itemprop=\"name\">X</span></a><meta content=\"2\" itemprop=\"position\"/></li>\n",
       "<li itemprop=\"itemListElement\" itemscope=\"\" itemtype=\"https://schema.org/ListItem\"><a href=\"//www.azlyrics.com/x/xxxtentacion.html\" itemprop=\"item\"><span itemprop=\"name\">XXXTENTACION Lyrics</span></a><meta content=\"3\" itemprop=\"position\"/></li>\n",
       "</ol>\n",
       "<!-- album songlists -->\n",
       "<div class=\"panel songlist-panel noprint\">\n",
       "<div class=\"songinalbum_title\">album: <b>\"?\"</b> (2018)</div>\n",
       "<div class=\"listalbum-item\"><a href=\"introductioninstructions.html\">Introduction (instructions)</a></div>\n",
       "<div class=\"listalbum-item\"><a href=\"alonepart3.html\">ALONE, PART 3</a></div>\n",
       "<div class=\"listalbum-item\"><a href=\"moonlight.html\">Moonlight</a></div>\n",
       "<div class=\"listalbum-item\"><a href=\"sad.html\">SAD!</a></div>\n",
       "<div class=\"listalbum-item\"><a href=\"theremedyforabrokenheartwhyamisoinlove.html\">the remedy for a broken heart (why am I so in love)</a></div>\n",
       "<div class=\"listalbum-item\"><a href=\"floor555.html\">Floor 555</a></div>\n",
       "<div class=\"listalbum-item\"><a href=\"numb.html\">NUMB</a></div>\n",
       "<div class=\"listalbum-item\"><a href=\"infinity888.html\">infinity (888)</a></div>\n",
       "<div class=\"listalbum-item\"><a href=\"goingdown.html\">going down!</a></div>\n",
       "<div class=\"listalbum-item\"><a href=\"painbestfriend.html\">Pain = BEST FRIEND</a></div>\n",
       "<div class=\"listalbum-item\"><a href=\"628856.html\">$$$</a></div>\n",
       "<div class=\"listalbum-item\"><a href=\"loveyourselfinterlude.html\">Love Yourself (Interlude)</a></div>\n",
       "<div class=\"listalbum-item\"><a href=\"smash.html\">SMASH!</a></div>\n",
       "<div class=\"listalbum-item\"><a href=\"idontevenspeakspanishlol.html\">I don't even speak spanish lol</a></div>\n",
       "<div class=\"listalbum-item\"><a href=\"changes.html\">changes</a></div>\n",
       "<div class=\"listalbum-item\"><a href=\"hope.html\">HOPE</a></div>\n",
       "<div class=\"listalbum-item\"><a href=\"schizophrenia.html\">schizophrenia</a></div>\n",
       "<div class=\"listalbum-item\"><a href=\"beforeiclosemyeyes.html\">before I close my eyes</a></div>\n",
       "<div class=\"listalbum-item\"><a href=\"hopefreestyle.html\">Hope (Freestyle)</a><div class=\"comment\">(Deluxe Edition Bonus Track)</div></div>\n",
       "<div class=\"listalbum-item\"><a href=\"numbacoustic.html\">NUMB (Acoustic)</a><div class=\"comment\">(Deluxe Edition Bonus Track)</div></div>\n",
       "<div class=\"listalbum-item\"><a href=\"proudcatownerremix.html\">#PROUDCATOWNERREMIX</a><div class=\"comment\">(Deluxe Edition Bonus Track)</div></div>\n",
       "<div class=\"listalbum-item\"><a href=\"aghettochristmascarol.html\">A GHETTO CHRISTMAS CAROL</a><div class=\"comment\">(Deluxe Edition Bonus Track)</div></div>\n",
       "<div class=\"listalbum-item\"><a href=\"hatewillneverwin.html\">hate will never win</a><div class=\"comment\">(Deluxe Edition Bonus Track)</div></div>\n",
       "<div class=\"listalbum-item\"><a href=\"uplikeaninsomniacfreestyle.html\">UP LIKE AN INSOMNIAC (Freestyle)</a><div class=\"comment\">(Deluxe Edition Bonus Track)</div></div>\n",
       "<div class=\"listalbum-item\"><a href=\"redlight.html\">Red Light!</a><div class=\"comment\">(Deluxe Edition Bonus Track)</div></div>\n",
       "<div class=\"listalbum-item\"><a href=\"indecision.html\">Indecision</a><div class=\"comment\">(Deluxe Edition Bonus Track)</div></div>\n",
       "<div class=\"listalbum-item\"><a href=\"voicememo1alonepart3.html\">voice memo 1: ALONE, PART 3</a><div class=\"comment\">(Deluxe Edition Bonus Track)</div></div>\n",
       "<div class=\"listalbum-item\"><a href=\"voicememo2sad.html\">voice memo 2: SAD!</a><div class=\"comment\">(Deluxe Edition Bonus Track)</div></div>\n",
       "<div class=\"listalbum-item\"><a href=\"voicememo3moonlight.html\">voice memo 3: Moonlight</a><div class=\"comment\">(Deluxe Edition Bonus Track)</div></div>\n",
       "<div class=\"listalbum-item\"><a href=\"voicememo4theremedyforabrokenheart.html\">voice memo 4: the remedy for a broken heart</a><div class=\"comment\">(Deluxe Edition Bonus Track)</div></div>\n",
       "<div class=\"listalbum-item\"><a href=\"voicememo6changes.html\">voice memo 6: changes</a><div class=\"comment\">(Deluxe Edition Bonus Track)</div></div>\n",
       "<div class=\"listalbum-item\"><a href=\"voicememo7beforeiclosemyeyes.html\">voice memo 7: before I close my eyes</a><div class=\"comment\">(Deluxe Edition Bonus Track)</div></div>\n",
       "<div class=\"listalbum-item\"><a href=\"voicememo8sadvideoconcept.html\">voice memo 8: SAD! video concept</a><div class=\"comment\">(Deluxe Edition Bonus Track)</div></div>\n",
       "</div>\n",
       "<!-- album songlists end -->\n",
       "<form action=\"//search.azlyrics.com/search.php\" class=\"search noprint\" method=\"get\" role=\"search\">\n",
       "<div class=\"input-group\" style=\"margin-bottom:15px\">\n",
       "<div class=\"easy-autocomplete eac-bootstrap\"><input autocomplete=\"off\" class=\"form-control\" id=\"eac-1310\" name=\"q\" placeholder=\"\" type=\"text\"/><div class=\"easy-autocomplete-container\" id=\"eac-container-eac-1310\"><ul></ul></div></div>\n",
       "<span class=\"input-group-btn\">\n",
       "<button class=\"btn btn-primary\" type=\"submit\"><span class=\"glyphicon glyphicon-search\"></span> Search</button>\n",
       "</span>\n",
       "</div>\n",
       "</form>\n",
       "<div class=\"noprint visible-xs-block\" style=\"margin-top:5px;margin-bottom:5px\">\n",
       "<span id=\"cf_rect_bottom\"></span>\n",
       "</div>\n",
       "</div> <!-- content -->\n",
       "<div class=\"col-lg-2 text-center hidden-md hidden-sm hidden-xs noprint\">\n",
       "<div class=\"sky-ad\"></div>\n",
       "</div>\n",
       "</div>"
      ]
     },
     "execution_count": 30,
     "metadata": {},
     "output_type": "execute_result"
    }
   ],
   "source": [
    "s = BeautifulSoup(eles, 'html.parser')\n",
    "s.findAll(\"div\")[14]"
   ]
  },
  {
   "cell_type": "code",
   "execution_count": 31,
   "metadata": {},
   "outputs": [],
   "source": [
    "s.find('div', text = \"Yeah\")"
   ]
  },
  {
   "cell_type": "code",
   "execution_count": 32,
   "metadata": {},
   "outputs": [
    {
     "name": "stdout",
     "output_type": "stream",
     "text": [
      "Yeah  Who am I? Someone that's afraid to let go, uh You decide if you're ever gonna let me know (yeah) Suicide if you ever try to let go, uh I'm sad, I know, yeah, I'm sad, I know, yeah Who am I? Someone that's afraid to let go, uh You decide if you're ever gonna let me know (yeah) Suicide if you ever try to let go, uh I'm sad, I know, yeah, I'm sad, I know, yeah  I gave her everything She took my heart and left me lonely I think broken heart's contagious I won't fix, I'd rather weep I'm lost then I'm found But it's torture being in love I love when you're around But I fucking hate when you leave  Who am I? Someone that's afraid to let go, uh You decide if you're ever gonna let me know (yeah) Suicide if you ever try to let go, uh I'm sad, I know, yeah I'm sad, I know, yeah Who am I? Someone that's afraid to let go, uh You decide if you're ever gonna let me know (yeah) Suicide if you ever try to let go, uh I'm sad, I know, yeah I'm sad, I know, yeah  Who am I? Someone that's afraid to let go, uh You decide if you're ever gonna let me know (yeah) Suicide if you ever try to let go, uh I'm sad, I know, yeah I'm sad, I know, yeah Who am I? Someone that's afraid to let go, uh You decide if you're ever gonna let me know (yeah) Suicide if you ever try to let go, uh I'm sad, I know, yeah I'm sad, I know, yeah   {'neg': 0.263, 'neu': 0.62, 'pos': 0.117, 'compound': -0.9957}\n"
     ]
    }
   ],
   "source": [
    "begi = s.findAll(text = True).index(' Usage of azlyrics.com content by any third-party lyrics provider is prohibited by our licensing agreement. Sorry about that. ')\n",
    "endo = s.findAll(text = True).index(' MxM banner ')\n",
    "lyrim = [x.strip(\"\\n\") for x in s.findAll(text = True)[begi + 1:endo]]\n",
    "sentiment_analyzer_scores(\" \".join(lyrim))"
   ]
  },
  {
   "cell_type": "code",
   "execution_count": 33,
   "metadata": {},
   "outputs": [
    {
     "name": "stdout",
     "output_type": "stream",
     "text": [
      "Yeah  Who am I? Someone that's afraid to let go, uh You decide if you're ever gonna let me know (yeah) Suicide if you ever try to let go, uh I'm sad, I know, yeah, I'm sad, I know, yeah Who am I? Someone that's afraid to let go, uh You decide if you're ever gonna let me know (yeah) Suicide if you ever try to let go, uh I'm sad, I know, yeah, I'm sad, I know, yeah  I gave her everything She took my heart and left me lonely I think broken heart's contagious I won't fix, I'd rather weep I'm lost then I'm found But it's torture being in love I love when you're around But I fucking hate when you leave  Who am I? Someone that's afraid to let go, uh You decide if you're ever gonna let me know (yeah) Suicide if you ever try to let go, uh I'm sad, I know, yeah I'm sad, I know, yeah Who am I? Someone that's afraid to let go, uh You decide if you're ever gonna let me know (yeah) Suicide if you ever try to let go, uh I'm sad, I know, yeah I'm sad, I know, yeah  Who am I? Someone that's afraid to let go, uh You decide if you're ever gonna let me know (yeah) Suicide if you ever try to let go, uh I'm sad, I know, yeah I'm sad, I know, yeah Who am I? Someone that's afraid to let go, uh You decide if you're ever gonna let me know (yeah) Suicide if you ever try to let go, uh I'm sad, I know, yeah I'm sad, I know, yeah   {'neg': 0.263, 'neu': 0.62, 'pos': 0.117, 'compound': -0.9957}\n"
     ]
    }
   ],
   "source": [
    "sentiment_analyzer_scores(\" \".join(lyrim))"
   ]
  },
  {
   "cell_type": "code",
   "execution_count": 34,
   "metadata": {},
   "outputs": [],
   "source": [
    "def azartistprep(artist):\n",
    "    if \"&\" in artist:\n",
    "        art, tist = artist.split(\"&\")\n",
    "        return art.lower().replace(\" \", \"\").replace(\".\", \"\")\n",
    "    if \"The\" in artist:\n",
    "        art, tist = artist.split(\"The\")\n",
    "        return tist.lower().replace(\" \", \"\").replace(\".\", \"\")\n",
    "    return artist.lower().replace(\" \", \"\").replace(\".\", \"\")\n",
    "\n",
    "def azlyricprep(song):\n",
    "    if \" - \" in song:\n",
    "        end = \"\"\n",
    "        a, b = song.split(\"-\", 1)\n",
    "        if a == \"Cheerleader\":\n",
    "            return \"cheerleaderfelixjaehnremix\"\n",
    "        if \"Remix\" in b:\n",
    "            c, d = b.split(\"Remix\")\n",
    "            end += c.lower().replace(\" \", \"\") + \"remix\"\n",
    "        a = a.lower().replace(\" \", \"\")\n",
    "        a += end\n",
    "        return a.replace(\"'\", \"\").replace(\"!\", \"\").replace(\".\", \"\")\n",
    "    if \"[\" in song:\n",
    "        a, b = song.split(\"[\", 1)\n",
    "        a = a.lower().replace(\"(\", \"\").replace(\")\", \"\").replace(\" \", \"\")\n",
    "        return a.replace(\"'\", \"\").replace(\"!\", \"\").replace(\".\", \"\")\n",
    "    if \"(feat.\" in song:\n",
    "        a, b = song.split(\"(feat.\", 1)\n",
    "        a = a.lower().replace(\" \", \"\")\n",
    "        return a.replace(\"'\", \"\").replace(\"!\", \"\").replace(\".\", \"\").replace(\"(\", \"\").replace(\")\", \"\")\n",
    "    #if \"(\" in song:\n",
    "    #    a, b = song.split(\")\")\n",
    "     #   a.replace(\"(\", \"\")\n",
    "      #  return a.lower()\n",
    "    else:\n",
    "        return song.lower().replace(\"'\", \"\").replace(\"!\", \"\").replace(\".\", \"\").replace(\"(\", \"\").replace(\")\", \"\").replace(\" \", \"\").replace(\"ñ\", \"n\")"
   ]
  },
  {
   "cell_type": "code",
   "execution_count": 35,
   "metadata": {},
   "outputs": [
    {
     "data": {
      "text/plain": [
       "'wakawakathistimeforafrica'"
      ]
     },
     "execution_count": 35,
     "metadata": {},
     "output_type": "execute_result"
    }
   ],
   "source": [
    "azlyricprep(\"Waka Waka (This Time for Africa) [The Official. (feat.)\")"
   ]
  },
  {
   "cell_type": "code",
   "execution_count": null,
   "metadata": {},
   "outputs": [],
   "source": []
  },
  {
   "cell_type": "code",
   "execution_count": 73,
   "metadata": {},
   "outputs": [],
   "source": [
    "sources = []\n",
    "\n",
    "browser = webdriver.Chrome(\"../FEHeroes/chromedriver\")\n",
    "#gg = (\"https://gamepress.gg/feheroes/heroes\")\n",
    "#browser.get(gg)\n",
    "#respData = browser.page_source\n",
    "\n",
    "for index, song in tens_df.iterrows():\n",
    "    singer = azartistprep(song[\"Artists\"][0])\n",
    "    song = azlyricprep(song[\"Name\"])\n",
    "    browser.get(\"https://www.azlyrics.com/lyrics/\" + singer + \"/\" + song + \".html\")\n",
    "    sources.append(browser.page_source)\n",
    "    time.sleep(10)\n",
    "\n",
    "browser.close()"
   ]
  },
  {
   "cell_type": "markdown",
   "metadata": {},
   "source": [
    "## Sentiment Analysis"
   ]
  },
  {
   "cell_type": "code",
   "execution_count": 74,
   "metadata": {},
   "outputs": [],
   "source": [
    "def sentiment_scores(sentence): \n",
    "  \n",
    "    # Create a SentimentIntensityAnalyzer object. \n",
    "    sid_obj = SentimentIntensityAnalyzer() \n",
    "  \n",
    "    # polarity_scores method of SentimentIntensityAnalyzer \n",
    "    # oject gives a sentiment dictionary. \n",
    "    # which contains pos, neg, neu, and compound scores. \n",
    "    sentiment_dict = sid_obj.polarity_scores(sentence)\n",
    "    return sentiment_dict\n",
    "    \n",
    "#    print(\"Overall sentiment dictionary is : \", sentiment_dict) \n",
    "#    print(\"sentence was rated as \", sentiment_dict['neg']*100, \"% Negative\") \n",
    "#    print(\"sentence was rated as \", sentiment_dict['neu']*100, \"% Neutral\") \n",
    "#    print(\"sentence was rated as \", sentiment_dict['pos']*100, \"% Positive\") "
   ]
  },
  {
   "cell_type": "code",
   "execution_count": 76,
   "metadata": {},
   "outputs": [],
   "source": [
    "lyrics = []\n",
    "for source in sources:\n",
    "    so = BeautifulSoup(source, 'html.parser')\n",
    "    beg = so.findAll(text = True).index(' Usage of azlyrics.com content by any third-party lyrics provider is prohibited by our licensing agreement. Sorry about that. ')\n",
    "    en = so.findAll(text = True).index(' MxM banner ')\n",
    "    lyr = [x.strip(\"\\n\") for x in so.findAll(text = True)[beg + 1:en]]\n",
    "    lyrics.append(lyr)"
   ]
  },
  {
   "cell_type": "code",
   "execution_count": 77,
   "metadata": {},
   "outputs": [
    {
     "name": "stdout",
     "output_type": "stream",
     "text": [
      " [Kyla:] Baby, I like your style   [Drake:] Grips on your waist Front way, back way You know that I don't play Streets not safe But I never run away Even when I'm away Oti, oti, there's never much love when we go OT I pray to make it back in one piece I pray, I pray  That's why I need a one dance Got a Hennessy in my hand One more time 'fore I go Higher powers taking a hold on me I need a one dance Got a Hennessy in my hand One more time 'fore I go Higher powers taking a hold on me   [Kyla:] Baby, I like your style   [Drake:] Strength and guidance All that I'm wishing for my friends Nobody makes it from my ends I had to bust up the silence You know you gotta stick by me Soon as you see the text, reply me I don't wanna spend time fighting We've got no time  And that's why I need a one dance Got a Hennessy in my hand One more time 'fore I go Higher powers taking a hold on me I need a one dance Got a Hennessy in my hand One more time 'fore I go Higher powers taking a hold on me   [Wizkid:] Got a pretty girl and she love me long time Wine it, wine it, very long time Oh, yeah, she steady on grindin' Back up, back up, back up and wine it Back up, back up and wine it, girl Back up, back up, back up and wine it Oh, yeah, she steady on grindin' Back up, back up and wine it, girl   [Kyla & Wizkid:] Tell me, I need to know, where do you wanna go? 'Cause if you're down, I'll take it slow Make you lose control Where, where, where Where, where, where, where Oh, yeah, she steady on grindin' Where, where, where Back up, back up and wine it, girl Where, where, where, where 'Cause if you're down Back up, back up and 'Cause if you're down Back up, back up and 'Cause if you're down Back up, back up and   [Drake:] I need a one dance Got a Hennessy in my hand One more time 'fore I go Higher powers taking a hold on me I need a one dance Got a Hennessy in my hand One more time 'fore I go Higher powers taking a hold on me   {'neg': 0.052, 'neu': 0.799, 'pos': 0.149, 'compound': 0.9919}\n"
     ]
    }
   ],
   "source": [
    "for x in lyrics[0]:\n",
    "    sentiment_scores(x)\n",
    "sentiment_analyzer_scores(\" \".join(lyrics[0]))"
   ]
  },
  {
   "cell_type": "code",
   "execution_count": 78,
   "metadata": {},
   "outputs": [
    {
     "data": {
      "text/plain": [
       "{'neg': 0.272, 'neu': 0.728, 'pos': 0.0, 'compound': -0.5216}"
      ]
     },
     "execution_count": 78,
     "metadata": {},
     "output_type": "execute_result"
    }
   ],
   "source": [
    "sentiment_scores(lyrics[0][12])"
   ]
  },
  {
   "cell_type": "markdown",
   "metadata": {},
   "source": [
    "## Future Ideas for Analysis\n",
    "\n",
    "In the context of comparing sentiment of lyrics to audio features, there is another avenue that can be taken, which may appear in a future update:\n",
    "\n",
    "* Take genres and audio features of genres and compare to lyrical sentiment - see if there is a relationship between lyrical sentiment and audio features for genres.\n",
    "* A deep dive into audio features for specific genres/artists - see if a model can be trained to predict for genre of an artist based on audio features\n",
    "* Build personal sentiment analyzer and compare to Vader (will require lots of computing power to train model...)"
   ]
  },
  {
   "cell_type": "code",
   "execution_count": null,
   "metadata": {},
   "outputs": [],
   "source": []
  }
 ],
 "metadata": {
  "kernelspec": {
   "display_name": "Python 3",
   "language": "python",
   "name": "python3"
  },
  "language_info": {
   "codemirror_mode": {
    "name": "ipython",
    "version": 3
   },
   "file_extension": ".py",
   "mimetype": "text/x-python",
   "name": "python",
   "nbconvert_exporter": "python",
   "pygments_lexer": "ipython3",
   "version": "3.7.3"
  },
  "toc": {
   "base_numbering": 1,
   "nav_menu": {},
   "number_sections": true,
   "sideBar": true,
   "skip_h1_title": true,
   "title_cell": "Table of Contents",
   "title_sidebar": "Contents",
   "toc_cell": false,
   "toc_position": {},
   "toc_section_display": true,
   "toc_window_display": true
  },
  "varInspector": {
   "cols": {
    "lenName": 16,
    "lenType": 16,
    "lenVar": 40
   },
   "kernels_config": {
    "python": {
     "delete_cmd_postfix": "",
     "delete_cmd_prefix": "del ",
     "library": "var_list.py",
     "varRefreshCmd": "print(var_dic_list())"
    },
    "r": {
     "delete_cmd_postfix": ") ",
     "delete_cmd_prefix": "rm(",
     "library": "var_list.r",
     "varRefreshCmd": "cat(var_dic_list()) "
    }
   },
   "types_to_exclude": [
    "module",
    "function",
    "builtin_function_or_method",
    "instance",
    "_Feature"
   ],
   "window_display": false
  }
 },
 "nbformat": 4,
 "nbformat_minor": 2
}
