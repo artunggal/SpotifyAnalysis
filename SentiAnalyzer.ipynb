{
 "cells": [
  {
   "cell_type": "code",
   "execution_count": 6,
   "metadata": {},
   "outputs": [
    {
     "data": {
      "text/html": [
       "        <script type=\"text/javascript\">\n",
       "        window.PlotlyConfig = {MathJaxConfig: 'local'};\n",
       "        if (window.MathJax) {MathJax.Hub.Config({SVG: {font: \"STIX-Web\"}});}\n",
       "        if (typeof require !== 'undefined') {\n",
       "        require.undef(\"plotly\");\n",
       "        requirejs.config({\n",
       "            paths: {\n",
       "                'plotly': ['https://cdn.plot.ly/plotly-latest.min']\n",
       "            }\n",
       "        });\n",
       "        require(['plotly'], function(Plotly) {\n",
       "            window._Plotly = Plotly;\n",
       "        });\n",
       "        }\n",
       "        </script>\n",
       "        "
      ]
     },
     "metadata": {},
     "output_type": "display_data"
    }
   ],
   "source": [
    "import numpy as np\n",
    "import pandas as pd\n",
    "import spotipy\n",
    "import spotipy.util as util\n",
    "from spotipy.oauth2 import SpotifyClientCredentials\n",
    "import sys\n",
    "\n",
    "from vaderSentiment.vaderSentiment import SentimentIntensityAnalyzer\n",
    "\n",
    "from ipywidgets import widgets, interactive\n",
    "import plotly.figure_factory as ff\n",
    "import plotly.graph_objs as go\n",
    "from IPython.display import HTML\n",
    "from plotly.offline import init_notebook_mode, iplot\n",
    "init_notebook_mode(connected=True)\n",
    "\n",
    "from bs4 import BeautifulSoup\n",
    "import time\n",
    "from selenium.common.exceptions import StaleElementReferenceException\n",
    "from selenium import webdriver\n",
    "from selenium.webdriver.support.ui import WebDriverWait\n",
    "from selenium.webdriver.support import expected_conditions as EC\n",
    "from selenium.webdriver.common.by import By\n",
    "from selenium.common.exceptions import TimeoutException"
   ]
  },
  {
   "cell_type": "markdown",
   "metadata": {},
   "source": [
    "# Sentiment Analysis of Spotify's Top 50 of 2010\n",
    "\n",
    "Now comes another interesting part of this project - incorporating lyrical sentiment analysis into how we view a song. We all have experience where the music can compound the lyrics and give it a powerful effect. For the time being, we will start with the most popular songs of the past decade - is it possible that this is something that makes these songs so popular? \n",
    "\n",
    "So we will start by taking the file that was made from running the other notebook (SpotifyAudioFeatures)."
   ]
  },
  {
   "cell_type": "code",
   "execution_count": 7,
   "metadata": {},
   "outputs": [],
   "source": [
    "%run -i 'client_id_script.py'"
   ]
  },
  {
   "cell_type": "code",
   "execution_count": 66,
   "metadata": {},
   "outputs": [],
   "source": [
    "tens_df = pd.read_csv('top2010s.csv')"
   ]
  },
  {
   "cell_type": "markdown",
   "metadata": {},
   "source": [
    "However, because we are reading a csv, some of the columns that were once lists or numerical values are not strings... thus, we'll have to make some edits to change those back."
   ]
  },
  {
   "cell_type": "code",
   "execution_count": 70,
   "metadata": {},
   "outputs": [],
   "source": [
    "rsults = []\n",
    "for i in range(len(tens_df)):\n",
    "    result = [x.strip() for x in tens_df.iloc[i][\"Artists\"].replace(\"[\", \"\").replace(\"]\", \"\").replace(\"'\", \"\").split(\",\")]\n",
    "    rsults.append(result)\n",
    "tens_df[\"Artists\"] = rsults"
   ]
  },
  {
   "cell_type": "markdown",
   "metadata": {},
   "source": [
    "For our sentiment analysis, we will be using a package called VADER (Valence Aware Dictionary and sEntiment Reasoner). It is specifically geared toward uncovering sentiment in social media. This may not be the perfect sentiment analysis package, but this could be used to compare to another sentiment analysis tool in the future."
   ]
  },
  {
   "cell_type": "code",
   "execution_count": 9,
   "metadata": {},
   "outputs": [],
   "source": [
    "analyser = SentimentIntensityAnalyzer()"
   ]
  },
  {
   "cell_type": "code",
   "execution_count": 10,
   "metadata": {},
   "outputs": [],
   "source": [
    "def sentiment_analyzer_scores(sentence):\n",
    "    score = analyser.polarity_scores(sentence)\n",
    "    print(\"{:-<40} {}\".format(sentence, str(score)))"
   ]
  },
  {
   "cell_type": "markdown",
   "metadata": {},
   "source": [
    "For VADER, we can look at sentences (or even paragraphs) and see what proportion of the sentence is considered \"positive\", \"negative\", or \"neutral\" in sentiment. We will test this out with lyrics from the song 'Let it Go':"
   ]
  },
  {
   "cell_type": "code",
   "execution_count": 11,
   "metadata": {},
   "outputs": [
    {
     "name": "stdout",
     "output_type": "stream",
     "text": [
      "Let it go, let it go \n",
      " Can't hold it back anymore \n",
      " Let it go, let it go \n",
      " Turn away and slam the door {'neg': 0.106, 'neu': 0.894, 'pos': 0.0, 'compound': -0.3818}\n"
     ]
    }
   ],
   "source": [
    "sentiment_analyzer_scores(\"Let it go, let it go \\n Can't hold it back anymore \\n Let it go, let it go \\n Turn away and slam the door\")"
   ]
  },
  {
   "cell_type": "markdown",
   "metadata": {},
   "source": [
    "When we look at the entire phrase, we see that it's slightly negative, mostly neutral, and not positive at all. However, we can also break the sentence in half to see the difference between the two lines:"
   ]
  },
  {
   "cell_type": "code",
   "execution_count": 12,
   "metadata": {},
   "outputs": [
    {
     "name": "stdout",
     "output_type": "stream",
     "text": [
      "Let it go, let it go \n",
      " Turn away and slam the door {'neg': 0.191, 'neu': 0.809, 'pos': 0.0, 'compound': -0.3818}\n"
     ]
    }
   ],
   "source": [
    "sentiment_analyzer_scores(\"Let it go, let it go \\n Turn away and slam the door\")"
   ]
  },
  {
   "cell_type": "code",
   "execution_count": 82,
   "metadata": {},
   "outputs": [
    {
     "name": "stdout",
     "output_type": "stream",
     "text": [
      "Let it go, let it go \n",
      " Can't hold it back anymore {'neg': 0.0, 'neu': 1.0, 'pos': 0.0, 'compound': 0.0}\n"
     ]
    }
   ],
   "source": [
    "sentiment_analyzer_scores(\"Let it go, let it go \\n Can't hold it back anymore\")"
   ]
  },
  {
   "cell_type": "markdown",
   "metadata": {},
   "source": [
    "That gives us a basic look into how we will use the package."
   ]
  },
  {
   "cell_type": "markdown",
   "metadata": {},
   "source": [
    "## Web Scraping\n",
    "\n",
    "Unfortunately, the lyrics won't get themselves. I could have just manually google-searched every song for its lyrics, but that would be a lot of work, and it's cool to be able to find a way to automate the simple things in life with a script. We will take a look at my approach and how I came to finally getting all the lyrics."
   ]
  },
  {
   "cell_type": "markdown",
   "metadata": {},
   "source": [
    "### Testing... Google Search\n",
    "\n",
    "My first thought was: \"Oh, it would be nice if I could just google-search the song, and get the lyrics from the main page.\" I went ahead and tried that. To do this, you will need a few things:\n",
    "\n",
    "Selenium (Python package)\n",
    "BeautifulSoup (Python package)\n",
    "Chrome Driver\n",
    "\n",
    "When you have the first two downloaded and you have the path to where the chrome driver file is, you can run the script below (be sure to replace the file path)"
   ]
  },
  {
   "cell_type": "code",
   "execution_count": 14,
   "metadata": {},
   "outputs": [],
   "source": [
    "browser = webdriver.Chrome(\"../FEHeroes/chromedriver\")\n",
    "#gg = (\"https://gamepress.gg/feheroes/heroes\")\n",
    "#browser.get(gg)\n",
    "#respData = browser.page_source\n",
    "search_string = \"let+it+go+lyrics\"\n",
    "\n",
    "browser.get(\"https://www.google.com/search?q=\" + search_string)\n",
    "    #clickme = browser.find_element_by_xpath(\"//div[@class='hide-focus-ring pSO8Ic vk_arc']\")\n",
    "    #clickme = browser.find_element_by_xpath(\"//div[@aria-label='Show more']/div[@class='hide-focus-ring pSO8Ic vk_arc' and text()='Show more']\")\n",
    "    #clickme.click()\n",
    "    #with wait_for_page_load(browser):\n",
    "browser.find_element_by_xpath(\"//div[@class='hide-focus-ring pSO8Ic vk_arc']\").click()\n",
    "time.sleep(5)\n",
    "    #WebDriverWait(browser, 20).until(lambda browser: browser.execute_script(\"return document.readyState;\") == \"complete\")\n",
    "    #browser.find_element_by_xpath(\"//div[@aria-label='Show more']/div[@class='hide-focus-ring pSO8Ic vk_arc' and text()='Show more']\")\n",
    "matched_elements = browser.page_source\n",
    "\n",
    "browser.close()"
   ]
  },
  {
   "cell_type": "markdown",
   "metadata": {},
   "source": [
    "Running the above will get us the page, but we will need to make it parsable. Which is where BeautifulSoup comes in handy. \n",
    "\n",
    "After running the below cell, you may realize that it's difficult to try to find where the lyrics are on the page. It takes some looking into the structure of the html, but you will be able to find it, and when you do, you'll be able to get the lyrics."
   ]
  },
  {
   "cell_type": "code",
   "execution_count": 86,
   "metadata": {},
   "outputs": [],
   "source": [
    "nsoup = BeautifulSoup(matched_elements, 'html.parser')\n",
    "#nsoup.findAll('span', jsname = \"YS01Ge\")"
   ]
  },
  {
   "cell_type": "code",
   "execution_count": 84,
   "metadata": {},
   "outputs": [],
   "source": [
    "#nsoup.findAll('div', role = \"button\")"
   ]
  },
  {
   "cell_type": "code",
   "execution_count": 18,
   "metadata": {},
   "outputs": [
    {
     "data": {
      "text/plain": [
       "[<span jsname=\"YS01Ge\">The snow glows white on the mountain tonight</span>,\n",
       " <span jsname=\"YS01Ge\">Not a footprint to be seen</span>,\n",
       " <span jsname=\"YS01Ge\">A kingdom of isolation</span>,\n",
       " <span jsname=\"YS01Ge\">And it looks like I'm the queen</span>,\n",
       " <span jsname=\"YS01Ge\">The wind is howling like this swirling storm inside</span>,\n",
       " <span jsname=\"YS01Ge\">Couldn't keep it in, heaven knows I've tried</span>,\n",
       " <span jsname=\"YS01Ge\">Don't let them in, don't let them see</span>,\n",
       " <span jsname=\"YS01Ge\">Be the good girl you always have to be</span>,\n",
       " <span jsname=\"YS01Ge\">Conceal, don't feel, don't let them know</span>,\n",
       " <span jsname=\"YS01Ge\">Well, now they know</span>,\n",
       " <span jsname=\"YS01Ge\">Let it go, let it go</span>,\n",
       " <span jsname=\"YS01Ge\">Can't hold it back anymore</span>,\n",
       " <span jsname=\"YS01Ge\">Let it go, let it go</span>,\n",
       " <span jsname=\"YS01Ge\">Turn away and slam the door</span>,\n",
       " <span jsname=\"YS01Ge\">I don't care what they're going to say</span>,\n",
       " <span jsname=\"YS01Ge\">Let the storm rage on</span>,\n",
       " <span jsname=\"YS01Ge\">The cold never bothered me anyway</span>,\n",
       " <span jsname=\"YS01Ge\">Let it go, let it go</span>,\n",
       " <span jsname=\"YS01Ge\">Can't hold it back anymore</span>,\n",
       " <span jsname=\"YS01Ge\">Let it go, let it go</span>,\n",
       " <span jsname=\"YS01Ge\">Turn away and slam the door</span>,\n",
       " <span jsname=\"YS01Ge\">Let it go (go, go, go go, go go, go go, go, go, go go)</span>,\n",
       " <span jsname=\"YS01Ge\">Let it go</span>,\n",
       " <span jsname=\"YS01Ge\">Let it go</span>,\n",
       " <span jsname=\"YS01Ge\">Let it go</span>,\n",
       " <span jsname=\"YS01Ge\">It's funny how some distance makes</span>,\n",
       " <span jsname=\"YS01Ge\">It's funny how some distance makes everything seem small</span>,\n",
       " <span jsname=\"YS01Ge\">And the fears that once controlled me can't get to me at all</span>,\n",
       " <span jsname=\"YS01Ge\">It's time to see what I can do</span>,\n",
       " <span jsname=\"YS01Ge\">To test the limits and break through</span>,\n",
       " <span jsname=\"YS01Ge\">No right, no wrong, no rules for me</span>,\n",
       " <span jsname=\"YS01Ge\">I'm free</span>,\n",
       " <span jsname=\"YS01Ge\">Let it go, let it go</span>,\n",
       " <span jsname=\"YS01Ge\">I am one with the wind and sky</span>,\n",
       " <span jsname=\"YS01Ge\">Let it go, let it go</span>,\n",
       " <span jsname=\"YS01Ge\">You'll never see me cry</span>,\n",
       " <span jsname=\"YS01Ge\">Here I stand and here I stay</span>,\n",
       " <span jsname=\"YS01Ge\">Let the storm rage on</span>,\n",
       " <span jsname=\"YS01Ge\">My power flurries through the air into the ground</span>,\n",
       " <span jsname=\"YS01Ge\">My soul is spiraling in frozen fractals all around</span>,\n",
       " <span jsname=\"YS01Ge\">And one thought crystallizes like an icy blast</span>,\n",
       " <span jsname=\"YS01Ge\">I'm never going back, the past is in the past</span>,\n",
       " <span jsname=\"YS01Ge\">Let it go</span>,\n",
       " <span jsname=\"YS01Ge\">The cold never bothered me anyway</span>,\n",
       " <span jsname=\"YS01Ge\">Let it go, let it go</span>,\n",
       " <span jsname=\"YS01Ge\">And I'll rise like the break of dawn</span>,\n",
       " <span jsname=\"YS01Ge\">Let it go, let it go</span>,\n",
       " <span jsname=\"YS01Ge\">That perfect girl is gone</span>,\n",
       " <span jsname=\"YS01Ge\">Here I stand in the light of day</span>,\n",
       " <span jsname=\"YS01Ge\">Let the storm rage on</span>]"
      ]
     },
     "execution_count": 18,
     "metadata": {},
     "output_type": "execute_result"
    }
   ],
   "source": [
    "nsoup.findAll('span', jsname = \"YS01Ge\")"
   ]
  },
  {
   "cell_type": "markdown",
   "metadata": {},
   "source": [
    "We have the lyrics, so it works, right? Not so fast... unfortunately, if you look carefully at the lyrics, you'll notice a section that goes:\n",
    "\n",
    "<span jsname=\"YS01Ge\">It's funny how some distance makes</span>,  \n",
    "<span jsname=\"YS01Ge\">It's funny how some distance makes everything seem small</span>,\n",
    "\n",
    "If you look at the Google Search page, you'll notice that there's a button that the user has to click on to get all the lyrics. Before you click, you get the first line. But after you click on it, you get the second line. However, the page source shows both lines. This would take an extra step to try to figure out, because you'd have to be able to figure out a pattern for where this phenomenon occurs.\n",
    "\n",
    "We can test it with another song:"
   ]
  },
  {
   "cell_type": "code",
   "execution_count": 19,
   "metadata": {},
   "outputs": [],
   "source": [
    "browser = webdriver.Chrome(\"../FEHeroes/chromedriver\")\n",
    "#gg = (\"https://gamepress.gg/feheroes/heroes\")\n",
    "#browser.get(gg)\n",
    "#respData = browser.page_source\n",
    "searchi_string = \"we+are+young+featuring+janelle+monae+lyrics\"\n",
    "\n",
    "for i in range(1): \n",
    "    browser.get(\"https://www.google.com/search?q=\" + searchi_string)\n",
    "    elements = browser.page_source\n",
    "\n",
    "browser.close()"
   ]
  },
  {
   "cell_type": "code",
   "execution_count": 20,
   "metadata": {},
   "outputs": [
    {
     "data": {
      "text/plain": [
       "[<span jsname=\"YS01Ge\">Give me a second I</span>,\n",
       " <span jsname=\"YS01Ge\">I need to get my story straight</span>,\n",
       " <span jsname=\"YS01Ge\">My friends are in the bathroom getting higher than the Empire State</span>,\n",
       " <span jsname=\"YS01Ge\">My lover she's waiting for me just across the bar</span>,\n",
       " <span jsname=\"YS01Ge\">My seat's been taken by some sunglasses asking about a scar, and</span>,\n",
       " <span jsname=\"YS01Ge\">I know I gave it to you months ago</span>,\n",
       " <span jsname=\"YS01Ge\">I know you're trying to forget</span>,\n",
       " <span jsname=\"YS01Ge\">But between the drinks and subtle things</span>,\n",
       " <span jsname=\"YS01Ge\">The holes in my apologies, you know</span>,\n",
       " <span jsname=\"YS01Ge\">I'm trying hard to take it back</span>,\n",
       " <span jsname=\"YS01Ge\">So if by the time the bar closes</span>,\n",
       " <span jsname=\"YS01Ge\">And you feel like falling down, I'll carry you home</span>,\n",
       " <span jsname=\"YS01Ge\">Tonight, we are young</span>,\n",
       " <span jsname=\"YS01Ge\">So let's set the world on fire</span>,\n",
       " <span jsname=\"YS01Ge\">We can burn brighter than the sun</span>,\n",
       " <span jsname=\"YS01Ge\">Tonight, we are young</span>,\n",
       " <span jsname=\"YS01Ge\">So let's set the world on fire</span>,\n",
       " <span jsname=\"YS01Ge\">We can burn brighter than the sun</span>,\n",
       " <span jsname=\"YS01Ge\">Now I know that I'm not</span>,\n",
       " <span jsname=\"YS01Ge\">All that you got, I guess that I, I just thought</span>,\n",
       " <span jsname=\"YS01Ge\">Maybe we could find new ways</span>,\n",
       " <span jsname=\"YS01Ge\">Now I know that I'm not</span>,\n",
       " <span jsname=\"YS01Ge\">All that you got, I guess that I, I just thought</span>,\n",
       " <span jsname=\"YS01Ge\">Maybe we could find new ways to fall apart</span>,\n",
       " <span jsname=\"YS01Ge\">But our friends are back</span>,\n",
       " <span jsname=\"YS01Ge\">So let's raise a tab</span>,\n",
       " <span jsname=\"YS01Ge\">'Cause I found someone to carry me home</span>,\n",
       " <span jsname=\"YS01Ge\">Tonight, we are young</span>,\n",
       " <span jsname=\"YS01Ge\">So let's set the world on fire</span>,\n",
       " <span jsname=\"YS01Ge\">We can burn brighter than the sun</span>,\n",
       " <span jsname=\"YS01Ge\">Tonight, we are young</span>,\n",
       " <span jsname=\"YS01Ge\">So let's set the world on fire</span>,\n",
       " <span jsname=\"YS01Ge\">We can burn brighter than the sun</span>,\n",
       " <span jsname=\"YS01Ge\">Carry me home tonight (Na na na na na na)</span>,\n",
       " <span jsname=\"YS01Ge\">Just carry me home tonight (Na na na na na na)</span>,\n",
       " <span jsname=\"YS01Ge\">Carry me home tonight (Na na na na na na)</span>,\n",
       " <span jsname=\"YS01Ge\">Just carry me home tonight (Na na na na na na)</span>,\n",
       " <span jsname=\"YS01Ge\">The world is on my side</span>,\n",
       " <span jsname=\"YS01Ge\">I have no reason to run</span>,\n",
       " <span jsname=\"YS01Ge\">So will someone come and carry me home tonight</span>,\n",
       " <span jsname=\"YS01Ge\">The angels never arrived</span>,\n",
       " <span jsname=\"YS01Ge\">But I can hear the choir</span>,\n",
       " <span jsname=\"YS01Ge\">So will someone come and carry me home</span>,\n",
       " <span jsname=\"YS01Ge\">Tonight, we are young</span>,\n",
       " <span jsname=\"YS01Ge\">So let's set the world on fire</span>,\n",
       " <span jsname=\"YS01Ge\">We can burn brighter than the sun</span>,\n",
       " <span jsname=\"YS01Ge\">Tonight, we are young</span>,\n",
       " <span jsname=\"YS01Ge\">So let's set the world on fire</span>,\n",
       " <span jsname=\"YS01Ge\">We can burn brighter than the sun</span>,\n",
       " <span jsname=\"YS01Ge\">So if by the time the bar closes</span>,\n",
       " <span jsname=\"YS01Ge\">And you feel like falling down</span>,\n",
       " <span jsname=\"YS01Ge\">I'll carry you home tonight</span>]"
      ]
     },
     "execution_count": 20,
     "metadata": {},
     "output_type": "execute_result"
    }
   ],
   "source": [
    "soup = BeautifulSoup(elements, 'html.parser')\n",
    "soup.findAll('span', jsname = \"YS01Ge\")"
   ]
  },
  {
   "cell_type": "markdown",
   "metadata": {},
   "source": [
    "This one is even tougher, because instead of one line, it looks like it's a set of two lines that showcase the phenomenon. Thus, this won't work out that well for automation."
   ]
  },
  {
   "cell_type": "markdown",
   "metadata": {},
   "source": [
    "### Moving on to AZ Lyrics\n",
    "\n",
    "So what next? We will try AZ lyrics, a website that contains accessible lyrics of popular songs. We will try this with another song in our list:"
   ]
  },
  {
   "cell_type": "code",
   "execution_count": 21,
   "metadata": {},
   "outputs": [],
   "source": [
    "browser = webdriver.Chrome(\"../FEHeroes/chromedriver\")\n",
    "#gg = (\"https://gamepress.gg/feheroes/heroes\")\n",
    "#browser.get(gg)\n",
    "#respData = browser.page_source\n",
    "singer = \"shakira\"\n",
    "song = \"wakawakathistimeforafrica\"\n",
    "\n",
    "for i in range(1): \n",
    "    browser.get(\"https://www.azlyrics.com/lyrics/\" + singer + \"/\" + song + \".html\")\n",
    "    el = browser.page_source\n",
    "\n",
    "browser.close()"
   ]
  },
  {
   "cell_type": "code",
   "execution_count": 22,
   "metadata": {},
   "outputs": [],
   "source": [
    "so = BeautifulSoup(el, 'html.parser')"
   ]
  },
  {
   "cell_type": "markdown",
   "metadata": {},
   "source": [
    "Running the commented-out line will give us every text item in the page source. From here, we can parse through it to get our desired lyrics. \n",
    "\n",
    "Luckily, the page structure for all of the lyrics look quite similar. We will try this pattern below to see if we can get all of the lyrics"
   ]
  },
  {
   "cell_type": "code",
   "execution_count": 23,
   "metadata": {},
   "outputs": [],
   "source": [
    "#so.findAll(text = True)"
   ]
  },
  {
   "cell_type": "code",
   "execution_count": 24,
   "metadata": {},
   "outputs": [],
   "source": [
    "beg = so.findAll(text = True).index(' Usage of azlyrics.com content by any third-party lyrics provider is prohibited by our licensing agreement. Sorry about that. ')\n",
    "en = so.findAll(text = True).index(' MxM banner ')"
   ]
  },
  {
   "cell_type": "code",
   "execution_count": 88,
   "metadata": {},
   "outputs": [
    {
     "name": "stdout",
     "output_type": "stream",
     "text": [
      "I'm not afraid (I'm not afraid) To take a stand (to take a stand) Everybody (everybody) Come take my hand (come take my hand) We'll walk this road together, through the storm Whatever weather, cold or warm Just letting you know that you're not alone Holler if you feel like you've been down the same road (same road)  Yeah, it's been a ride I guess I had to, go to that place, to get to this one Now some of you, might still be in that place If you're trying to get out, just follow me I'll get you there  You can try and read my lyrics off of this paper before I lay 'em But you won't take the sting out these words before I say 'em 'Cause ain't no way I'mma let you stop me from causing mayhem When I say I'mma do something I do it I don't give a damn what you think I'm doing this for me, so fuck the world Feed it beans, it's gassed up, if it thinks it's stopping me I'mma be what I set out to be, without a doubt undoubtedly And all those who look down on me I'm tearing down your balcony No ifs, ands or buts, don't try to ask him why or how can he From \"Infinite\" down to the last \"Relapse\" album He's still shitting, whether he's on salary paid hourly Until he bows out or he shits his bowels out of him Whichever comes first, for better or worse He's married to the game, like a \"fuck you\" for Christmas His gift is a curse, forget the Earth, he's got the urge To pull his dick from the dirt, and fuck the whole universe  I'm not afraid (I'm not afraid) To take a stand (to take a stand) Everybody (everybody) Come take my hand (come take my hand) We'll walk this road together, through the storm Whatever weather, cold or warm Just letting you know that you're not alone Holler if you feel like you've been down the same road (same road)  Okay quit playing with the scissors and shit, and cut the crap I shouldn't have to rhyme these words in a rhythm for you to know it's a rap You said you was king, you lied through your teeth For that fuck your feelings Instead of getting crowned you're getting capped And to the fans, I'll never let you down again, I'm back I promise to never go back on that promise In fact let's be honest That last \"Relapse\" CD was \"ehh\" Perhaps I ran them accents into the ground Relax, I ain't going back to that now All I'm trying to say is get back, click-clack, blow 'Cause I ain't playing around There's a game called circle and I don't know how, I'm way too up to back down But I think I'm still trying to figure this crap out Thought I had it mapped out but I guess I didn't, this fucking black cloud Still follows me around but it's time to exorcise these demons These motherfuckers are doing jumping jacks now!  I'm not afraid (I'm not afraid) To take a stand (to take a stand) Everybody (everybody) Come take my hand (come take my hand) We'll walk this road together, through the storm Whatever weather, cold or warm Just letting you know that you're not alone Holler if you feel like you've been down the same road (same road)  And I just can't keep living this way So starting today, I'm breaking out of this cage I'm standing up, I'mma face my demons I'm manning up, I'mma hold my ground I've had enough, now I'm so fed up Time to put my life back together right now! (now)  It was my decision to get clean, I did it for me Admittedly, I probably did it subliminally For you, so I could come back a brand-new me you helped see me through And don't even realize what you did, 'cause believe me you I've been through the wringer, but they could do little to the middle finger I think I got a tear in my eye, I feel like the king of My world, haters can make like bees with no stingers And drop dead, no more beef lingers No more drama from now on, I wanna promise To focus solely on handling my responsibilities as a father So I solemnly swear to always treat this roof, like my daughters And raise it, you couldn't lift a single shingle on it! 'Cause the way I feel, I'm strong enough to go to the club Or the corner pub, and lift the whole liquor counter up 'Cause I'm raising the bar I'd shoot for the moon but I'm too busy gazing at stars I feel amazing and I'm...  I'm not afraid (I'm not afraid) To take a stand (to take a stand) Everybody (everybody) Come take my hand (come take my hand) We'll walk this road together, through the storm Whatever weather, cold or warm Just letting you know that you're not alone Holler if you feel like you've been down the same road (same road)   {'neg': 0.1, 'neu': 0.774, 'pos': 0.126, 'compound': 0.9146}\n"
     ]
    }
   ],
   "source": [
    "#so.findAll(text = True)[beg + 1:en].apply(strip(\"/n\"))\n",
    "lyr = [x.strip(\"\\n\") for x in so.findAll(text = True)[beg + 1:en]]\n",
    "sentiment_analyzer_scores(\" \".join(lyr))"
   ]
  },
  {
   "cell_type": "code",
   "execution_count": 29,
   "metadata": {},
   "outputs": [],
   "source": [
    "browser = webdriver.Chrome(\"../FEHeroes/chromedriver\")\n",
    "#gg = (\"https://gamepress.gg/feheroes/heroes\")\n",
    "#browser.get(gg)\n",
    "#respData = browser.page_source\n",
    "singer = \"xxxtentacion\"\n",
    "song = \"sad\"\n",
    "\n",
    "for i in range(1): \n",
    "    browser.get(\"https://www.azlyrics.com/lyrics/\" + singer + \"/\" + song + \".html\")\n",
    "    eles = browser.page_source\n",
    "\n",
    "browser.close()"
   ]
  },
  {
   "cell_type": "code",
   "execution_count": 89,
   "metadata": {},
   "outputs": [],
   "source": [
    "s = BeautifulSoup(eles, 'html.parser')\n",
    "#s.findAll(\"div\")[14]"
   ]
  },
  {
   "cell_type": "code",
   "execution_count": 31,
   "metadata": {},
   "outputs": [],
   "source": [
    "s.find('div', text = \"Yeah\")"
   ]
  },
  {
   "cell_type": "code",
   "execution_count": 32,
   "metadata": {},
   "outputs": [
    {
     "name": "stdout",
     "output_type": "stream",
     "text": [
      "Yeah  Who am I? Someone that's afraid to let go, uh You decide if you're ever gonna let me know (yeah) Suicide if you ever try to let go, uh I'm sad, I know, yeah, I'm sad, I know, yeah Who am I? Someone that's afraid to let go, uh You decide if you're ever gonna let me know (yeah) Suicide if you ever try to let go, uh I'm sad, I know, yeah, I'm sad, I know, yeah  I gave her everything She took my heart and left me lonely I think broken heart's contagious I won't fix, I'd rather weep I'm lost then I'm found But it's torture being in love I love when you're around But I fucking hate when you leave  Who am I? Someone that's afraid to let go, uh You decide if you're ever gonna let me know (yeah) Suicide if you ever try to let go, uh I'm sad, I know, yeah I'm sad, I know, yeah Who am I? Someone that's afraid to let go, uh You decide if you're ever gonna let me know (yeah) Suicide if you ever try to let go, uh I'm sad, I know, yeah I'm sad, I know, yeah  Who am I? Someone that's afraid to let go, uh You decide if you're ever gonna let me know (yeah) Suicide if you ever try to let go, uh I'm sad, I know, yeah I'm sad, I know, yeah Who am I? Someone that's afraid to let go, uh You decide if you're ever gonna let me know (yeah) Suicide if you ever try to let go, uh I'm sad, I know, yeah I'm sad, I know, yeah   {'neg': 0.263, 'neu': 0.62, 'pos': 0.117, 'compound': -0.9957}\n"
     ]
    }
   ],
   "source": [
    "begi = s.findAll(text = True).index(' Usage of azlyrics.com content by any third-party lyrics provider is prohibited by our licensing agreement. Sorry about that. ')\n",
    "endo = s.findAll(text = True).index(' MxM banner ')\n",
    "lyrim = [x.strip(\"\\n\") for x in s.findAll(text = True)[begi + 1:endo]]\n",
    "sentiment_analyzer_scores(\" \".join(lyrim))"
   ]
  },
  {
   "cell_type": "code",
   "execution_count": 34,
   "metadata": {},
   "outputs": [],
   "source": [
    "def azartistprep(artist):\n",
    "    if \"&\" in artist:\n",
    "        art, tist = artist.split(\"&\")\n",
    "        return art.lower().replace(\" \", \"\").replace(\".\", \"\")\n",
    "    if \"The\" in artist:\n",
    "        art, tist = artist.split(\"The\")\n",
    "        return tist.lower().replace(\" \", \"\").replace(\".\", \"\")\n",
    "    return artist.lower().replace(\" \", \"\").replace(\".\", \"\")\n",
    "\n",
    "def azlyricprep(song):\n",
    "    if \" - \" in song:\n",
    "        end = \"\"\n",
    "        a, b = song.split(\"-\", 1)\n",
    "        if a == \"Cheerleader\":\n",
    "            return \"cheerleaderfelixjaehnremix\"\n",
    "        if \"Remix\" in b:\n",
    "            c, d = b.split(\"Remix\")\n",
    "            end += c.lower().replace(\" \", \"\") + \"remix\"\n",
    "        a = a.lower().replace(\" \", \"\")\n",
    "        a += end\n",
    "        return a.replace(\"'\", \"\").replace(\"!\", \"\").replace(\".\", \"\")\n",
    "    if \"[\" in song:\n",
    "        a, b = song.split(\"[\", 1)\n",
    "        a = a.lower().replace(\"(\", \"\").replace(\")\", \"\").replace(\" \", \"\")\n",
    "        return a.replace(\"'\", \"\").replace(\"!\", \"\").replace(\".\", \"\")\n",
    "    if \"(feat.\" in song:\n",
    "        a, b = song.split(\"(feat.\", 1)\n",
    "        a = a.lower().replace(\" \", \"\")\n",
    "        return a.replace(\"'\", \"\").replace(\"!\", \"\").replace(\".\", \"\").replace(\"(\", \"\").replace(\")\", \"\")\n",
    "    else:\n",
    "        return song.lower().replace(\"'\", \"\").replace(\"!\", \"\").replace(\".\", \"\").replace(\"(\", \"\").replace(\")\", \"\").replace(\" \", \"\").replace(\"ñ\", \"n\")"
   ]
  },
  {
   "cell_type": "code",
   "execution_count": 35,
   "metadata": {},
   "outputs": [
    {
     "data": {
      "text/plain": [
       "'wakawakathistimeforafrica'"
      ]
     },
     "execution_count": 35,
     "metadata": {},
     "output_type": "execute_result"
    }
   ],
   "source": [
    "azlyricprep(\"Waka Waka (This Time for Africa) [The Official. (feat.)\")"
   ]
  },
  {
   "cell_type": "markdown",
   "metadata": {},
   "source": [
    "The two cells below incorporates all of the work and investigation that we did in relation to lyrics from AZ lyrics, allowing us to obtain the page sources for all the lyrics playlist, plus extract just the lyrics for every song."
   ]
  },
  {
   "cell_type": "code",
   "execution_count": 73,
   "metadata": {},
   "outputs": [],
   "source": [
    "sources = []\n",
    "\n",
    "browser = webdriver.Chrome(\"../FEHeroes/chromedriver\")\n",
    "#gg = (\"https://gamepress.gg/feheroes/heroes\")\n",
    "#browser.get(gg)\n",
    "#respData = browser.page_source\n",
    "\n",
    "for index, song in tens_df.iterrows():\n",
    "    singer = azartistprep(song[\"Artists\"][0])\n",
    "    song = azlyricprep(song[\"Name\"])\n",
    "    browser.get(\"https://www.azlyrics.com/lyrics/\" + singer + \"/\" + song + \".html\")\n",
    "    sources.append(browser.page_source)\n",
    "    time.sleep(10)\n",
    "\n",
    "browser.close()"
   ]
  },
  {
   "cell_type": "code",
   "execution_count": 76,
   "metadata": {},
   "outputs": [],
   "source": [
    "lyrics = []\n",
    "for source in sources:\n",
    "    so = BeautifulSoup(source, 'html.parser')\n",
    "    beg = so.findAll(text = True).index(' Usage of azlyrics.com content by any third-party lyrics provider is prohibited by our licensing agreement. Sorry about that. ')\n",
    "    en = so.findAll(text = True).index(' MxM banner ')\n",
    "    lyr = [x.strip(\"\\n\") for x in so.findAll(text = True)[beg + 1:en]]\n",
    "    lyrics.append(lyr)"
   ]
  },
  {
   "cell_type": "markdown",
   "metadata": {},
   "source": [
    "## Sentiment Analysis"
   ]
  },
  {
   "cell_type": "code",
   "execution_count": 93,
   "metadata": {},
   "outputs": [],
   "source": [
    "def sentiment_scores(sentence): \n",
    "  \n",
    "    # Create a SentimentIntensityAnalyzer object. \n",
    "    sid_obj = SentimentIntensityAnalyzer() \n",
    "  \n",
    "    # polarity_scores method of SentimentIntensityAnalyzer \n",
    "    # oject gives a sentiment dictionary. \n",
    "    # which contains pos, neg, neu, and compound scores. \n",
    "    sentiment_dict = sid_obj.polarity_scores(\" \".join(sentence))\n",
    "    return sentiment_dict\n",
    "    \n",
    "#    print(\"Overall sentiment dictionary is : \", sentiment_dict) \n",
    "#    print(\"sentence was rated as \", sentiment_dict['neg']*100, \"% Negative\") \n",
    "#    print(\"sentence was rated as \", sentiment_dict['neu']*100, \"% Neutral\") \n",
    "#    print(\"sentence was rated as \", sentiment_dict['pos']*100, \"% Positive\") "
   ]
  },
  {
   "cell_type": "code",
   "execution_count": 94,
   "metadata": {},
   "outputs": [
    {
     "name": "stdout",
     "output_type": "stream",
     "text": [
      "{'neg': 0.052, 'neu': 0.799, 'pos': 0.149, 'compound': 0.9919}\n",
      "{'neg': 0.144, 'neu': 0.723, 'pos': 0.133, 'compound': -0.2755}\n",
      "{'neg': 0.099, 'neu': 0.825, 'pos': 0.076, 'compound': -0.2287}\n",
      "{'neg': 0.088, 'neu': 0.737, 'pos': 0.175, 'compound': 0.9891}\n",
      "{'neg': 0.05, 'neu': 0.764, 'pos': 0.186, 'compound': 0.9984}\n",
      "{'neg': 0.093, 'neu': 0.762, 'pos': 0.145, 'compound': 0.9938}\n",
      "{'neg': 0.066, 'neu': 0.654, 'pos': 0.28, 'compound': 0.9982}\n",
      "{'neg': 0.017, 'neu': 0.744, 'pos': 0.239, 'compound': 0.9921}\n",
      "{'neg': 0.157, 'neu': 0.633, 'pos': 0.21, 'compound': 0.9933}\n",
      "{'neg': 0.289, 'neu': 0.621, 'pos': 0.09, 'compound': -0.9958}\n",
      "{'neg': 0.223, 'neu': 0.69, 'pos': 0.087, 'compound': -0.9948}\n",
      "{'neg': 0.215, 'neu': 0.735, 'pos': 0.05, 'compound': -0.9982}\n",
      "{'neg': 0.077, 'neu': 0.822, 'pos': 0.101, 'compound': 0.8934}\n",
      "{'neg': 0.021, 'neu': 0.772, 'pos': 0.207, 'compound': 0.9993}\n",
      "{'neg': 0.041, 'neu': 0.812, 'pos': 0.147, 'compound': 0.9905}\n",
      "{'neg': 0.066, 'neu': 0.688, 'pos': 0.246, 'compound': 0.9953}\n",
      "{'neg': 0.023, 'neu': 0.89, 'pos': 0.087, 'compound': 0.9495}\n",
      "{'neg': 0.024, 'neu': 0.702, 'pos': 0.275, 'compound': 0.9988}\n",
      "{'neg': 0.039, 'neu': 0.745, 'pos': 0.216, 'compound': 0.9988}\n",
      "{'neg': 0.263, 'neu': 0.62, 'pos': 0.117, 'compound': -0.9957}\n",
      "{'neg': 0.048, 'neu': 0.725, 'pos': 0.227, 'compound': 0.9974}\n",
      "{'neg': 0.025, 'neu': 0.859, 'pos': 0.115, 'compound': 0.9926}\n",
      "{'neg': 0.054, 'neu': 0.829, 'pos': 0.117, 'compound': 0.8331}\n",
      "{'neg': 0.119, 'neu': 0.736, 'pos': 0.145, 'compound': 0.7321}\n",
      "{'neg': 0.052, 'neu': 0.81, 'pos': 0.138, 'compound': 0.9863}\n",
      "{'neg': 0.129, 'neu': 0.79, 'pos': 0.081, 'compound': -0.9867}\n",
      "{'neg': 0.074, 'neu': 0.803, 'pos': 0.123, 'compound': 0.9558}\n",
      "{'neg': 0.156, 'neu': 0.651, 'pos': 0.193, 'compound': 0.9302}\n",
      "{'neg': 0.241, 'neu': 0.612, 'pos': 0.147, 'compound': -0.9918}\n",
      "{'neg': 0.03, 'neu': 0.931, 'pos': 0.039, 'compound': 0.7762}\n",
      "{'neg': 0.175, 'neu': 0.774, 'pos': 0.051, 'compound': -0.9986}\n",
      "{'neg': 0.019, 'neu': 0.877, 'pos': 0.104, 'compound': 0.9643}\n",
      "{'neg': 0.028, 'neu': 0.956, 'pos': 0.016, 'compound': -0.4215}\n",
      "{'neg': 0.051, 'neu': 0.949, 'pos': 0.0, 'compound': -0.9347}\n",
      "{'neg': 0.089, 'neu': 0.618, 'pos': 0.293, 'compound': 0.9992}\n",
      "{'neg': 0.011, 'neu': 0.705, 'pos': 0.284, 'compound': 0.999}\n",
      "{'neg': 0.018, 'neu': 0.903, 'pos': 0.078, 'compound': 0.9918}\n",
      "{'neg': 0.028, 'neu': 0.904, 'pos': 0.067, 'compound': 0.9726}\n",
      "{'neg': 0.02, 'neu': 0.787, 'pos': 0.193, 'compound': 0.9965}\n",
      "{'neg': 0.152, 'neu': 0.728, 'pos': 0.12, 'compound': -0.9804}\n",
      "{'neg': 0.031, 'neu': 0.755, 'pos': 0.213, 'compound': 0.9982}\n",
      "{'neg': 0.061, 'neu': 0.882, 'pos': 0.057, 'compound': -0.7329}\n",
      "{'neg': 0.052, 'neu': 0.851, 'pos': 0.097, 'compound': 0.8605}\n",
      "{'neg': 0.058, 'neu': 0.835, 'pos': 0.107, 'compound': 0.9775}\n",
      "{'neg': 0.078, 'neu': 0.768, 'pos': 0.153, 'compound': 0.987}\n",
      "{'neg': 0.16, 'neu': 0.711, 'pos': 0.128, 'compound': -0.9897}\n",
      "{'neg': 0.031, 'neu': 0.712, 'pos': 0.257, 'compound': 0.9965}\n",
      "{'neg': 0.101, 'neu': 0.715, 'pos': 0.184, 'compound': 0.9924}\n",
      "{'neg': 0.146, 'neu': 0.675, 'pos': 0.179, 'compound': 0.9794}\n",
      "{'neg': 0.1, 'neu': 0.774, 'pos': 0.126, 'compound': 0.9146}\n"
     ]
    }
   ],
   "source": [
    "for x in lyrics:\n",
    "    print(sentiment_scores(x))"
   ]
  },
  {
   "cell_type": "code",
   "execution_count": 78,
   "metadata": {},
   "outputs": [
    {
     "data": {
      "text/plain": [
       "{'neg': 0.272, 'neu': 0.728, 'pos': 0.0, 'compound': -0.5216}"
      ]
     },
     "execution_count": 78,
     "metadata": {},
     "output_type": "execute_result"
    }
   ],
   "source": [
    "sentiment_scores(lyrics[0][12])"
   ]
  },
  {
   "cell_type": "markdown",
   "metadata": {},
   "source": [
    "## Future Ideas for Analysis\n",
    "\n",
    "In the context of comparing sentiment of lyrics to audio features, there is another avenue that can be taken, which may appear in a future update:\n",
    "\n",
    "* Take genres and audio features of genres and compare to lyrical sentiment - see if there is a relationship between lyrical sentiment and audio features for genres.\n",
    "* A deep dive into audio features for specific genres/artists - see if a model can be trained to predict for genre of an artist based on audio features\n",
    "* Build personal sentiment analyzer and compare to Vader (will require lots of computing power to train model...)"
   ]
  },
  {
   "cell_type": "code",
   "execution_count": null,
   "metadata": {},
   "outputs": [],
   "source": []
  }
 ],
 "metadata": {
  "kernelspec": {
   "display_name": "Python 3",
   "language": "python",
   "name": "python3"
  },
  "language_info": {
   "codemirror_mode": {
    "name": "ipython",
    "version": 3
   },
   "file_extension": ".py",
   "mimetype": "text/x-python",
   "name": "python",
   "nbconvert_exporter": "python",
   "pygments_lexer": "ipython3",
   "version": "3.7.3"
  },
  "toc": {
   "base_numbering": 1,
   "nav_menu": {},
   "number_sections": true,
   "sideBar": true,
   "skip_h1_title": true,
   "title_cell": "Table of Contents",
   "title_sidebar": "Contents",
   "toc_cell": false,
   "toc_position": {},
   "toc_section_display": true,
   "toc_window_display": true
  },
  "varInspector": {
   "cols": {
    "lenName": 16,
    "lenType": 16,
    "lenVar": 40
   },
   "kernels_config": {
    "python": {
     "delete_cmd_postfix": "",
     "delete_cmd_prefix": "del ",
     "library": "var_list.py",
     "varRefreshCmd": "print(var_dic_list())"
    },
    "r": {
     "delete_cmd_postfix": ") ",
     "delete_cmd_prefix": "rm(",
     "library": "var_list.r",
     "varRefreshCmd": "cat(var_dic_list()) "
    }
   },
   "types_to_exclude": [
    "module",
    "function",
    "builtin_function_or_method",
    "instance",
    "_Feature"
   ],
   "window_display": false
  }
 },
 "nbformat": 4,
 "nbformat_minor": 2
}
